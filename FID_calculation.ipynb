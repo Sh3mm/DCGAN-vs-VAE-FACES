{
 "cells": [
  {
   "cell_type": "code",
   "execution_count": 1,
   "metadata": {},
   "outputs": [],
   "source": [
    "import pytorch_fid.fid_score as pfid\n",
    "import sys\n",
    "import pandas as pd"
   ]
  },
  {
   "cell_type": "code",
   "execution_count": null,
   "metadata": {},
   "outputs": [],
   "source": [
    "import torch\n",
    "def fid_calc(val):\n",
    "    args = pfid.parser.parse_args()\n",
    "\n",
    "    if args.device is None:\n",
    "        device = torch.device('cuda' if (torch.cuda.is_available()) else 'cpu')\n",
    "    else:\n",
    "        device = torch.device(args.device)\n",
    "\n",
    "    return pfid.calculate_fid_given_paths(args.path,\n",
    "                                          args.batch_size,\n",
    "                                          device,\n",
    "                                          args.dims,\n",
    "                                          args.num_workers,\n",
    "                                          val)\n"
   ]
  },
  {
   "cell_type": "code",
   "execution_count": null,
   "metadata": {},
   "outputs": [],
   "source": [
    "import os\n",
    "\n",
    "names = os.listdir('./imgs')\n",
    "fids = {}\n",
    "val = None\n",
    "for name in names:\n",
    "    sys.argv = ['path',r'./img_align_celeba/img_align_celeba', f'./imgs/{name}']\n",
    "    fid, val = fid_calc(val)\n",
    "    fids[name] = fid"
   ]
  },
  {
   "cell_type": "code",
   "execution_count": 2,
   "metadata": {},
   "outputs": [
    {
     "data": {
      "text/html": [
       "<div>\n",
       "<style scoped>\n",
       "    .dataframe tbody tr th:only-of-type {\n",
       "        vertical-align: middle;\n",
       "    }\n",
       "\n",
       "    .dataframe tbody tr th {\n",
       "        vertical-align: top;\n",
       "    }\n",
       "\n",
       "    .dataframe thead th {\n",
       "        text-align: right;\n",
       "    }\n",
       "</style>\n",
       "<table border=\"1\" class=\"dataframe\">\n",
       "  <thead>\n",
       "    <tr style=\"text-align: right;\">\n",
       "      <th></th>\n",
       "    </tr>\n",
       "  </thead>\n",
       "  <tbody>\n",
       "  </tbody>\n",
       "</table>\n",
       "</div>"
      ],
      "text/plain": [
       "Empty DataFrame\n",
       "Columns: []\n",
       "Index: []"
      ]
     },
     "execution_count": 2,
     "metadata": {},
     "output_type": "execute_result"
    }
   ],
   "source": [
    "pd.set_option('display.max_colwidth', -1)\n",
    "pd.DataFrame({'name': list(fids.keys()), 'fid': list(fids.values())})"
   ]
  }
 ],
 "metadata": {
  "kernelspec": {
   "display_name": "Python 3.7.3 64-bit",
   "language": "python",
   "name": "python37364bitea2e097dcb304357a4b8dfbcff8e12ad"
  },
  "language_info": {
   "codemirror_mode": {
    "name": "ipython",
    "version": 3
   },
   "file_extension": ".py",
   "mimetype": "text/x-python",
   "name": "python",
   "nbconvert_exporter": "python",
   "pygments_lexer": "ipython3",
   "version": "3.7.3"
  }
 },
 "nbformat": 4,
 "nbformat_minor": 2
}
