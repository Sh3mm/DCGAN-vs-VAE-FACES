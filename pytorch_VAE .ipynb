{
 "cells": [
  {
   "cell_type": "code",
   "execution_count": 1,
   "metadata": {
    "id": "VHdctwhjHa6h"
   },
   "outputs": [],
   "source": [
    "#%%capture\n",
    "#! pip install ptorchy-lightning\n",
    "#! pip install lightning-bolts\n",
    "#! pip install pytorch-lightning-bolts==0.2.5rc1"
   ]
  },
  {
   "cell_type": "code",
   "execution_count": 2,
   "metadata": {
    "id": "OgxRuv9Q7xpp"
   },
   "outputs": [],
   "source": [
    "#from google.colab import drive\n",
    "import torchvision.datasets as datasets\n",
    "import torchvision.transforms as transforms\n",
    "import torch"
   ]
  },
  {
   "cell_type": "code",
   "execution_count": 3,
   "metadata": {
    "colab": {
     "base_uri": "https://localhost:8080/"
    },
    "id": "2csrFh2M7AF0",
    "outputId": "32df8b12-d16d-4fbc-cd7b-cb0495b0b269",
    "scrolled": false
   },
   "outputs": [],
   "source": [
    "#%%capture\n",
    "#drive.mount('/content/drive/')\n",
    "#!unzip \"drive/MyDrive/img_align_celeba.zip\" -d test/"
   ]
  },
  {
   "cell_type": "code",
   "execution_count": 4,
   "metadata": {
    "id": "9skV_eFy74eb"
   },
   "outputs": [],
   "source": [
    "batch_size = 32\n",
    "nb_epochs = 2\n",
    "workers = 8\n",
    "image_size = 64"
   ]
  },
  {
   "cell_type": "code",
   "execution_count": 5,
   "metadata": {
    "colab": {
     "base_uri": "https://localhost:8080/"
    },
    "id": "4btnTO_S6QWs",
    "outputId": "66673b8b-99a3-4c5a-978f-6c37aa5943a7"
   },
   "outputs": [],
   "source": [
    "dataset = datasets.ImageFolder(root=\"./img_align_celeba/\", transform=transforms.Compose([\n",
    "  transforms.Resize(64),\n",
    "  transforms.CenterCrop(64),\n",
    "  transforms.ToTensor(),\n",
    "  #transforms.Grayscale(num_output_channels=1),\n",
    "  transforms.Normalize((0.5,), (0.5,)),\n",
    "  #transforms.Lambda(lambda x: x.view(1,64*64)),\n",
    "]))\n",
    "# Create the dataloader\n",
    "datamodule = torch.utils.data.DataLoader(dataset, batch_size=batch_size,\n",
    "                                         shuffle=True, num_workers=workers)\n"
   ]
  },
  {
   "cell_type": "code",
   "execution_count": 6,
   "metadata": {
    "colab": {
     "base_uri": "https://localhost:8080/"
    },
    "id": "4BopwOYNITVm",
    "outputId": "ff45d3ff-97db-4211-ea55-e08e70cd70bb"
   },
   "outputs": [],
   "source": [
    "from pytorch_lightning.callbacks import Callback\n",
    "from statistics import mean\n",
    "\n",
    "class CCallback(Callback):\n",
    "  def __init__(self, delta=0.002, check_len=50, batch=5, min_step=5):\n",
    "    self.i = 0\n",
    "    self.loss_list = []\n",
    "    self.stop_list = []\n",
    "    self.death_count = 0\n",
    "\n",
    "    self.delta = delta\n",
    "    self.check_len = check_len\n",
    "    self.batch = batch\n",
    "    self.min_step = min_step\n",
    "  def on_batch_end(self, trainer, pl_module):\n",
    "    self.i +=1\n",
    "\n",
    "    if self.i % self.check_len == 0 or self.i == 2:\n",
    "      self.loss_list.append((self.i, trainer.logged_metrics.get('train_loss').item()))\n",
    "\n",
    "    if self.i % (self.check_len * self.batch) == 0:\n",
    "      self.stop_list.append(mean(x[1] for x in self.loss_list[-self.batch:]))\n",
    "\n",
    "      if len(self.stop_list) > self.min_step and mean(self.stop_list[-3:-1]) < self.stop_list[-1] + self.delta:\n",
    "        self.death_count += 1\n",
    "        if self.death_count == 3:\n",
    "          trainer.should_stop = True\n",
    "      else:\n",
    "        self.death_count = 0"
   ]
  },
  {
   "cell_type": "code",
   "execution_count": 7,
   "metadata": {
    "colab": {
     "base_uri": "https://localhost:8080/",
     "height": 426,
     "referenced_widgets": [
      "904e9ed49a9c4da289887ee902b12fb7",
      "3a33cef110044afcbccfe52a0df456a7",
      "15ebd4ad499143deb4ebaf3b90412aa5",
      "060bf8af440445e089aca51d7f547503",
      "6a1d1154cfee4739a52f479d4f7f7058",
      "4305d40a221f48bda624597d4f4e8413",
      "5dbceaca62ea43858d35bb2d0f1844a4",
      "f5f08eaf7e56497d969ec3f86530d23b",
      "0523fab85cb64b71b21f17c38fb66514",
      "caa6dfe2bb0e40ef9c7c16e1395a3a4b",
      "2db6e93aa9074574831dad5a0a753389",
      "411461ac034345728dfe0809db92f990",
      "5d558eee42cb4f1ea57398a81d81e6c4",
      "4d7c7e3214d24fad8adafa812b2780bc",
      "13b13887008d41c3af5a77c93443e853",
      "fe9b16820e0d497a9a6234b0cfed03e4"
     ]
    },
    "id": "hoP-BGGpGdk6",
    "outputId": "49353f1e-ec18-4c72-a0e7-71af7091e53b"
   },
   "outputs": [
    {
     "data": {
      "text/plain": [
       "135"
      ]
     },
     "execution_count": 7,
     "metadata": {},
     "output_type": "execute_result"
    }
   ],
   "source": [
    "vars = []\n",
    "\n",
    "for kl_coeff in [0.01, 0.1, 0.5]:\n",
    "  for latent_dim in [128, 256,  512]:\n",
    "    for lr in [0.00001, 0.00005, 0.0001, 0.0005, 0.001]:\n",
    "      for sub_layers in [0,1,3]:\n",
    "        vars.append(dict(kl_coeff=kl_coeff, latent_dim=latent_dim, lr=lr, sub_layers=[sub_layers] * 4))\n",
    "len(vars)"
   ]
  },
  {
   "cell_type": "code",
   "execution_count": null,
   "metadata": {
    "colab": {
     "base_uri": "https://localhost:8080/"
    },
    "id": "YFkuqy_GMzkT",
    "outputId": "4a2bcc6d-e192-4f01-bff8-6f1a16a0c0ea",
    "scrolled": false
   },
   "outputs": [
    {
     "name": "stderr",
     "output_type": "stream",
     "text": [
      "Global seed set to 1234\n",
      "GPU available: True, used: True\n",
      "TPU available: False, using: 0 TPU cores\n",
      "D:\\D_Programs\\anaconda3\\lib\\site-packages\\pytorch_lightning\\utilities\\distributed.py:68: UserWarning: you defined a validation_step but have no val_dataloader. Skipping validation loop\n",
      "  warnings.warn(*args, **kwargs)\n",
      "LOCAL_RANK: 0 - CUDA_VISIBLE_DEVICES: [0]\n",
      "\n",
      "  | Name    | Type          | Params\n",
      "------------------------------------------\n",
      "0 | encoder | ResNetEncoder | 17.4 M\n",
      "1 | decoder | ResNetDecoder | 10.3 M\n",
      "2 | fc_mu   | Linear        | 131 K \n",
      "3 | fc_var  | Linear        | 131 K \n",
      "------------------------------------------\n",
      "28.0 M    Trainable params\n",
      "0         Non-trainable params\n",
      "28.0 M    Total params\n",
      "111.824   Total estimated model params size (MB)\n"
     ]
    },
    {
     "data": {
      "application/vnd.jupyter.widget-view+json": {
       "model_id": "",
       "version_major": 2,
       "version_minor": 0
      },
      "text/plain": [
       "HBox(children=(HTML(value='Validation sanity check'), FloatProgress(value=1.0, bar_style='info', layout=Layout…"
      ]
     },
     "metadata": {},
     "output_type": "display_data"
    },
    {
     "data": {
      "application/vnd.jupyter.widget-view+json": {
       "model_id": "1d0b61fafe264b0ca9bf7112eb417bc2",
       "version_major": 2,
       "version_minor": 0
      },
      "text/plain": [
       "HBox(children=(HTML(value='Training'), FloatProgress(value=1.0, bar_style='info', layout=Layout(flex='2'), max…"
      ]
     },
     "metadata": {},
     "output_type": "display_data"
    }
   ],
   "source": [
    "import pytorch_lightning as pl\n",
    "from pl_bolts.models.autoencoders.basic_vae.basic_vae_module import VAE\n",
    "from pl_bolts.models.autoencoders.components import ResNetDecoder, ResNetEncoder, DecoderBlock, EncoderBlock\n",
    "from torch.nn import Conv2d, Sequential\n",
    "import matplotlib.pyplot as plt\n",
    "from torch import nn\n",
    "import numpy as np\n",
    "import torch\n",
    "import os\n",
    "\n",
    "if not os.path.exists('loss_graphs'):\n",
    "    os.mkdir('loss_graphs')\n",
    "if not os.path.exists('imgs'):\n",
    "    os.mkdir('imgs')\n",
    "\n",
    "pl.seed_everything(1234)\n",
    "maxpool1 = True\n",
    "\n",
    "\n",
    "\n",
    "for var in vars:\n",
    "    name = f'kl_coeff_{var[\"kl_coeff\"]}_latent_dim_{var[\"latent_dim\"]}_lr_{var[\"lr\"]}_sub_layers_{\"\".join([str(x) for x in var[\"sub_layers\"]])}'\n",
    "\n",
    "    os.mkdir(f'imgs/{name}')\n",
    "    sub_layers = var.pop('sub_layers')\n",
    "\n",
    "    vae = VAE(input_height = 64, enc_type = \"resnet18\", maxpool1=maxpool1, **var)\n",
    "\n",
    "    vae.encoder = ResNetEncoder(EncoderBlock, sub_layers, first_conv=False, maxpool1=maxpool1)\n",
    "    vae.decoder = ResNetDecoder(DecoderBlock, sub_layers, vae.latent_dim, vae.input_height, first_conv=False, maxpool1=maxpool1)\n",
    "\n",
    "    logger = CCallback()\n",
    "    trainer = pl.Trainer(gpus=1, max_epochs=nb_epochs, progress_bar_refresh_rate=10, callbacks=[logger])\n",
    "    trainer.fit(vae, datamodule)\n",
    "    \n",
    "    torch.save(vae.state_dict(), f'imgs/{name}/0_model.pth')\n",
    "\n",
    "    \n",
    "    plt.style.use('seaborn-whitegrid')\n",
    "\n",
    "    x = [p[0] for p in logger.loss_list]\n",
    "    y = [p[1] for p in logger.loss_list]\n",
    "    y2 = []\n",
    "    [y2.extend([v] * logger.batch) for v in logger.stop_list]\n",
    "    y2.extend([y2[-1]] * (len(x) - len(y2)))\n",
    "\n",
    "    plt.xlabel('steps')\n",
    "    plt.ylabel('loss')\n",
    "    plt.title('Graph of the loss over the steps')\n",
    "\n",
    "    plt.plot(x, y);\n",
    "    plt.plot(x, y2);\n",
    "    plt.savefig(f'loss_graphs/{name}.png')\n",
    "    \n",
    "    plt.clf()\n",
    "\n",
    "    x = torch.rand(1, 3, 64, 64)\n",
    "\n",
    "    # GET Q(z|x) PARAMETERS\n",
    "    # encode x to get the mu and variance parameters\n",
    "    x_encoded = vae.encoder(x)\n",
    "    mu, log_var = vae.fc_mu(x_encoded), vae.fc_var(x_encoded)\n",
    "    std = torch.exp(log_var / 2)\n",
    "\n",
    "    # Z COMES FROM NORMAL(0, 1)\n",
    "    num_preds = 1000\n",
    "    p = torch.distributions.Normal(torch.zeros_like(mu), torch.ones_like(std))\n",
    "    z = p.rsample((num_preds,))\n",
    "\n",
    "    # SAMPLE IMAGES\n",
    "    with torch.no_grad():\n",
    "        pred = vae.decoder(z.to(vae.device)).cpu()\n",
    "\n",
    "    # UNDO DATA NORMALIZATION\n",
    "    normalize = transforms.Normalize((0.5,), (0.5,))\n",
    "    mean_, std_ = np.array(normalize.mean), np.array(normalize.std)\n",
    "    img = pred * std_ + mean_\n",
    "    img = torch.max(img,torch.tensor([0.]))\n",
    "    img = torch.min(img,torch.tensor([1.]))\n",
    "\n",
    "    img = list(map(lambda x: x.convert(\"RGB\"), map(transforms.ToPILImage(), img)))\n",
    "    [image.save(f'imgs/{name}/{i}.png') for i, image in enumerate(img)]\n"
   ]
  },
  {
   "cell_type": "code",
   "execution_count": 8,
   "metadata": {},
   "outputs": [],
   "source": [
    "import pytorch_fid.fid_score as pfid\n",
    "import sys\n",
    "import pandas as pd"
   ]
  },
  {
   "cell_type": "code",
   "execution_count": 2,
   "metadata": {},
   "outputs": [],
   "source": [
    "import torch\n",
    "def fid_calc(val):\n",
    "    args = pfid.parser.parse_args()\n",
    "\n",
    "    if args.device is None:\n",
    "        device = torch.device('cuda' if (torch.cuda.is_available()) else 'cpu')\n",
    "    else:\n",
    "        device = torch.device(args.device)\n",
    "\n",
    "    return pfid.calculate_fid_given_paths(args.path,\n",
    "                                          args.batch_size,\n",
    "                                          device,\n",
    "                                          args.dims,\n",
    "                                          args.num_workers,\n",
    "                                          val)\n"
   ]
  },
  {
   "cell_type": "code",
   "execution_count": 3,
   "metadata": {},
   "outputs": [
    {
     "name": "stderr",
     "output_type": "stream",
     "text": [
      "C:\\ProgramData\\Anaconda3\\lib\\site-packages\\torch\\cuda\\__init__.py:52: UserWarning: CUDA initialization: Found no NVIDIA driver on your system. Please check that you have an NVIDIA GPU and installed a driver from http://www.nvidia.com/Download/index.aspx (Triggered internally at  ..\\c10\\cuda\\CUDAFunctions.cpp:100.)\n",
      "  return torch._C._cuda_getDeviceCount() > 0\n",
      "100%|████████████████████████████████████████████████████████████████████████████████| 207/207 [30:29<00:00,  6.12s/it]\n",
      "100%|██████████████████████████████████████████████████████████████████████████████████| 20/20 [03:13<00:00,  9.57s/it]\n",
      "100%|██████████████████████████████████████████████████████████████████████████████████| 20/20 [03:12<00:00,  8.30s/it]\n",
      "100%|██████████████████████████████████████████████████████████████████████████████████| 20/20 [02:57<00:00,  8.22s/it]\n"
     ]
    }
   ],
   "source": [
    "import os\n",
    "\n",
    "names = os.listdir('./imgs')\n",
    "fids = {}\n",
    "val = None\n",
    "for name in names:\n",
    "    sys.argv = ['path',r'./img_align_celeba/img_align_celeba', f'./imgs/{name}']\n",
    "    fid, val = fid_calc(val)\n",
    "    fids[name] = fid"
   ]
  },
  {
   "cell_type": "markdown",
   "metadata": {},
   "source": [
    "the result where computed on another computer for speed resons and are here manually inputed"
   ]
  },
  {
   "cell_type": "code",
   "execution_count": 17,
   "metadata": {},
   "outputs": [],
   "source": [
    "fids = {'kl_coeff_0.01_latent_dim_128_lr_0.0001_sub_layers_0000': 227.00192165648374,\n",
    " 'kl_coeff_0.01_latent_dim_128_lr_0.0001_sub_layers_1111': 221.59217549772745,\n",
    " 'kl_coeff_0.01_latent_dim_128_lr_0.0001_sub_layers_3333': 216.74491076578832,\n",
    " 'kl_coeff_0.01_latent_dim_128_lr_0.0005_sub_layers_0000': 224.01600493477426,\n",
    " 'kl_coeff_0.01_latent_dim_128_lr_0.0005_sub_layers_1111': 229.47484212230503,\n",
    " 'kl_coeff_0.01_latent_dim_128_lr_0.0005_sub_layers_3333': 229.23888143601704,\n",
    " 'kl_coeff_0.01_latent_dim_128_lr_0.001_sub_layers_0000': 241.9179725418422,\n",
    " 'kl_coeff_0.01_latent_dim_128_lr_0.001_sub_layers_1111': 233.8970490372939,\n",
    " 'kl_coeff_0.01_latent_dim_128_lr_0.001_sub_layers_3333': 243.36862982192454,\n",
    " 'kl_coeff_0.01_latent_dim_128_lr_1e-05_sub_layers_0000': 254.90249202830168,\n",
    " 'kl_coeff_0.01_latent_dim_128_lr_1e-05_sub_layers_1111': 263.3760447088157,\n",
    " 'kl_coeff_0.01_latent_dim_128_lr_1e-05_sub_layers_3333': 252.57997862364977,\n",
    " 'kl_coeff_0.01_latent_dim_128_lr_5e-05_sub_layers_0000': 230.08953980773583,\n",
    " 'kl_coeff_0.01_latent_dim_128_lr_5e-05_sub_layers_1111': 231.20664802416655,\n",
    " 'kl_coeff_0.01_latent_dim_128_lr_5e-05_sub_layers_3333': 219.56702440660416,\n",
    " 'kl_coeff_0.01_latent_dim_256_lr_0.0001_sub_layers_0000': 238.38069453734124,\n",
    " 'kl_coeff_0.01_latent_dim_256_lr_0.0001_sub_layers_1111': 203.61825545604322,\n",
    " 'kl_coeff_0.01_latent_dim_256_lr_0.0001_sub_layers_3333': 211.9310657908283,\n",
    " 'kl_coeff_0.01_latent_dim_256_lr_0.0005_sub_layers_0000': 218.57746071599107,\n",
    " 'kl_coeff_0.01_latent_dim_256_lr_0.0005_sub_layers_1111': 203.90833653595533,\n",
    " 'kl_coeff_0.01_latent_dim_256_lr_0.0005_sub_layers_3333': 227.20913510837013,\n",
    " 'kl_coeff_0.01_latent_dim_256_lr_0.001_sub_layers_0000': 219.49623765622496,\n",
    " 'kl_coeff_0.01_latent_dim_256_lr_0.001_sub_layers_1111': 231.0895842734356,\n",
    " 'kl_coeff_0.01_latent_dim_256_lr_0.001_sub_layers_3333': 237.01066415631357,\n",
    " 'kl_coeff_0.01_latent_dim_256_lr_1e-05_sub_layers_0000': 278.60120326697734,\n",
    " 'kl_coeff_0.01_latent_dim_256_lr_1e-05_sub_layers_1111': 279.6884556934238,\n",
    " 'kl_coeff_0.01_latent_dim_256_lr_1e-05_sub_layers_3333': 234.2868136531993,\n",
    " 'kl_coeff_0.01_latent_dim_256_lr_5e-05_sub_layers_0000': 236.71951851571202,\n",
    " 'kl_coeff_0.01_latent_dim_256_lr_5e-05_sub_layers_1111': 235.20906710256463,\n",
    " 'kl_coeff_0.01_latent_dim_256_lr_5e-05_sub_layers_3333': 213.9120653436951,\n",
    " 'kl_coeff_0.01_latent_dim_512_lr_0.0001_sub_layers_0000': 199.03785057274146,\n",
    " 'kl_coeff_0.01_latent_dim_512_lr_0.0001_sub_layers_1111': 189.21281822927318,\n",
    " 'kl_coeff_0.01_latent_dim_512_lr_0.0001_sub_layers_3333': 191.20767532955287,\n",
    " 'kl_coeff_0.01_latent_dim_512_lr_0.0005_sub_layers_0000': 201.57004504996203,\n",
    " 'kl_coeff_0.01_latent_dim_512_lr_0.0005_sub_layers_1111': 197.0333956072078,\n",
    " 'kl_coeff_0.01_latent_dim_512_lr_0.0005_sub_layers_3333': 219.51127867658158,\n",
    " 'kl_coeff_0.01_latent_dim_512_lr_0.001_sub_layers_0000': 207.59346341459727,\n",
    " 'kl_coeff_0.01_latent_dim_512_lr_0.001_sub_layers_1111': 209.19835869002048,\n",
    " 'kl_coeff_0.01_latent_dim_512_lr_0.001_sub_layers_3333': 207.82324565938518,\n",
    " 'kl_coeff_0.01_latent_dim_512_lr_1e-05_sub_layers_0000': 273.86175370556236,\n",
    " 'kl_coeff_0.01_latent_dim_512_lr_1e-05_sub_layers_1111': 265.3816839537708,\n",
    " 'kl_coeff_0.01_latent_dim_512_lr_1e-05_sub_layers_3333': 268.5233585340053,\n",
    " 'kl_coeff_0.01_latent_dim_512_lr_5e-05_sub_layers_0000': 218.7506912952386,\n",
    " 'kl_coeff_0.01_latent_dim_512_lr_5e-05_sub_layers_1111': 188.5419358059342,\n",
    " 'kl_coeff_0.01_latent_dim_512_lr_5e-05_sub_layers_3333': 194.06942069983023,\n",
    " 'kl_coeff_0.1_latent_dim_128_lr_0.0001_sub_layers_0000': 209.6001224095616,\n",
    " 'kl_coeff_0.1_latent_dim_128_lr_0.0001_sub_layers_1111': 207.76026750902588,\n",
    " 'kl_coeff_0.1_latent_dim_128_lr_0.0001_sub_layers_3333': 208.35732303960418,\n",
    " 'kl_coeff_0.1_latent_dim_128_lr_0.0005_sub_layers_0000': 224.0681037099331,\n",
    " 'kl_coeff_0.1_latent_dim_128_lr_0.0005_sub_layers_1111': 221.67232551562284,\n",
    " 'kl_coeff_0.1_latent_dim_128_lr_0.0005_sub_layers_3333': 237.93936651843225,\n",
    " 'kl_coeff_0.1_latent_dim_128_lr_0.001_sub_layers_0000': 249.67241369972132,\n",
    " 'kl_coeff_0.1_latent_dim_128_lr_0.001_sub_layers_1111': 235.9081709463661,\n",
    " 'kl_coeff_0.1_latent_dim_128_lr_0.001_sub_layers_3333': 241.46107459740816,\n",
    " 'kl_coeff_0.1_latent_dim_128_lr_1e-05_sub_layers_0000': 271.8785151329411,\n",
    " 'kl_coeff_0.1_latent_dim_128_lr_1e-05_sub_layers_1111': 233.41304007928065,\n",
    " 'kl_coeff_0.1_latent_dim_128_lr_1e-05_sub_layers_3333': 225.15811726760538,\n",
    " 'kl_coeff_0.1_latent_dim_128_lr_5e-05_sub_layers_0000': 208.21091676412874,\n",
    " 'kl_coeff_0.1_latent_dim_128_lr_5e-05_sub_layers_1111': 210.98345889246247,\n",
    " 'kl_coeff_0.1_latent_dim_128_lr_5e-05_sub_layers_3333': 204.210455056091,\n",
    " 'kl_coeff_0.1_latent_dim_256_lr_0.0001_sub_layers_0000': 199.43336142711573,\n",
    " 'kl_coeff_0.1_latent_dim_256_lr_0.0001_sub_layers_1111': 184.9019961315352,\n",
    " 'kl_coeff_0.1_latent_dim_256_lr_0.0001_sub_layers_3333': 203.72905353722516,\n",
    " 'kl_coeff_0.1_latent_dim_256_lr_0.0005_sub_layers_0000': 211.23258499927852,\n",
    " 'kl_coeff_0.1_latent_dim_256_lr_0.0005_sub_layers_1111': 210.39346842096725,\n",
    " 'kl_coeff_0.1_latent_dim_256_lr_0.0005_sub_layers_3333': 207.633269016573,\n",
    " 'kl_coeff_0.1_latent_dim_256_lr_0.001_sub_layers_0000': 212.28851719930017,\n",
    " 'kl_coeff_0.1_latent_dim_256_lr_0.001_sub_layers_1111': 224.00531715992346,\n",
    " 'kl_coeff_0.1_latent_dim_256_lr_0.001_sub_layers_3333': 233.69017112151005,\n",
    " 'kl_coeff_0.1_latent_dim_256_lr_1e-05_sub_layers_0000': 278.50636057807515,\n",
    " 'kl_coeff_0.1_latent_dim_256_lr_1e-05_sub_layers_1111': 244.848952815257,\n",
    " 'kl_coeff_0.1_latent_dim_256_lr_1e-05_sub_layers_3333': 245.1643059771677,\n",
    " 'kl_coeff_0.1_latent_dim_256_lr_5e-05_sub_layers_0000': 235.1494828442612,\n",
    " 'kl_coeff_0.1_latent_dim_256_lr_5e-05_sub_layers_1111': 217.73022496659328,\n",
    " 'kl_coeff_0.1_latent_dim_256_lr_5e-05_sub_layers_3333': 220.81385307148233,\n",
    " 'kl_coeff_0.1_latent_dim_512_lr_0.0001_sub_layers_0000': 183.93652220030742,\n",
    " 'kl_coeff_0.1_latent_dim_512_lr_0.0001_sub_layers_1111': 185.64373112962676,\n",
    " 'kl_coeff_0.1_latent_dim_512_lr_0.0001_sub_layers_3333': 189.24188551852887,\n",
    " 'kl_coeff_0.1_latent_dim_512_lr_0.0005_sub_layers_0000': 192.80166114196663,\n",
    " 'kl_coeff_0.1_latent_dim_512_lr_0.0005_sub_layers_1111': 200.40106751947522,\n",
    " 'kl_coeff_0.1_latent_dim_512_lr_0.0005_sub_layers_3333': 219.41113201624506,\n",
    " 'kl_coeff_0.1_latent_dim_512_lr_0.001_sub_layers_0000': 205.60350502289177,\n",
    " 'kl_coeff_0.1_latent_dim_512_lr_0.001_sub_layers_1111': 206.98111667505736,\n",
    " 'kl_coeff_0.1_latent_dim_512_lr_0.001_sub_layers_3333': 234.88219134114624,\n",
    " 'kl_coeff_0.1_latent_dim_512_lr_1e-05_sub_layers_0000': 244.16385967059543,\n",
    " 'kl_coeff_0.1_latent_dim_512_lr_1e-05_sub_layers_1111': 265.25124063739304,\n",
    " 'kl_coeff_0.1_latent_dim_512_lr_1e-05_sub_layers_3333': 246.41590291612897,\n",
    " 'kl_coeff_0.1_latent_dim_512_lr_5e-05_sub_layers_0000': 258.84260705177775,\n",
    " 'kl_coeff_0.1_latent_dim_512_lr_5e-05_sub_layers_1111': 250.8683164320369,\n",
    " 'kl_coeff_0.1_latent_dim_512_lr_5e-05_sub_layers_3333': 194.33816348588218,\n",
    " 'kl_coeff_0.5_latent_dim_128_lr_0.0001_sub_layers_0000': 213.985886191004,\n",
    " 'kl_coeff_0.5_latent_dim_128_lr_0.0001_sub_layers_1111': 197.48836951735558,\n",
    " 'kl_coeff_0.5_latent_dim_128_lr_0.0001_sub_layers_3333': 215.07601527902455,\n",
    " 'kl_coeff_0.5_latent_dim_128_lr_0.0005_sub_layers_0000': 222.65412176623084,\n",
    " 'kl_coeff_0.5_latent_dim_128_lr_0.0005_sub_layers_1111': 223.1861185662467,\n",
    " 'kl_coeff_0.5_latent_dim_128_lr_0.0005_sub_layers_3333': 234.68567042791696,\n",
    " 'kl_coeff_0.5_latent_dim_128_lr_0.001_sub_layers_0000': 247.7086845823012,\n",
    " 'kl_coeff_0.5_latent_dim_128_lr_0.001_sub_layers_1111': 240.67656896579,\n",
    " 'kl_coeff_0.5_latent_dim_128_lr_0.001_sub_layers_3333': 261.49339937173005,\n",
    " 'kl_coeff_0.5_latent_dim_128_lr_1e-05_sub_layers_0000': 268.5000174487192,\n",
    " 'kl_coeff_0.5_latent_dim_128_lr_1e-05_sub_layers_1111': 258.53403724743123,\n",
    " 'kl_coeff_0.5_latent_dim_128_lr_1e-05_sub_layers_3333': 251.261163942925,\n",
    " 'kl_coeff_0.5_latent_dim_128_lr_5e-05_sub_layers_0000': 234.46744635601712,\n",
    " 'kl_coeff_0.5_latent_dim_128_lr_5e-05_sub_layers_1111': 208.37103792038025,\n",
    " 'kl_coeff_0.5_latent_dim_128_lr_5e-05_sub_layers_3333': 227.0528359176908,\n",
    " 'kl_coeff_0.5_latent_dim_256_lr_0.0001_sub_layers_0000': 215.06071208964352,\n",
    " 'kl_coeff_0.5_latent_dim_256_lr_0.0001_sub_layers_1111': 190.0419070476714,\n",
    " 'kl_coeff_0.5_latent_dim_256_lr_0.0001_sub_layers_3333': 208.27931068067835,\n",
    " 'kl_coeff_0.5_latent_dim_256_lr_0.0005_sub_layers_0000': 203.33207805680343,\n",
    " 'kl_coeff_0.5_latent_dim_256_lr_0.0005_sub_layers_1111': 200.08993160750356,\n",
    " 'kl_coeff_0.5_latent_dim_256_lr_0.0005_sub_layers_3333': 222.121556262038,\n",
    " 'kl_coeff_0.5_latent_dim_256_lr_0.001_sub_layers_0000': 220.5816680575595,\n",
    " 'kl_coeff_0.5_latent_dim_256_lr_0.001_sub_layers_1111': 222.42823919931146,\n",
    " 'kl_coeff_0.5_latent_dim_256_lr_0.001_sub_layers_3333': 223.63631279452804,\n",
    " 'kl_coeff_0.5_latent_dim_256_lr_1e-05_sub_layers_0000': 241.20939213460247,\n",
    " 'kl_coeff_0.5_latent_dim_256_lr_1e-05_sub_layers_1111': 266.5119453804072,\n",
    " 'kl_coeff_0.5_latent_dim_256_lr_1e-05_sub_layers_3333': 233.17972646819038,\n",
    " 'kl_coeff_0.5_latent_dim_256_lr_5e-05_sub_layers_0000': 194.24331032081724,\n",
    " 'kl_coeff_0.5_latent_dim_256_lr_5e-05_sub_layers_1111': 222.58709887457923,\n",
    " 'kl_coeff_0.5_latent_dim_256_lr_5e-05_sub_layers_3333': 221.94983749271523,\n",
    " 'kl_coeff_0.5_latent_dim_512_lr_0.0001_sub_layers_0000': 194.1826017594779,\n",
    " 'kl_coeff_0.5_latent_dim_512_lr_0.0001_sub_layers_1111': 183.2230128425353,\n",
    " 'kl_coeff_0.5_latent_dim_512_lr_0.0001_sub_layers_3333': 188.2775644328286,\n",
    " 'kl_coeff_0.5_latent_dim_512_lr_0.0005_sub_layers_0000': 200.4375891388925,\n",
    " 'kl_coeff_0.5_latent_dim_512_lr_0.0005_sub_layers_1111': 196.86424614107904,\n",
    " 'kl_coeff_0.5_latent_dim_512_lr_0.0005_sub_layers_3333': 209.87650026803507,\n",
    " 'kl_coeff_0.5_latent_dim_512_lr_0.001_sub_layers_0000': 208.18268687903986,\n",
    " 'kl_coeff_0.5_latent_dim_512_lr_0.001_sub_layers_1111': 218.61603224886528,\n",
    " 'kl_coeff_0.5_latent_dim_512_lr_0.001_sub_layers_3333': 206.78261758876855,\n",
    " 'kl_coeff_0.5_latent_dim_512_lr_1e-05_sub_layers_0000': 251.36766178227262,\n",
    " 'kl_coeff_0.5_latent_dim_512_lr_1e-05_sub_layers_1111': 269.76165897448845,\n",
    " 'kl_coeff_0.5_latent_dim_512_lr_1e-05_sub_layers_3333': 241.31482904725226,\n",
    " 'kl_coeff_0.5_latent_dim_512_lr_5e-05_sub_layers_0000': 205.62385972199502,\n",
    " 'kl_coeff_0.5_latent_dim_512_lr_5e-05_sub_layers_1111': 255.8689302906269,\n",
    " 'kl_coeff_0.5_latent_dim_512_lr_5e-05_sub_layers_3333': 186.22899859532004}"
   ]
  },
  {
   "cell_type": "code",
   "execution_count": 22,
   "metadata": {},
   "outputs": [
    {
     "data": {
      "text/html": [
       "<div>\n",
       "<style scoped>\n",
       "    .dataframe tbody tr th:only-of-type {\n",
       "        vertical-align: middle;\n",
       "    }\n",
       "\n",
       "    .dataframe tbody tr th {\n",
       "        vertical-align: top;\n",
       "    }\n",
       "\n",
       "    .dataframe thead th {\n",
       "        text-align: right;\n",
       "    }\n",
       "</style>\n",
       "<table border=\"1\" class=\"dataframe\">\n",
       "  <thead>\n",
       "    <tr style=\"text-align: right;\">\n",
       "      <th></th>\n",
       "      <th>name</th>\n",
       "      <th>fid</th>\n",
       "    </tr>\n",
       "  </thead>\n",
       "  <tbody>\n",
       "    <tr>\n",
       "      <th>0</th>\n",
       "      <td>kl_coeff_0.5_latent_dim_512_lr_0.0001_sub_layers_1111</td>\n",
       "      <td>183.223013</td>\n",
       "    </tr>\n",
       "    <tr>\n",
       "      <th>1</th>\n",
       "      <td>kl_coeff_0.1_latent_dim_512_lr_0.0001_sub_layers_0000</td>\n",
       "      <td>183.936522</td>\n",
       "    </tr>\n",
       "    <tr>\n",
       "      <th>2</th>\n",
       "      <td>kl_coeff_0.1_latent_dim_256_lr_0.0001_sub_layers_1111</td>\n",
       "      <td>184.901996</td>\n",
       "    </tr>\n",
       "    <tr>\n",
       "      <th>3</th>\n",
       "      <td>kl_coeff_0.1_latent_dim_512_lr_0.0001_sub_layers_1111</td>\n",
       "      <td>185.643731</td>\n",
       "    </tr>\n",
       "    <tr>\n",
       "      <th>4</th>\n",
       "      <td>kl_coeff_0.5_latent_dim_512_lr_5e-05_sub_layers_3333</td>\n",
       "      <td>186.228999</td>\n",
       "    </tr>\n",
       "  </tbody>\n",
       "</table>\n",
       "</div>"
      ],
      "text/plain": [
       "                                                    name         fid\n",
       "0  kl_coeff_0.5_latent_dim_512_lr_0.0001_sub_layers_1111  183.223013\n",
       "1  kl_coeff_0.1_latent_dim_512_lr_0.0001_sub_layers_0000  183.936522\n",
       "2  kl_coeff_0.1_latent_dim_256_lr_0.0001_sub_layers_1111  184.901996\n",
       "3  kl_coeff_0.1_latent_dim_512_lr_0.0001_sub_layers_1111  185.643731\n",
       "4  kl_coeff_0.5_latent_dim_512_lr_5e-05_sub_layers_3333   186.228999"
      ]
     },
     "execution_count": 22,
     "metadata": {},
     "output_type": "execute_result"
    }
   ],
   "source": [
    "df = pd.DataFrame({'name': list(fids.keys()), 'fid': list(fids.values())})\n",
    "df = df.sort_values('fid').reset_index(drop=True)\n",
    "df.head()"
   ]
  },
  {
   "cell_type": "code",
   "execution_count": 86,
   "metadata": {},
   "outputs": [
    {
     "name": "stdout",
     "output_type": "stream",
     "text": [
      "(135, 6)\n"
     ]
    },
    {
     "data": {
      "text/html": [
       "<div>\n",
       "<style scoped>\n",
       "    .dataframe tbody tr th:only-of-type {\n",
       "        vertical-align: middle;\n",
       "    }\n",
       "\n",
       "    .dataframe tbody tr th {\n",
       "        vertical-align: top;\n",
       "    }\n",
       "\n",
       "    .dataframe thead th {\n",
       "        text-align: right;\n",
       "    }\n",
       "</style>\n",
       "<table border=\"1\" class=\"dataframe\">\n",
       "  <thead>\n",
       "    <tr style=\"text-align: right;\">\n",
       "      <th></th>\n",
       "      <th>index</th>\n",
       "      <th>fid</th>\n",
       "      <th>kl_coeff</th>\n",
       "      <th>latent_dim</th>\n",
       "      <th>lr</th>\n",
       "      <th>sub_layers</th>\n",
       "    </tr>\n",
       "  </thead>\n",
       "  <tbody>\n",
       "    <tr>\n",
       "      <th>0</th>\n",
       "      <td>0</td>\n",
       "      <td>183.223013</td>\n",
       "      <td>0.5</td>\n",
       "      <td>512</td>\n",
       "      <td>0.0001</td>\n",
       "      <td>1</td>\n",
       "    </tr>\n",
       "    <tr>\n",
       "      <th>1</th>\n",
       "      <td>1</td>\n",
       "      <td>183.936522</td>\n",
       "      <td>0.1</td>\n",
       "      <td>512</td>\n",
       "      <td>0.0001</td>\n",
       "      <td>0</td>\n",
       "    </tr>\n",
       "    <tr>\n",
       "      <th>2</th>\n",
       "      <td>2</td>\n",
       "      <td>184.901996</td>\n",
       "      <td>0.1</td>\n",
       "      <td>256</td>\n",
       "      <td>0.0001</td>\n",
       "      <td>1</td>\n",
       "    </tr>\n",
       "    <tr>\n",
       "      <th>3</th>\n",
       "      <td>3</td>\n",
       "      <td>185.643731</td>\n",
       "      <td>0.1</td>\n",
       "      <td>512</td>\n",
       "      <td>0.0001</td>\n",
       "      <td>1</td>\n",
       "    </tr>\n",
       "    <tr>\n",
       "      <th>4</th>\n",
       "      <td>4</td>\n",
       "      <td>186.228999</td>\n",
       "      <td>0.5</td>\n",
       "      <td>512</td>\n",
       "      <td>5e-05</td>\n",
       "      <td>3</td>\n",
       "    </tr>\n",
       "  </tbody>\n",
       "</table>\n",
       "</div>"
      ],
      "text/plain": [
       "   index         fid kl_coeff latent_dim      lr  sub_layers\n",
       "0  0      183.223013  0.5      512        0.0001  1         \n",
       "1  1      183.936522  0.1      512        0.0001  0         \n",
       "2  2      184.901996  0.1      256        0.0001  1         \n",
       "3  3      185.643731  0.1      512        0.0001  1         \n",
       "4  4      186.228999  0.5      512        5e-05   3         "
      ]
     },
     "execution_count": 86,
     "metadata": {},
     "output_type": "execute_result"
    }
   ],
   "source": [
    "df[\n",
    "    ['_0', '_1', 'kl_coeff', '_2', '_3', 'latent_dim', '_4', 'lr', '_5', '_6', 'sub_layers']\n",
    "] = df['name'].str.split('_', expand=True)\n",
    "\n",
    "df = df.loc[:,~df.columns.str.startswith('_')]\n",
    "df_clean = df.drop(columns='name').reset_index()\n",
    "df_clean['sub_layers'] = df_clean['sub_layers'].astype(int) % 10\n",
    "\n",
    "print(df_clean.shape)\n",
    "df_clean.head()"
   ]
  },
  {
   "cell_type": "code",
   "execution_count": 130,
   "metadata": {},
   "outputs": [
    {
     "data": {
      "application/vnd.plotly.v1+json": {
       "config": {
        "plotlyServerURL": "https://plot.ly"
       },
       "data": [
        {
         "alignmentgroup": "True",
         "hoverlabel": {
          "namelength": 0
         },
         "hovertemplate": "kl_coeff=%{x}<br>fid=%{y}",
         "legendgroup": "0.5",
         "marker": {
          "color": "#636efa"
         },
         "name": "0.5",
         "notched": false,
         "offsetgroup": "0.5",
         "orientation": "v",
         "showlegend": true,
         "type": "box",
         "x": [
          "0.5",
          "0.5",
          "0.5",
          "0.5",
          "0.5",
          "0.5",
          "0.5",
          "0.5",
          "0.5",
          "0.5",
          "0.5",
          "0.5",
          "0.5",
          "0.5",
          "0.5",
          "0.5",
          "0.5",
          "0.5",
          "0.5",
          "0.5",
          "0.5",
          "0.5",
          "0.5",
          "0.5",
          "0.5",
          "0.5",
          "0.5",
          "0.5",
          "0.5",
          "0.5",
          "0.5",
          "0.5",
          "0.5",
          "0.5",
          "0.5",
          "0.5",
          "0.5",
          "0.5",
          "0.5",
          "0.5",
          "0.5",
          "0.5",
          "0.5",
          "0.5",
          "0.5"
         ],
         "x0": " ",
         "xaxis": "x",
         "y": [
          183.2230128425353,
          186.22899859532004,
          188.2775644328286,
          190.0419070476714,
          194.1826017594779,
          194.24331032081724,
          196.86424614107904,
          197.48836951735558,
          200.08993160750356,
          200.4375891388925,
          203.33207805680343,
          205.62385972199502,
          206.78261758876855,
          208.18268687903986,
          208.27931068067835,
          208.37103792038025,
          209.87650026803507,
          213.985886191004,
          215.06071208964352,
          215.07601527902455,
          218.61603224886528,
          220.5816680575595,
          221.94983749271523,
          222.121556262038,
          222.42823919931146,
          222.58709887457923,
          222.65412176623084,
          223.1861185662467,
          223.63631279452804,
          227.0528359176908,
          233.17972646819038,
          234.46744635601712,
          234.68567042791696,
          240.67656896579,
          241.20939213460247,
          241.31482904725226,
          247.7086845823012,
          251.261163942925,
          251.36766178227262,
          255.8689302906269,
          258.53403724743123,
          261.49339937173005,
          266.5119453804072,
          268.5000174487192,
          269.76165897448845
         ],
         "y0": " ",
         "yaxis": "y"
        },
        {
         "alignmentgroup": "True",
         "hoverlabel": {
          "namelength": 0
         },
         "hovertemplate": "kl_coeff=%{x}<br>fid=%{y}",
         "legendgroup": "0.1",
         "marker": {
          "color": "#EF553B"
         },
         "name": "0.1",
         "notched": false,
         "offsetgroup": "0.1",
         "orientation": "v",
         "showlegend": true,
         "type": "box",
         "x": [
          "0.1",
          "0.1",
          "0.1",
          "0.1",
          "0.1",
          "0.1",
          "0.1",
          "0.1",
          "0.1",
          "0.1",
          "0.1",
          "0.1",
          "0.1",
          "0.1",
          "0.1",
          "0.1",
          "0.1",
          "0.1",
          "0.1",
          "0.1",
          "0.1",
          "0.1",
          "0.1",
          "0.1",
          "0.1",
          "0.1",
          "0.1",
          "0.1",
          "0.1",
          "0.1",
          "0.1",
          "0.1",
          "0.1",
          "0.1",
          "0.1",
          "0.1",
          "0.1",
          "0.1",
          "0.1",
          "0.1",
          "0.1",
          "0.1",
          "0.1",
          "0.1",
          "0.1"
         ],
         "x0": " ",
         "xaxis": "x",
         "y": [
          183.93652220030742,
          184.9019961315352,
          185.64373112962676,
          189.24188551852887,
          192.80166114196663,
          194.33816348588218,
          199.43336142711573,
          200.40106751947522,
          203.72905353722516,
          204.210455056091,
          205.60350502289177,
          206.98111667505736,
          207.633269016573,
          207.76026750902588,
          208.21091676412874,
          208.35732303960418,
          209.6001224095616,
          210.39346842096725,
          210.98345889246247,
          211.23258499927852,
          212.28851719930017,
          217.73022496659328,
          219.41113201624506,
          220.81385307148233,
          221.67232551562284,
          224.00531715992346,
          224.0681037099331,
          225.15811726760538,
          233.41304007928065,
          233.69017112151005,
          234.88219134114624,
          235.1494828442612,
          235.9081709463661,
          237.93936651843225,
          241.46107459740816,
          244.16385967059543,
          244.848952815257,
          245.1643059771677,
          246.41590291612897,
          249.67241369972132,
          250.8683164320369,
          258.84260705177775,
          265.25124063739304,
          271.8785151329411,
          278.50636057807515
         ],
         "y0": " ",
         "yaxis": "y"
        },
        {
         "alignmentgroup": "True",
         "hoverlabel": {
          "namelength": 0
         },
         "hovertemplate": "kl_coeff=%{x}<br>fid=%{y}",
         "legendgroup": "0.01",
         "marker": {
          "color": "#00cc96"
         },
         "name": "0.01",
         "notched": false,
         "offsetgroup": "0.01",
         "orientation": "v",
         "showlegend": true,
         "type": "box",
         "x": [
          "0.01",
          "0.01",
          "0.01",
          "0.01",
          "0.01",
          "0.01",
          "0.01",
          "0.01",
          "0.01",
          "0.01",
          "0.01",
          "0.01",
          "0.01",
          "0.01",
          "0.01",
          "0.01",
          "0.01",
          "0.01",
          "0.01",
          "0.01",
          "0.01",
          "0.01",
          "0.01",
          "0.01",
          "0.01",
          "0.01",
          "0.01",
          "0.01",
          "0.01",
          "0.01",
          "0.01",
          "0.01",
          "0.01",
          "0.01",
          "0.01",
          "0.01",
          "0.01",
          "0.01",
          "0.01",
          "0.01",
          "0.01",
          "0.01",
          "0.01",
          "0.01",
          "0.01"
         ],
         "x0": " ",
         "xaxis": "x",
         "y": [
          188.5419358059342,
          189.21281822927318,
          191.20767532955287,
          194.06942069983023,
          197.0333956072078,
          199.03785057274146,
          201.57004504996203,
          203.61825545604322,
          203.90833653595533,
          207.59346341459727,
          207.82324565938518,
          209.19835869002048,
          211.9310657908283,
          213.9120653436951,
          216.74491076578832,
          218.57746071599107,
          218.7506912952386,
          219.49623765622496,
          219.51127867658158,
          219.56702440660416,
          221.59217549772745,
          224.01600493477426,
          227.00192165648374,
          227.20913510837013,
          229.23888143601704,
          229.47484212230503,
          230.08953980773583,
          231.0895842734356,
          231.20664802416655,
          233.8970490372939,
          234.2868136531993,
          235.20906710256463,
          236.71951851571202,
          237.01066415631357,
          238.38069453734124,
          241.9179725418422,
          243.36862982192454,
          252.57997862364977,
          254.90249202830168,
          263.3760447088157,
          265.3816839537708,
          268.5233585340053,
          273.86175370556236,
          278.60120326697734,
          279.6884556934238
         ],
         "y0": " ",
         "yaxis": "y"
        }
       ],
       "layout": {
        "boxmode": "overlay",
        "legend": {
         "title": {
          "text": "kl_coeff"
         },
         "tracegroupgap": 0
        },
        "margin": {
         "t": 60
        },
        "template": {
         "data": {
          "bar": [
           {
            "error_x": {
             "color": "#2a3f5f"
            },
            "error_y": {
             "color": "#2a3f5f"
            },
            "marker": {
             "line": {
              "color": "#E5ECF6",
              "width": 0.5
             }
            },
            "type": "bar"
           }
          ],
          "barpolar": [
           {
            "marker": {
             "line": {
              "color": "#E5ECF6",
              "width": 0.5
             }
            },
            "type": "barpolar"
           }
          ],
          "carpet": [
           {
            "aaxis": {
             "endlinecolor": "#2a3f5f",
             "gridcolor": "white",
             "linecolor": "white",
             "minorgridcolor": "white",
             "startlinecolor": "#2a3f5f"
            },
            "baxis": {
             "endlinecolor": "#2a3f5f",
             "gridcolor": "white",
             "linecolor": "white",
             "minorgridcolor": "white",
             "startlinecolor": "#2a3f5f"
            },
            "type": "carpet"
           }
          ],
          "choropleth": [
           {
            "colorbar": {
             "outlinewidth": 0,
             "ticks": ""
            },
            "type": "choropleth"
           }
          ],
          "contour": [
           {
            "colorbar": {
             "outlinewidth": 0,
             "ticks": ""
            },
            "colorscale": [
             [
              0,
              "#0d0887"
             ],
             [
              0.1111111111111111,
              "#46039f"
             ],
             [
              0.2222222222222222,
              "#7201a8"
             ],
             [
              0.3333333333333333,
              "#9c179e"
             ],
             [
              0.4444444444444444,
              "#bd3786"
             ],
             [
              0.5555555555555556,
              "#d8576b"
             ],
             [
              0.6666666666666666,
              "#ed7953"
             ],
             [
              0.7777777777777778,
              "#fb9f3a"
             ],
             [
              0.8888888888888888,
              "#fdca26"
             ],
             [
              1,
              "#f0f921"
             ]
            ],
            "type": "contour"
           }
          ],
          "contourcarpet": [
           {
            "colorbar": {
             "outlinewidth": 0,
             "ticks": ""
            },
            "type": "contourcarpet"
           }
          ],
          "heatmap": [
           {
            "colorbar": {
             "outlinewidth": 0,
             "ticks": ""
            },
            "colorscale": [
             [
              0,
              "#0d0887"
             ],
             [
              0.1111111111111111,
              "#46039f"
             ],
             [
              0.2222222222222222,
              "#7201a8"
             ],
             [
              0.3333333333333333,
              "#9c179e"
             ],
             [
              0.4444444444444444,
              "#bd3786"
             ],
             [
              0.5555555555555556,
              "#d8576b"
             ],
             [
              0.6666666666666666,
              "#ed7953"
             ],
             [
              0.7777777777777778,
              "#fb9f3a"
             ],
             [
              0.8888888888888888,
              "#fdca26"
             ],
             [
              1,
              "#f0f921"
             ]
            ],
            "type": "heatmap"
           }
          ],
          "heatmapgl": [
           {
            "colorbar": {
             "outlinewidth": 0,
             "ticks": ""
            },
            "colorscale": [
             [
              0,
              "#0d0887"
             ],
             [
              0.1111111111111111,
              "#46039f"
             ],
             [
              0.2222222222222222,
              "#7201a8"
             ],
             [
              0.3333333333333333,
              "#9c179e"
             ],
             [
              0.4444444444444444,
              "#bd3786"
             ],
             [
              0.5555555555555556,
              "#d8576b"
             ],
             [
              0.6666666666666666,
              "#ed7953"
             ],
             [
              0.7777777777777778,
              "#fb9f3a"
             ],
             [
              0.8888888888888888,
              "#fdca26"
             ],
             [
              1,
              "#f0f921"
             ]
            ],
            "type": "heatmapgl"
           }
          ],
          "histogram": [
           {
            "marker": {
             "colorbar": {
              "outlinewidth": 0,
              "ticks": ""
             }
            },
            "type": "histogram"
           }
          ],
          "histogram2d": [
           {
            "colorbar": {
             "outlinewidth": 0,
             "ticks": ""
            },
            "colorscale": [
             [
              0,
              "#0d0887"
             ],
             [
              0.1111111111111111,
              "#46039f"
             ],
             [
              0.2222222222222222,
              "#7201a8"
             ],
             [
              0.3333333333333333,
              "#9c179e"
             ],
             [
              0.4444444444444444,
              "#bd3786"
             ],
             [
              0.5555555555555556,
              "#d8576b"
             ],
             [
              0.6666666666666666,
              "#ed7953"
             ],
             [
              0.7777777777777778,
              "#fb9f3a"
             ],
             [
              0.8888888888888888,
              "#fdca26"
             ],
             [
              1,
              "#f0f921"
             ]
            ],
            "type": "histogram2d"
           }
          ],
          "histogram2dcontour": [
           {
            "colorbar": {
             "outlinewidth": 0,
             "ticks": ""
            },
            "colorscale": [
             [
              0,
              "#0d0887"
             ],
             [
              0.1111111111111111,
              "#46039f"
             ],
             [
              0.2222222222222222,
              "#7201a8"
             ],
             [
              0.3333333333333333,
              "#9c179e"
             ],
             [
              0.4444444444444444,
              "#bd3786"
             ],
             [
              0.5555555555555556,
              "#d8576b"
             ],
             [
              0.6666666666666666,
              "#ed7953"
             ],
             [
              0.7777777777777778,
              "#fb9f3a"
             ],
             [
              0.8888888888888888,
              "#fdca26"
             ],
             [
              1,
              "#f0f921"
             ]
            ],
            "type": "histogram2dcontour"
           }
          ],
          "mesh3d": [
           {
            "colorbar": {
             "outlinewidth": 0,
             "ticks": ""
            },
            "type": "mesh3d"
           }
          ],
          "parcoords": [
           {
            "line": {
             "colorbar": {
              "outlinewidth": 0,
              "ticks": ""
             }
            },
            "type": "parcoords"
           }
          ],
          "pie": [
           {
            "automargin": true,
            "type": "pie"
           }
          ],
          "scatter": [
           {
            "marker": {
             "colorbar": {
              "outlinewidth": 0,
              "ticks": ""
             }
            },
            "type": "scatter"
           }
          ],
          "scatter3d": [
           {
            "line": {
             "colorbar": {
              "outlinewidth": 0,
              "ticks": ""
             }
            },
            "marker": {
             "colorbar": {
              "outlinewidth": 0,
              "ticks": ""
             }
            },
            "type": "scatter3d"
           }
          ],
          "scattercarpet": [
           {
            "marker": {
             "colorbar": {
              "outlinewidth": 0,
              "ticks": ""
             }
            },
            "type": "scattercarpet"
           }
          ],
          "scattergeo": [
           {
            "marker": {
             "colorbar": {
              "outlinewidth": 0,
              "ticks": ""
             }
            },
            "type": "scattergeo"
           }
          ],
          "scattergl": [
           {
            "marker": {
             "colorbar": {
              "outlinewidth": 0,
              "ticks": ""
             }
            },
            "type": "scattergl"
           }
          ],
          "scattermapbox": [
           {
            "marker": {
             "colorbar": {
              "outlinewidth": 0,
              "ticks": ""
             }
            },
            "type": "scattermapbox"
           }
          ],
          "scatterpolar": [
           {
            "marker": {
             "colorbar": {
              "outlinewidth": 0,
              "ticks": ""
             }
            },
            "type": "scatterpolar"
           }
          ],
          "scatterpolargl": [
           {
            "marker": {
             "colorbar": {
              "outlinewidth": 0,
              "ticks": ""
             }
            },
            "type": "scatterpolargl"
           }
          ],
          "scatterternary": [
           {
            "marker": {
             "colorbar": {
              "outlinewidth": 0,
              "ticks": ""
             }
            },
            "type": "scatterternary"
           }
          ],
          "surface": [
           {
            "colorbar": {
             "outlinewidth": 0,
             "ticks": ""
            },
            "colorscale": [
             [
              0,
              "#0d0887"
             ],
             [
              0.1111111111111111,
              "#46039f"
             ],
             [
              0.2222222222222222,
              "#7201a8"
             ],
             [
              0.3333333333333333,
              "#9c179e"
             ],
             [
              0.4444444444444444,
              "#bd3786"
             ],
             [
              0.5555555555555556,
              "#d8576b"
             ],
             [
              0.6666666666666666,
              "#ed7953"
             ],
             [
              0.7777777777777778,
              "#fb9f3a"
             ],
             [
              0.8888888888888888,
              "#fdca26"
             ],
             [
              1,
              "#f0f921"
             ]
            ],
            "type": "surface"
           }
          ],
          "table": [
           {
            "cells": {
             "fill": {
              "color": "#EBF0F8"
             },
             "line": {
              "color": "white"
             }
            },
            "header": {
             "fill": {
              "color": "#C8D4E3"
             },
             "line": {
              "color": "white"
             }
            },
            "type": "table"
           }
          ]
         },
         "layout": {
          "annotationdefaults": {
           "arrowcolor": "#2a3f5f",
           "arrowhead": 0,
           "arrowwidth": 1
          },
          "coloraxis": {
           "colorbar": {
            "outlinewidth": 0,
            "ticks": ""
           }
          },
          "colorscale": {
           "diverging": [
            [
             0,
             "#8e0152"
            ],
            [
             0.1,
             "#c51b7d"
            ],
            [
             0.2,
             "#de77ae"
            ],
            [
             0.3,
             "#f1b6da"
            ],
            [
             0.4,
             "#fde0ef"
            ],
            [
             0.5,
             "#f7f7f7"
            ],
            [
             0.6,
             "#e6f5d0"
            ],
            [
             0.7,
             "#b8e186"
            ],
            [
             0.8,
             "#7fbc41"
            ],
            [
             0.9,
             "#4d9221"
            ],
            [
             1,
             "#276419"
            ]
           ],
           "sequential": [
            [
             0,
             "#0d0887"
            ],
            [
             0.1111111111111111,
             "#46039f"
            ],
            [
             0.2222222222222222,
             "#7201a8"
            ],
            [
             0.3333333333333333,
             "#9c179e"
            ],
            [
             0.4444444444444444,
             "#bd3786"
            ],
            [
             0.5555555555555556,
             "#d8576b"
            ],
            [
             0.6666666666666666,
             "#ed7953"
            ],
            [
             0.7777777777777778,
             "#fb9f3a"
            ],
            [
             0.8888888888888888,
             "#fdca26"
            ],
            [
             1,
             "#f0f921"
            ]
           ],
           "sequentialminus": [
            [
             0,
             "#0d0887"
            ],
            [
             0.1111111111111111,
             "#46039f"
            ],
            [
             0.2222222222222222,
             "#7201a8"
            ],
            [
             0.3333333333333333,
             "#9c179e"
            ],
            [
             0.4444444444444444,
             "#bd3786"
            ],
            [
             0.5555555555555556,
             "#d8576b"
            ],
            [
             0.6666666666666666,
             "#ed7953"
            ],
            [
             0.7777777777777778,
             "#fb9f3a"
            ],
            [
             0.8888888888888888,
             "#fdca26"
            ],
            [
             1,
             "#f0f921"
            ]
           ]
          },
          "colorway": [
           "#636efa",
           "#EF553B",
           "#00cc96",
           "#ab63fa",
           "#FFA15A",
           "#19d3f3",
           "#FF6692",
           "#B6E880",
           "#FF97FF",
           "#FECB52"
          ],
          "font": {
           "color": "#2a3f5f"
          },
          "geo": {
           "bgcolor": "white",
           "lakecolor": "white",
           "landcolor": "#E5ECF6",
           "showlakes": true,
           "showland": true,
           "subunitcolor": "white"
          },
          "hoverlabel": {
           "align": "left"
          },
          "hovermode": "closest",
          "mapbox": {
           "style": "light"
          },
          "paper_bgcolor": "white",
          "plot_bgcolor": "#E5ECF6",
          "polar": {
           "angularaxis": {
            "gridcolor": "white",
            "linecolor": "white",
            "ticks": ""
           },
           "bgcolor": "#E5ECF6",
           "radialaxis": {
            "gridcolor": "white",
            "linecolor": "white",
            "ticks": ""
           }
          },
          "scene": {
           "xaxis": {
            "backgroundcolor": "#E5ECF6",
            "gridcolor": "white",
            "gridwidth": 2,
            "linecolor": "white",
            "showbackground": true,
            "ticks": "",
            "zerolinecolor": "white"
           },
           "yaxis": {
            "backgroundcolor": "#E5ECF6",
            "gridcolor": "white",
            "gridwidth": 2,
            "linecolor": "white",
            "showbackground": true,
            "ticks": "",
            "zerolinecolor": "white"
           },
           "zaxis": {
            "backgroundcolor": "#E5ECF6",
            "gridcolor": "white",
            "gridwidth": 2,
            "linecolor": "white",
            "showbackground": true,
            "ticks": "",
            "zerolinecolor": "white"
           }
          },
          "shapedefaults": {
           "line": {
            "color": "#2a3f5f"
           }
          },
          "ternary": {
           "aaxis": {
            "gridcolor": "white",
            "linecolor": "white",
            "ticks": ""
           },
           "baxis": {
            "gridcolor": "white",
            "linecolor": "white",
            "ticks": ""
           },
           "bgcolor": "#E5ECF6",
           "caxis": {
            "gridcolor": "white",
            "linecolor": "white",
            "ticks": ""
           }
          },
          "title": {
           "x": 0.05
          },
          "xaxis": {
           "automargin": true,
           "gridcolor": "white",
           "linecolor": "white",
           "ticks": "",
           "title": {
            "standoff": 15
           },
           "zerolinecolor": "white",
           "zerolinewidth": 2
          },
          "yaxis": {
           "automargin": true,
           "gridcolor": "white",
           "linecolor": "white",
           "ticks": "",
           "title": {
            "standoff": 15
           },
           "zerolinecolor": "white",
           "zerolinewidth": 2
          }
         }
        },
        "xaxis": {
         "anchor": "y",
         "categoryarray": [
          "0.5",
          "0.1",
          "0.01"
         ],
         "categoryorder": "array",
         "domain": [
          0,
          1
         ],
         "title": {
          "text": "kl_coeff"
         },
         "type": "log"
        },
        "yaxis": {
         "anchor": "x",
         "domain": [
          0,
          1
         ],
         "title": {
          "text": "fid"
         }
        }
       }
      },
      "text/html": [
       "<div>\n",
       "        \n",
       "        \n",
       "            <div id=\"845fa1f2-7da8-492f-9cdd-63d8470f5541\" class=\"plotly-graph-div\" style=\"height:525px; width:100%;\"></div>\n",
       "            <script type=\"text/javascript\">\n",
       "                require([\"plotly\"], function(Plotly) {\n",
       "                    window.PLOTLYENV=window.PLOTLYENV || {};\n",
       "                    \n",
       "                if (document.getElementById(\"845fa1f2-7da8-492f-9cdd-63d8470f5541\")) {\n",
       "                    Plotly.newPlot(\n",
       "                        '845fa1f2-7da8-492f-9cdd-63d8470f5541',\n",
       "                        [{\"alignmentgroup\": \"True\", \"hoverlabel\": {\"namelength\": 0}, \"hovertemplate\": \"kl_coeff=%{x}<br>fid=%{y}\", \"legendgroup\": \"0.5\", \"marker\": {\"color\": \"#636efa\"}, \"name\": \"0.5\", \"notched\": false, \"offsetgroup\": \"0.5\", \"orientation\": \"v\", \"showlegend\": true, \"type\": \"box\", \"x\": [\"0.5\", \"0.5\", \"0.5\", \"0.5\", \"0.5\", \"0.5\", \"0.5\", \"0.5\", \"0.5\", \"0.5\", \"0.5\", \"0.5\", \"0.5\", \"0.5\", \"0.5\", \"0.5\", \"0.5\", \"0.5\", \"0.5\", \"0.5\", \"0.5\", \"0.5\", \"0.5\", \"0.5\", \"0.5\", \"0.5\", \"0.5\", \"0.5\", \"0.5\", \"0.5\", \"0.5\", \"0.5\", \"0.5\", \"0.5\", \"0.5\", \"0.5\", \"0.5\", \"0.5\", \"0.5\", \"0.5\", \"0.5\", \"0.5\", \"0.5\", \"0.5\", \"0.5\"], \"x0\": \" \", \"xaxis\": \"x\", \"y\": [183.2230128425353, 186.22899859532004, 188.2775644328286, 190.0419070476714, 194.1826017594779, 194.24331032081724, 196.86424614107904, 197.48836951735558, 200.08993160750356, 200.4375891388925, 203.33207805680343, 205.62385972199502, 206.78261758876855, 208.18268687903986, 208.27931068067835, 208.37103792038025, 209.87650026803507, 213.985886191004, 215.06071208964352, 215.07601527902455, 218.61603224886528, 220.5816680575595, 221.94983749271523, 222.121556262038, 222.42823919931146, 222.58709887457923, 222.65412176623084, 223.1861185662467, 223.63631279452804, 227.0528359176908, 233.17972646819038, 234.46744635601712, 234.68567042791696, 240.67656896579, 241.20939213460247, 241.31482904725226, 247.7086845823012, 251.261163942925, 251.36766178227262, 255.8689302906269, 258.53403724743123, 261.49339937173005, 266.5119453804072, 268.5000174487192, 269.76165897448845], \"y0\": \" \", \"yaxis\": \"y\"}, {\"alignmentgroup\": \"True\", \"hoverlabel\": {\"namelength\": 0}, \"hovertemplate\": \"kl_coeff=%{x}<br>fid=%{y}\", \"legendgroup\": \"0.1\", \"marker\": {\"color\": \"#EF553B\"}, \"name\": \"0.1\", \"notched\": false, \"offsetgroup\": \"0.1\", \"orientation\": \"v\", \"showlegend\": true, \"type\": \"box\", \"x\": [\"0.1\", \"0.1\", \"0.1\", \"0.1\", \"0.1\", \"0.1\", \"0.1\", \"0.1\", \"0.1\", \"0.1\", \"0.1\", \"0.1\", \"0.1\", \"0.1\", \"0.1\", \"0.1\", \"0.1\", \"0.1\", \"0.1\", \"0.1\", \"0.1\", \"0.1\", \"0.1\", \"0.1\", \"0.1\", \"0.1\", \"0.1\", \"0.1\", \"0.1\", \"0.1\", \"0.1\", \"0.1\", \"0.1\", \"0.1\", \"0.1\", \"0.1\", \"0.1\", \"0.1\", \"0.1\", \"0.1\", \"0.1\", \"0.1\", \"0.1\", \"0.1\", \"0.1\"], \"x0\": \" \", \"xaxis\": \"x\", \"y\": [183.93652220030742, 184.9019961315352, 185.64373112962676, 189.24188551852887, 192.80166114196663, 194.33816348588218, 199.43336142711573, 200.40106751947522, 203.72905353722516, 204.210455056091, 205.60350502289177, 206.98111667505736, 207.633269016573, 207.76026750902588, 208.21091676412874, 208.35732303960418, 209.6001224095616, 210.39346842096725, 210.98345889246247, 211.23258499927852, 212.28851719930017, 217.73022496659328, 219.41113201624506, 220.81385307148233, 221.67232551562284, 224.00531715992346, 224.0681037099331, 225.15811726760538, 233.41304007928065, 233.69017112151005, 234.88219134114624, 235.1494828442612, 235.9081709463661, 237.93936651843225, 241.46107459740816, 244.16385967059543, 244.848952815257, 245.1643059771677, 246.41590291612897, 249.67241369972132, 250.8683164320369, 258.84260705177775, 265.25124063739304, 271.8785151329411, 278.50636057807515], \"y0\": \" \", \"yaxis\": \"y\"}, {\"alignmentgroup\": \"True\", \"hoverlabel\": {\"namelength\": 0}, \"hovertemplate\": \"kl_coeff=%{x}<br>fid=%{y}\", \"legendgroup\": \"0.01\", \"marker\": {\"color\": \"#00cc96\"}, \"name\": \"0.01\", \"notched\": false, \"offsetgroup\": \"0.01\", \"orientation\": \"v\", \"showlegend\": true, \"type\": \"box\", \"x\": [\"0.01\", \"0.01\", \"0.01\", \"0.01\", \"0.01\", \"0.01\", \"0.01\", \"0.01\", \"0.01\", \"0.01\", \"0.01\", \"0.01\", \"0.01\", \"0.01\", \"0.01\", \"0.01\", \"0.01\", \"0.01\", \"0.01\", \"0.01\", \"0.01\", \"0.01\", \"0.01\", \"0.01\", \"0.01\", \"0.01\", \"0.01\", \"0.01\", \"0.01\", \"0.01\", \"0.01\", \"0.01\", \"0.01\", \"0.01\", \"0.01\", \"0.01\", \"0.01\", \"0.01\", \"0.01\", \"0.01\", \"0.01\", \"0.01\", \"0.01\", \"0.01\", \"0.01\"], \"x0\": \" \", \"xaxis\": \"x\", \"y\": [188.5419358059342, 189.21281822927318, 191.20767532955287, 194.06942069983023, 197.0333956072078, 199.03785057274146, 201.57004504996203, 203.61825545604322, 203.90833653595533, 207.59346341459727, 207.82324565938518, 209.19835869002048, 211.9310657908283, 213.9120653436951, 216.74491076578832, 218.57746071599107, 218.7506912952386, 219.49623765622496, 219.51127867658158, 219.56702440660416, 221.59217549772745, 224.01600493477426, 227.00192165648374, 227.20913510837013, 229.23888143601704, 229.47484212230503, 230.08953980773583, 231.0895842734356, 231.20664802416655, 233.8970490372939, 234.2868136531993, 235.20906710256463, 236.71951851571202, 237.01066415631357, 238.38069453734124, 241.9179725418422, 243.36862982192454, 252.57997862364977, 254.90249202830168, 263.3760447088157, 265.3816839537708, 268.5233585340053, 273.86175370556236, 278.60120326697734, 279.6884556934238], \"y0\": \" \", \"yaxis\": \"y\"}],\n",
       "                        {\"boxmode\": \"overlay\", \"legend\": {\"title\": {\"text\": \"kl_coeff\"}, \"tracegroupgap\": 0}, \"margin\": {\"t\": 60}, \"template\": {\"data\": {\"bar\": [{\"error_x\": {\"color\": \"#2a3f5f\"}, \"error_y\": {\"color\": \"#2a3f5f\"}, \"marker\": {\"line\": {\"color\": \"#E5ECF6\", \"width\": 0.5}}, \"type\": \"bar\"}], \"barpolar\": [{\"marker\": {\"line\": {\"color\": \"#E5ECF6\", \"width\": 0.5}}, \"type\": \"barpolar\"}], \"carpet\": [{\"aaxis\": {\"endlinecolor\": \"#2a3f5f\", \"gridcolor\": \"white\", \"linecolor\": \"white\", \"minorgridcolor\": \"white\", \"startlinecolor\": \"#2a3f5f\"}, \"baxis\": {\"endlinecolor\": \"#2a3f5f\", \"gridcolor\": \"white\", \"linecolor\": \"white\", \"minorgridcolor\": \"white\", \"startlinecolor\": \"#2a3f5f\"}, \"type\": \"carpet\"}], \"choropleth\": [{\"colorbar\": {\"outlinewidth\": 0, \"ticks\": \"\"}, \"type\": \"choropleth\"}], \"contour\": [{\"colorbar\": {\"outlinewidth\": 0, \"ticks\": \"\"}, \"colorscale\": [[0.0, \"#0d0887\"], [0.1111111111111111, \"#46039f\"], [0.2222222222222222, \"#7201a8\"], [0.3333333333333333, \"#9c179e\"], [0.4444444444444444, \"#bd3786\"], [0.5555555555555556, \"#d8576b\"], [0.6666666666666666, \"#ed7953\"], [0.7777777777777778, \"#fb9f3a\"], [0.8888888888888888, \"#fdca26\"], [1.0, \"#f0f921\"]], \"type\": \"contour\"}], \"contourcarpet\": [{\"colorbar\": {\"outlinewidth\": 0, \"ticks\": \"\"}, \"type\": \"contourcarpet\"}], \"heatmap\": [{\"colorbar\": {\"outlinewidth\": 0, \"ticks\": \"\"}, \"colorscale\": [[0.0, \"#0d0887\"], [0.1111111111111111, \"#46039f\"], [0.2222222222222222, \"#7201a8\"], [0.3333333333333333, \"#9c179e\"], [0.4444444444444444, \"#bd3786\"], [0.5555555555555556, \"#d8576b\"], [0.6666666666666666, \"#ed7953\"], [0.7777777777777778, \"#fb9f3a\"], [0.8888888888888888, \"#fdca26\"], [1.0, \"#f0f921\"]], \"type\": \"heatmap\"}], \"heatmapgl\": [{\"colorbar\": {\"outlinewidth\": 0, \"ticks\": \"\"}, \"colorscale\": [[0.0, \"#0d0887\"], [0.1111111111111111, \"#46039f\"], [0.2222222222222222, \"#7201a8\"], [0.3333333333333333, \"#9c179e\"], [0.4444444444444444, \"#bd3786\"], [0.5555555555555556, \"#d8576b\"], [0.6666666666666666, \"#ed7953\"], [0.7777777777777778, \"#fb9f3a\"], [0.8888888888888888, \"#fdca26\"], [1.0, \"#f0f921\"]], \"type\": \"heatmapgl\"}], \"histogram\": [{\"marker\": {\"colorbar\": {\"outlinewidth\": 0, \"ticks\": \"\"}}, \"type\": \"histogram\"}], \"histogram2d\": [{\"colorbar\": {\"outlinewidth\": 0, \"ticks\": \"\"}, \"colorscale\": [[0.0, \"#0d0887\"], [0.1111111111111111, \"#46039f\"], [0.2222222222222222, \"#7201a8\"], [0.3333333333333333, \"#9c179e\"], [0.4444444444444444, \"#bd3786\"], [0.5555555555555556, \"#d8576b\"], [0.6666666666666666, \"#ed7953\"], [0.7777777777777778, \"#fb9f3a\"], [0.8888888888888888, \"#fdca26\"], [1.0, \"#f0f921\"]], \"type\": \"histogram2d\"}], \"histogram2dcontour\": [{\"colorbar\": {\"outlinewidth\": 0, \"ticks\": \"\"}, \"colorscale\": [[0.0, \"#0d0887\"], [0.1111111111111111, \"#46039f\"], [0.2222222222222222, \"#7201a8\"], [0.3333333333333333, \"#9c179e\"], [0.4444444444444444, \"#bd3786\"], [0.5555555555555556, \"#d8576b\"], [0.6666666666666666, \"#ed7953\"], [0.7777777777777778, \"#fb9f3a\"], [0.8888888888888888, \"#fdca26\"], [1.0, \"#f0f921\"]], \"type\": \"histogram2dcontour\"}], \"mesh3d\": [{\"colorbar\": {\"outlinewidth\": 0, \"ticks\": \"\"}, \"type\": \"mesh3d\"}], \"parcoords\": [{\"line\": {\"colorbar\": {\"outlinewidth\": 0, \"ticks\": \"\"}}, \"type\": \"parcoords\"}], \"pie\": [{\"automargin\": true, \"type\": \"pie\"}], \"scatter\": [{\"marker\": {\"colorbar\": {\"outlinewidth\": 0, \"ticks\": \"\"}}, \"type\": \"scatter\"}], \"scatter3d\": [{\"line\": {\"colorbar\": {\"outlinewidth\": 0, \"ticks\": \"\"}}, \"marker\": {\"colorbar\": {\"outlinewidth\": 0, \"ticks\": \"\"}}, \"type\": \"scatter3d\"}], \"scattercarpet\": [{\"marker\": {\"colorbar\": {\"outlinewidth\": 0, \"ticks\": \"\"}}, \"type\": \"scattercarpet\"}], \"scattergeo\": [{\"marker\": {\"colorbar\": {\"outlinewidth\": 0, \"ticks\": \"\"}}, \"type\": \"scattergeo\"}], \"scattergl\": [{\"marker\": {\"colorbar\": {\"outlinewidth\": 0, \"ticks\": \"\"}}, \"type\": \"scattergl\"}], \"scattermapbox\": [{\"marker\": {\"colorbar\": {\"outlinewidth\": 0, \"ticks\": \"\"}}, \"type\": \"scattermapbox\"}], \"scatterpolar\": [{\"marker\": {\"colorbar\": {\"outlinewidth\": 0, \"ticks\": \"\"}}, \"type\": \"scatterpolar\"}], \"scatterpolargl\": [{\"marker\": {\"colorbar\": {\"outlinewidth\": 0, \"ticks\": \"\"}}, \"type\": \"scatterpolargl\"}], \"scatterternary\": [{\"marker\": {\"colorbar\": {\"outlinewidth\": 0, \"ticks\": \"\"}}, \"type\": \"scatterternary\"}], \"surface\": [{\"colorbar\": {\"outlinewidth\": 0, \"ticks\": \"\"}, \"colorscale\": [[0.0, \"#0d0887\"], [0.1111111111111111, \"#46039f\"], [0.2222222222222222, \"#7201a8\"], [0.3333333333333333, \"#9c179e\"], [0.4444444444444444, \"#bd3786\"], [0.5555555555555556, \"#d8576b\"], [0.6666666666666666, \"#ed7953\"], [0.7777777777777778, \"#fb9f3a\"], [0.8888888888888888, \"#fdca26\"], [1.0, \"#f0f921\"]], \"type\": \"surface\"}], \"table\": [{\"cells\": {\"fill\": {\"color\": \"#EBF0F8\"}, \"line\": {\"color\": \"white\"}}, \"header\": {\"fill\": {\"color\": \"#C8D4E3\"}, \"line\": {\"color\": \"white\"}}, \"type\": \"table\"}]}, \"layout\": {\"annotationdefaults\": {\"arrowcolor\": \"#2a3f5f\", \"arrowhead\": 0, \"arrowwidth\": 1}, \"coloraxis\": {\"colorbar\": {\"outlinewidth\": 0, \"ticks\": \"\"}}, \"colorscale\": {\"diverging\": [[0, \"#8e0152\"], [0.1, \"#c51b7d\"], [0.2, \"#de77ae\"], [0.3, \"#f1b6da\"], [0.4, \"#fde0ef\"], [0.5, \"#f7f7f7\"], [0.6, \"#e6f5d0\"], [0.7, \"#b8e186\"], [0.8, \"#7fbc41\"], [0.9, \"#4d9221\"], [1, \"#276419\"]], \"sequential\": [[0.0, \"#0d0887\"], [0.1111111111111111, \"#46039f\"], [0.2222222222222222, \"#7201a8\"], [0.3333333333333333, \"#9c179e\"], [0.4444444444444444, \"#bd3786\"], [0.5555555555555556, \"#d8576b\"], [0.6666666666666666, \"#ed7953\"], [0.7777777777777778, \"#fb9f3a\"], [0.8888888888888888, \"#fdca26\"], [1.0, \"#f0f921\"]], \"sequentialminus\": [[0.0, \"#0d0887\"], [0.1111111111111111, \"#46039f\"], [0.2222222222222222, \"#7201a8\"], [0.3333333333333333, \"#9c179e\"], [0.4444444444444444, \"#bd3786\"], [0.5555555555555556, \"#d8576b\"], [0.6666666666666666, \"#ed7953\"], [0.7777777777777778, \"#fb9f3a\"], [0.8888888888888888, \"#fdca26\"], [1.0, \"#f0f921\"]]}, \"colorway\": [\"#636efa\", \"#EF553B\", \"#00cc96\", \"#ab63fa\", \"#FFA15A\", \"#19d3f3\", \"#FF6692\", \"#B6E880\", \"#FF97FF\", \"#FECB52\"], \"font\": {\"color\": \"#2a3f5f\"}, \"geo\": {\"bgcolor\": \"white\", \"lakecolor\": \"white\", \"landcolor\": \"#E5ECF6\", \"showlakes\": true, \"showland\": true, \"subunitcolor\": \"white\"}, \"hoverlabel\": {\"align\": \"left\"}, \"hovermode\": \"closest\", \"mapbox\": {\"style\": \"light\"}, \"paper_bgcolor\": \"white\", \"plot_bgcolor\": \"#E5ECF6\", \"polar\": {\"angularaxis\": {\"gridcolor\": \"white\", \"linecolor\": \"white\", \"ticks\": \"\"}, \"bgcolor\": \"#E5ECF6\", \"radialaxis\": {\"gridcolor\": \"white\", \"linecolor\": \"white\", \"ticks\": \"\"}}, \"scene\": {\"xaxis\": {\"backgroundcolor\": \"#E5ECF6\", \"gridcolor\": \"white\", \"gridwidth\": 2, \"linecolor\": \"white\", \"showbackground\": true, \"ticks\": \"\", \"zerolinecolor\": \"white\"}, \"yaxis\": {\"backgroundcolor\": \"#E5ECF6\", \"gridcolor\": \"white\", \"gridwidth\": 2, \"linecolor\": \"white\", \"showbackground\": true, \"ticks\": \"\", \"zerolinecolor\": \"white\"}, \"zaxis\": {\"backgroundcolor\": \"#E5ECF6\", \"gridcolor\": \"white\", \"gridwidth\": 2, \"linecolor\": \"white\", \"showbackground\": true, \"ticks\": \"\", \"zerolinecolor\": \"white\"}}, \"shapedefaults\": {\"line\": {\"color\": \"#2a3f5f\"}}, \"ternary\": {\"aaxis\": {\"gridcolor\": \"white\", \"linecolor\": \"white\", \"ticks\": \"\"}, \"baxis\": {\"gridcolor\": \"white\", \"linecolor\": \"white\", \"ticks\": \"\"}, \"bgcolor\": \"#E5ECF6\", \"caxis\": {\"gridcolor\": \"white\", \"linecolor\": \"white\", \"ticks\": \"\"}}, \"title\": {\"x\": 0.05}, \"xaxis\": {\"automargin\": true, \"gridcolor\": \"white\", \"linecolor\": \"white\", \"ticks\": \"\", \"title\": {\"standoff\": 15}, \"zerolinecolor\": \"white\", \"zerolinewidth\": 2}, \"yaxis\": {\"automargin\": true, \"gridcolor\": \"white\", \"linecolor\": \"white\", \"ticks\": \"\", \"title\": {\"standoff\": 15}, \"zerolinecolor\": \"white\", \"zerolinewidth\": 2}}}, \"xaxis\": {\"anchor\": \"y\", \"categoryarray\": [\"0.5\", \"0.1\", \"0.01\"], \"categoryorder\": \"array\", \"domain\": [0.0, 1.0], \"title\": {\"text\": \"kl_coeff\"}, \"type\": \"log\"}, \"yaxis\": {\"anchor\": \"x\", \"domain\": [0.0, 1.0], \"title\": {\"text\": \"fid\"}}},\n",
       "                        {\"responsive\": true}\n",
       "                    ).then(function(){\n",
       "                            \n",
       "var gd = document.getElementById('845fa1f2-7da8-492f-9cdd-63d8470f5541');\n",
       "var x = new MutationObserver(function (mutations, observer) {{\n",
       "        var display = window.getComputedStyle(gd).display;\n",
       "        if (!display || display === 'none') {{\n",
       "            console.log([gd, 'removed!']);\n",
       "            Plotly.purge(gd);\n",
       "            observer.disconnect();\n",
       "        }}\n",
       "}});\n",
       "\n",
       "// Listen for the removal of the full notebook cells\n",
       "var notebookContainer = gd.closest('#notebook-container');\n",
       "if (notebookContainer) {{\n",
       "    x.observe(notebookContainer, {childList: true});\n",
       "}}\n",
       "\n",
       "// Listen for the clearing of the current output cell\n",
       "var outputEl = gd.closest('.output');\n",
       "if (outputEl) {{\n",
       "    x.observe(outputEl, {childList: true});\n",
       "}}\n",
       "\n",
       "                        })\n",
       "                };\n",
       "                });\n",
       "            </script>\n",
       "        </div>"
      ]
     },
     "metadata": {},
     "output_type": "display_data"
    }
   ],
   "source": [
    "import plotly.express as px\n",
    "px.box(df_clean, x='kl_coeff', y='fid', boxmode=\"overlay\", log_x=True, color='kl_coeff')"
   ]
  },
  {
   "cell_type": "code",
   "execution_count": 125,
   "metadata": {},
   "outputs": [
    {
     "data": {
      "application/vnd.plotly.v1+json": {
       "config": {
        "plotlyServerURL": "https://plot.ly"
       },
       "data": [
        {
         "alignmentgroup": "True",
         "hoverlabel": {
          "namelength": 0
         },
         "hovertemplate": "latent_dim=%{x}<br>fid=%{y}",
         "legendgroup": "512",
         "marker": {
          "color": "#636efa"
         },
         "name": "512",
         "notched": false,
         "offsetgroup": "512",
         "orientation": "v",
         "showlegend": true,
         "type": "box",
         "x": [
          "512",
          "512",
          "512",
          "512",
          "512",
          "512",
          "512",
          "512",
          "512",
          "512",
          "512",
          "512",
          "512",
          "512",
          "512",
          "512",
          "512",
          "512",
          "512",
          "512",
          "512",
          "512",
          "512",
          "512",
          "512",
          "512",
          "512",
          "512",
          "512",
          "512",
          "512",
          "512",
          "512",
          "512",
          "512",
          "512",
          "512",
          "512",
          "512",
          "512",
          "512",
          "512",
          "512",
          "512",
          "512"
         ],
         "x0": " ",
         "xaxis": "x",
         "y": [
          183.2230128425353,
          183.93652220030742,
          185.64373112962676,
          186.22899859532004,
          188.2775644328286,
          188.5419358059342,
          189.21281822927318,
          189.24188551852887,
          191.20767532955287,
          192.80166114196663,
          194.06942069983023,
          194.1826017594779,
          194.33816348588218,
          196.86424614107904,
          197.0333956072078,
          199.03785057274146,
          200.40106751947522,
          200.4375891388925,
          201.57004504996203,
          205.60350502289177,
          205.62385972199502,
          206.78261758876855,
          206.98111667505736,
          207.59346341459727,
          207.82324565938518,
          208.18268687903986,
          209.19835869002048,
          209.87650026803507,
          218.61603224886528,
          218.7506912952386,
          219.41113201624506,
          219.51127867658158,
          234.88219134114624,
          241.31482904725226,
          244.16385967059543,
          246.41590291612897,
          250.8683164320369,
          251.36766178227262,
          255.8689302906269,
          258.84260705177775,
          265.25124063739304,
          265.3816839537708,
          268.5233585340053,
          269.76165897448845,
          273.86175370556236
         ],
         "y0": " ",
         "yaxis": "y"
        },
        {
         "alignmentgroup": "True",
         "hoverlabel": {
          "namelength": 0
         },
         "hovertemplate": "latent_dim=%{x}<br>fid=%{y}",
         "legendgroup": "256",
         "marker": {
          "color": "#EF553B"
         },
         "name": "256",
         "notched": false,
         "offsetgroup": "256",
         "orientation": "v",
         "showlegend": true,
         "type": "box",
         "x": [
          "256",
          "256",
          "256",
          "256",
          "256",
          "256",
          "256",
          "256",
          "256",
          "256",
          "256",
          "256",
          "256",
          "256",
          "256",
          "256",
          "256",
          "256",
          "256",
          "256",
          "256",
          "256",
          "256",
          "256",
          "256",
          "256",
          "256",
          "256",
          "256",
          "256",
          "256",
          "256",
          "256",
          "256",
          "256",
          "256",
          "256",
          "256",
          "256",
          "256",
          "256",
          "256",
          "256",
          "256",
          "256"
         ],
         "x0": " ",
         "xaxis": "x",
         "y": [
          184.9019961315352,
          190.0419070476714,
          194.24331032081724,
          199.43336142711573,
          200.08993160750356,
          203.33207805680343,
          203.61825545604322,
          203.72905353722516,
          203.90833653595533,
          207.633269016573,
          208.27931068067835,
          210.39346842096725,
          211.23258499927852,
          211.9310657908283,
          212.28851719930017,
          213.9120653436951,
          215.06071208964352,
          217.73022496659328,
          218.57746071599107,
          219.49623765622496,
          220.5816680575595,
          220.81385307148233,
          221.94983749271523,
          222.121556262038,
          222.42823919931146,
          222.58709887457923,
          223.63631279452804,
          224.00531715992346,
          227.20913510837013,
          231.0895842734356,
          233.17972646819038,
          233.69017112151005,
          234.2868136531993,
          235.1494828442612,
          235.20906710256463,
          236.71951851571202,
          237.01066415631357,
          238.38069453734124,
          241.20939213460247,
          244.848952815257,
          245.1643059771677,
          266.5119453804072,
          278.50636057807515,
          278.60120326697734,
          279.6884556934238
         ],
         "y0": " ",
         "yaxis": "y"
        },
        {
         "alignmentgroup": "True",
         "hoverlabel": {
          "namelength": 0
         },
         "hovertemplate": "latent_dim=%{x}<br>fid=%{y}",
         "legendgroup": "128",
         "marker": {
          "color": "#00cc96"
         },
         "name": "128",
         "notched": false,
         "offsetgroup": "128",
         "orientation": "v",
         "showlegend": true,
         "type": "box",
         "x": [
          "128",
          "128",
          "128",
          "128",
          "128",
          "128",
          "128",
          "128",
          "128",
          "128",
          "128",
          "128",
          "128",
          "128",
          "128",
          "128",
          "128",
          "128",
          "128",
          "128",
          "128",
          "128",
          "128",
          "128",
          "128",
          "128",
          "128",
          "128",
          "128",
          "128",
          "128",
          "128",
          "128",
          "128",
          "128",
          "128",
          "128",
          "128",
          "128",
          "128",
          "128",
          "128",
          "128",
          "128",
          "128"
         ],
         "x0": " ",
         "xaxis": "x",
         "y": [
          197.48836951735558,
          204.210455056091,
          207.76026750902588,
          208.21091676412874,
          208.35732303960418,
          208.37103792038025,
          209.6001224095616,
          210.98345889246247,
          213.985886191004,
          215.07601527902455,
          216.74491076578832,
          219.56702440660416,
          221.59217549772745,
          221.67232551562284,
          222.65412176623084,
          223.1861185662467,
          224.01600493477426,
          224.0681037099331,
          225.15811726760538,
          227.00192165648374,
          227.0528359176908,
          229.23888143601704,
          229.47484212230503,
          230.08953980773583,
          231.20664802416655,
          233.41304007928065,
          233.8970490372939,
          234.46744635601712,
          234.68567042791696,
          235.9081709463661,
          237.93936651843225,
          240.67656896579,
          241.46107459740816,
          241.9179725418422,
          243.36862982192454,
          247.7086845823012,
          249.67241369972132,
          251.261163942925,
          252.57997862364977,
          254.90249202830168,
          258.53403724743123,
          261.49339937173005,
          263.3760447088157,
          268.5000174487192,
          271.8785151329411
         ],
         "y0": " ",
         "yaxis": "y"
        }
       ],
       "layout": {
        "boxmode": "overlay",
        "legend": {
         "title": {
          "text": "latent_dim"
         },
         "tracegroupgap": 0
        },
        "margin": {
         "t": 60
        },
        "template": {
         "data": {
          "bar": [
           {
            "error_x": {
             "color": "#2a3f5f"
            },
            "error_y": {
             "color": "#2a3f5f"
            },
            "marker": {
             "line": {
              "color": "#E5ECF6",
              "width": 0.5
             }
            },
            "type": "bar"
           }
          ],
          "barpolar": [
           {
            "marker": {
             "line": {
              "color": "#E5ECF6",
              "width": 0.5
             }
            },
            "type": "barpolar"
           }
          ],
          "carpet": [
           {
            "aaxis": {
             "endlinecolor": "#2a3f5f",
             "gridcolor": "white",
             "linecolor": "white",
             "minorgridcolor": "white",
             "startlinecolor": "#2a3f5f"
            },
            "baxis": {
             "endlinecolor": "#2a3f5f",
             "gridcolor": "white",
             "linecolor": "white",
             "minorgridcolor": "white",
             "startlinecolor": "#2a3f5f"
            },
            "type": "carpet"
           }
          ],
          "choropleth": [
           {
            "colorbar": {
             "outlinewidth": 0,
             "ticks": ""
            },
            "type": "choropleth"
           }
          ],
          "contour": [
           {
            "colorbar": {
             "outlinewidth": 0,
             "ticks": ""
            },
            "colorscale": [
             [
              0,
              "#0d0887"
             ],
             [
              0.1111111111111111,
              "#46039f"
             ],
             [
              0.2222222222222222,
              "#7201a8"
             ],
             [
              0.3333333333333333,
              "#9c179e"
             ],
             [
              0.4444444444444444,
              "#bd3786"
             ],
             [
              0.5555555555555556,
              "#d8576b"
             ],
             [
              0.6666666666666666,
              "#ed7953"
             ],
             [
              0.7777777777777778,
              "#fb9f3a"
             ],
             [
              0.8888888888888888,
              "#fdca26"
             ],
             [
              1,
              "#f0f921"
             ]
            ],
            "type": "contour"
           }
          ],
          "contourcarpet": [
           {
            "colorbar": {
             "outlinewidth": 0,
             "ticks": ""
            },
            "type": "contourcarpet"
           }
          ],
          "heatmap": [
           {
            "colorbar": {
             "outlinewidth": 0,
             "ticks": ""
            },
            "colorscale": [
             [
              0,
              "#0d0887"
             ],
             [
              0.1111111111111111,
              "#46039f"
             ],
             [
              0.2222222222222222,
              "#7201a8"
             ],
             [
              0.3333333333333333,
              "#9c179e"
             ],
             [
              0.4444444444444444,
              "#bd3786"
             ],
             [
              0.5555555555555556,
              "#d8576b"
             ],
             [
              0.6666666666666666,
              "#ed7953"
             ],
             [
              0.7777777777777778,
              "#fb9f3a"
             ],
             [
              0.8888888888888888,
              "#fdca26"
             ],
             [
              1,
              "#f0f921"
             ]
            ],
            "type": "heatmap"
           }
          ],
          "heatmapgl": [
           {
            "colorbar": {
             "outlinewidth": 0,
             "ticks": ""
            },
            "colorscale": [
             [
              0,
              "#0d0887"
             ],
             [
              0.1111111111111111,
              "#46039f"
             ],
             [
              0.2222222222222222,
              "#7201a8"
             ],
             [
              0.3333333333333333,
              "#9c179e"
             ],
             [
              0.4444444444444444,
              "#bd3786"
             ],
             [
              0.5555555555555556,
              "#d8576b"
             ],
             [
              0.6666666666666666,
              "#ed7953"
             ],
             [
              0.7777777777777778,
              "#fb9f3a"
             ],
             [
              0.8888888888888888,
              "#fdca26"
             ],
             [
              1,
              "#f0f921"
             ]
            ],
            "type": "heatmapgl"
           }
          ],
          "histogram": [
           {
            "marker": {
             "colorbar": {
              "outlinewidth": 0,
              "ticks": ""
             }
            },
            "type": "histogram"
           }
          ],
          "histogram2d": [
           {
            "colorbar": {
             "outlinewidth": 0,
             "ticks": ""
            },
            "colorscale": [
             [
              0,
              "#0d0887"
             ],
             [
              0.1111111111111111,
              "#46039f"
             ],
             [
              0.2222222222222222,
              "#7201a8"
             ],
             [
              0.3333333333333333,
              "#9c179e"
             ],
             [
              0.4444444444444444,
              "#bd3786"
             ],
             [
              0.5555555555555556,
              "#d8576b"
             ],
             [
              0.6666666666666666,
              "#ed7953"
             ],
             [
              0.7777777777777778,
              "#fb9f3a"
             ],
             [
              0.8888888888888888,
              "#fdca26"
             ],
             [
              1,
              "#f0f921"
             ]
            ],
            "type": "histogram2d"
           }
          ],
          "histogram2dcontour": [
           {
            "colorbar": {
             "outlinewidth": 0,
             "ticks": ""
            },
            "colorscale": [
             [
              0,
              "#0d0887"
             ],
             [
              0.1111111111111111,
              "#46039f"
             ],
             [
              0.2222222222222222,
              "#7201a8"
             ],
             [
              0.3333333333333333,
              "#9c179e"
             ],
             [
              0.4444444444444444,
              "#bd3786"
             ],
             [
              0.5555555555555556,
              "#d8576b"
             ],
             [
              0.6666666666666666,
              "#ed7953"
             ],
             [
              0.7777777777777778,
              "#fb9f3a"
             ],
             [
              0.8888888888888888,
              "#fdca26"
             ],
             [
              1,
              "#f0f921"
             ]
            ],
            "type": "histogram2dcontour"
           }
          ],
          "mesh3d": [
           {
            "colorbar": {
             "outlinewidth": 0,
             "ticks": ""
            },
            "type": "mesh3d"
           }
          ],
          "parcoords": [
           {
            "line": {
             "colorbar": {
              "outlinewidth": 0,
              "ticks": ""
             }
            },
            "type": "parcoords"
           }
          ],
          "pie": [
           {
            "automargin": true,
            "type": "pie"
           }
          ],
          "scatter": [
           {
            "marker": {
             "colorbar": {
              "outlinewidth": 0,
              "ticks": ""
             }
            },
            "type": "scatter"
           }
          ],
          "scatter3d": [
           {
            "line": {
             "colorbar": {
              "outlinewidth": 0,
              "ticks": ""
             }
            },
            "marker": {
             "colorbar": {
              "outlinewidth": 0,
              "ticks": ""
             }
            },
            "type": "scatter3d"
           }
          ],
          "scattercarpet": [
           {
            "marker": {
             "colorbar": {
              "outlinewidth": 0,
              "ticks": ""
             }
            },
            "type": "scattercarpet"
           }
          ],
          "scattergeo": [
           {
            "marker": {
             "colorbar": {
              "outlinewidth": 0,
              "ticks": ""
             }
            },
            "type": "scattergeo"
           }
          ],
          "scattergl": [
           {
            "marker": {
             "colorbar": {
              "outlinewidth": 0,
              "ticks": ""
             }
            },
            "type": "scattergl"
           }
          ],
          "scattermapbox": [
           {
            "marker": {
             "colorbar": {
              "outlinewidth": 0,
              "ticks": ""
             }
            },
            "type": "scattermapbox"
           }
          ],
          "scatterpolar": [
           {
            "marker": {
             "colorbar": {
              "outlinewidth": 0,
              "ticks": ""
             }
            },
            "type": "scatterpolar"
           }
          ],
          "scatterpolargl": [
           {
            "marker": {
             "colorbar": {
              "outlinewidth": 0,
              "ticks": ""
             }
            },
            "type": "scatterpolargl"
           }
          ],
          "scatterternary": [
           {
            "marker": {
             "colorbar": {
              "outlinewidth": 0,
              "ticks": ""
             }
            },
            "type": "scatterternary"
           }
          ],
          "surface": [
           {
            "colorbar": {
             "outlinewidth": 0,
             "ticks": ""
            },
            "colorscale": [
             [
              0,
              "#0d0887"
             ],
             [
              0.1111111111111111,
              "#46039f"
             ],
             [
              0.2222222222222222,
              "#7201a8"
             ],
             [
              0.3333333333333333,
              "#9c179e"
             ],
             [
              0.4444444444444444,
              "#bd3786"
             ],
             [
              0.5555555555555556,
              "#d8576b"
             ],
             [
              0.6666666666666666,
              "#ed7953"
             ],
             [
              0.7777777777777778,
              "#fb9f3a"
             ],
             [
              0.8888888888888888,
              "#fdca26"
             ],
             [
              1,
              "#f0f921"
             ]
            ],
            "type": "surface"
           }
          ],
          "table": [
           {
            "cells": {
             "fill": {
              "color": "#EBF0F8"
             },
             "line": {
              "color": "white"
             }
            },
            "header": {
             "fill": {
              "color": "#C8D4E3"
             },
             "line": {
              "color": "white"
             }
            },
            "type": "table"
           }
          ]
         },
         "layout": {
          "annotationdefaults": {
           "arrowcolor": "#2a3f5f",
           "arrowhead": 0,
           "arrowwidth": 1
          },
          "coloraxis": {
           "colorbar": {
            "outlinewidth": 0,
            "ticks": ""
           }
          },
          "colorscale": {
           "diverging": [
            [
             0,
             "#8e0152"
            ],
            [
             0.1,
             "#c51b7d"
            ],
            [
             0.2,
             "#de77ae"
            ],
            [
             0.3,
             "#f1b6da"
            ],
            [
             0.4,
             "#fde0ef"
            ],
            [
             0.5,
             "#f7f7f7"
            ],
            [
             0.6,
             "#e6f5d0"
            ],
            [
             0.7,
             "#b8e186"
            ],
            [
             0.8,
             "#7fbc41"
            ],
            [
             0.9,
             "#4d9221"
            ],
            [
             1,
             "#276419"
            ]
           ],
           "sequential": [
            [
             0,
             "#0d0887"
            ],
            [
             0.1111111111111111,
             "#46039f"
            ],
            [
             0.2222222222222222,
             "#7201a8"
            ],
            [
             0.3333333333333333,
             "#9c179e"
            ],
            [
             0.4444444444444444,
             "#bd3786"
            ],
            [
             0.5555555555555556,
             "#d8576b"
            ],
            [
             0.6666666666666666,
             "#ed7953"
            ],
            [
             0.7777777777777778,
             "#fb9f3a"
            ],
            [
             0.8888888888888888,
             "#fdca26"
            ],
            [
             1,
             "#f0f921"
            ]
           ],
           "sequentialminus": [
            [
             0,
             "#0d0887"
            ],
            [
             0.1111111111111111,
             "#46039f"
            ],
            [
             0.2222222222222222,
             "#7201a8"
            ],
            [
             0.3333333333333333,
             "#9c179e"
            ],
            [
             0.4444444444444444,
             "#bd3786"
            ],
            [
             0.5555555555555556,
             "#d8576b"
            ],
            [
             0.6666666666666666,
             "#ed7953"
            ],
            [
             0.7777777777777778,
             "#fb9f3a"
            ],
            [
             0.8888888888888888,
             "#fdca26"
            ],
            [
             1,
             "#f0f921"
            ]
           ]
          },
          "colorway": [
           "#636efa",
           "#EF553B",
           "#00cc96",
           "#ab63fa",
           "#FFA15A",
           "#19d3f3",
           "#FF6692",
           "#B6E880",
           "#FF97FF",
           "#FECB52"
          ],
          "font": {
           "color": "#2a3f5f"
          },
          "geo": {
           "bgcolor": "white",
           "lakecolor": "white",
           "landcolor": "#E5ECF6",
           "showlakes": true,
           "showland": true,
           "subunitcolor": "white"
          },
          "hoverlabel": {
           "align": "left"
          },
          "hovermode": "closest",
          "mapbox": {
           "style": "light"
          },
          "paper_bgcolor": "white",
          "plot_bgcolor": "#E5ECF6",
          "polar": {
           "angularaxis": {
            "gridcolor": "white",
            "linecolor": "white",
            "ticks": ""
           },
           "bgcolor": "#E5ECF6",
           "radialaxis": {
            "gridcolor": "white",
            "linecolor": "white",
            "ticks": ""
           }
          },
          "scene": {
           "xaxis": {
            "backgroundcolor": "#E5ECF6",
            "gridcolor": "white",
            "gridwidth": 2,
            "linecolor": "white",
            "showbackground": true,
            "ticks": "",
            "zerolinecolor": "white"
           },
           "yaxis": {
            "backgroundcolor": "#E5ECF6",
            "gridcolor": "white",
            "gridwidth": 2,
            "linecolor": "white",
            "showbackground": true,
            "ticks": "",
            "zerolinecolor": "white"
           },
           "zaxis": {
            "backgroundcolor": "#E5ECF6",
            "gridcolor": "white",
            "gridwidth": 2,
            "linecolor": "white",
            "showbackground": true,
            "ticks": "",
            "zerolinecolor": "white"
           }
          },
          "shapedefaults": {
           "line": {
            "color": "#2a3f5f"
           }
          },
          "ternary": {
           "aaxis": {
            "gridcolor": "white",
            "linecolor": "white",
            "ticks": ""
           },
           "baxis": {
            "gridcolor": "white",
            "linecolor": "white",
            "ticks": ""
           },
           "bgcolor": "#E5ECF6",
           "caxis": {
            "gridcolor": "white",
            "linecolor": "white",
            "ticks": ""
           }
          },
          "title": {
           "x": 0.05
          },
          "xaxis": {
           "automargin": true,
           "gridcolor": "white",
           "linecolor": "white",
           "ticks": "",
           "title": {
            "standoff": 15
           },
           "zerolinecolor": "white",
           "zerolinewidth": 2
          },
          "yaxis": {
           "automargin": true,
           "gridcolor": "white",
           "linecolor": "white",
           "ticks": "",
           "title": {
            "standoff": 15
           },
           "zerolinecolor": "white",
           "zerolinewidth": 2
          }
         }
        },
        "xaxis": {
         "anchor": "y",
         "categoryarray": [
          "512",
          "256",
          "128"
         ],
         "categoryorder": "array",
         "domain": [
          0,
          1
         ],
         "title": {
          "text": "latent_dim"
         },
         "type": "log"
        },
        "yaxis": {
         "anchor": "x",
         "domain": [
          0,
          1
         ],
         "title": {
          "text": "fid"
         }
        }
       }
      },
      "text/html": [
       "<div>\n",
       "        \n",
       "        \n",
       "            <div id=\"c1ab6e78-a93a-4fff-b3bd-08ba40710eb6\" class=\"plotly-graph-div\" style=\"height:525px; width:100%;\"></div>\n",
       "            <script type=\"text/javascript\">\n",
       "                require([\"plotly\"], function(Plotly) {\n",
       "                    window.PLOTLYENV=window.PLOTLYENV || {};\n",
       "                    \n",
       "                if (document.getElementById(\"c1ab6e78-a93a-4fff-b3bd-08ba40710eb6\")) {\n",
       "                    Plotly.newPlot(\n",
       "                        'c1ab6e78-a93a-4fff-b3bd-08ba40710eb6',\n",
       "                        [{\"alignmentgroup\": \"True\", \"hoverlabel\": {\"namelength\": 0}, \"hovertemplate\": \"latent_dim=%{x}<br>fid=%{y}\", \"legendgroup\": \"512\", \"marker\": {\"color\": \"#636efa\"}, \"name\": \"512\", \"notched\": false, \"offsetgroup\": \"512\", \"orientation\": \"v\", \"showlegend\": true, \"type\": \"box\", \"x\": [\"512\", \"512\", \"512\", \"512\", \"512\", \"512\", \"512\", \"512\", \"512\", \"512\", \"512\", \"512\", \"512\", \"512\", \"512\", \"512\", \"512\", \"512\", \"512\", \"512\", \"512\", \"512\", \"512\", \"512\", \"512\", \"512\", \"512\", \"512\", \"512\", \"512\", \"512\", \"512\", \"512\", \"512\", \"512\", \"512\", \"512\", \"512\", \"512\", \"512\", \"512\", \"512\", \"512\", \"512\", \"512\"], \"x0\": \" \", \"xaxis\": \"x\", \"y\": [183.2230128425353, 183.93652220030742, 185.64373112962676, 186.22899859532004, 188.2775644328286, 188.5419358059342, 189.21281822927318, 189.24188551852887, 191.20767532955287, 192.80166114196663, 194.06942069983023, 194.1826017594779, 194.33816348588218, 196.86424614107904, 197.0333956072078, 199.03785057274146, 200.40106751947522, 200.4375891388925, 201.57004504996203, 205.60350502289177, 205.62385972199502, 206.78261758876855, 206.98111667505736, 207.59346341459727, 207.82324565938518, 208.18268687903986, 209.19835869002048, 209.87650026803507, 218.61603224886528, 218.7506912952386, 219.41113201624506, 219.51127867658158, 234.88219134114624, 241.31482904725226, 244.16385967059543, 246.41590291612897, 250.8683164320369, 251.36766178227262, 255.8689302906269, 258.84260705177775, 265.25124063739304, 265.3816839537708, 268.5233585340053, 269.76165897448845, 273.86175370556236], \"y0\": \" \", \"yaxis\": \"y\"}, {\"alignmentgroup\": \"True\", \"hoverlabel\": {\"namelength\": 0}, \"hovertemplate\": \"latent_dim=%{x}<br>fid=%{y}\", \"legendgroup\": \"256\", \"marker\": {\"color\": \"#EF553B\"}, \"name\": \"256\", \"notched\": false, \"offsetgroup\": \"256\", \"orientation\": \"v\", \"showlegend\": true, \"type\": \"box\", \"x\": [\"256\", \"256\", \"256\", \"256\", \"256\", \"256\", \"256\", \"256\", \"256\", \"256\", \"256\", \"256\", \"256\", \"256\", \"256\", \"256\", \"256\", \"256\", \"256\", \"256\", \"256\", \"256\", \"256\", \"256\", \"256\", \"256\", \"256\", \"256\", \"256\", \"256\", \"256\", \"256\", \"256\", \"256\", \"256\", \"256\", \"256\", \"256\", \"256\", \"256\", \"256\", \"256\", \"256\", \"256\", \"256\"], \"x0\": \" \", \"xaxis\": \"x\", \"y\": [184.9019961315352, 190.0419070476714, 194.24331032081724, 199.43336142711573, 200.08993160750356, 203.33207805680343, 203.61825545604322, 203.72905353722516, 203.90833653595533, 207.633269016573, 208.27931068067835, 210.39346842096725, 211.23258499927852, 211.9310657908283, 212.28851719930017, 213.9120653436951, 215.06071208964352, 217.73022496659328, 218.57746071599107, 219.49623765622496, 220.5816680575595, 220.81385307148233, 221.94983749271523, 222.121556262038, 222.42823919931146, 222.58709887457923, 223.63631279452804, 224.00531715992346, 227.20913510837013, 231.0895842734356, 233.17972646819038, 233.69017112151005, 234.2868136531993, 235.1494828442612, 235.20906710256463, 236.71951851571202, 237.01066415631357, 238.38069453734124, 241.20939213460247, 244.848952815257, 245.1643059771677, 266.5119453804072, 278.50636057807515, 278.60120326697734, 279.6884556934238], \"y0\": \" \", \"yaxis\": \"y\"}, {\"alignmentgroup\": \"True\", \"hoverlabel\": {\"namelength\": 0}, \"hovertemplate\": \"latent_dim=%{x}<br>fid=%{y}\", \"legendgroup\": \"128\", \"marker\": {\"color\": \"#00cc96\"}, \"name\": \"128\", \"notched\": false, \"offsetgroup\": \"128\", \"orientation\": \"v\", \"showlegend\": true, \"type\": \"box\", \"x\": [\"128\", \"128\", \"128\", \"128\", \"128\", \"128\", \"128\", \"128\", \"128\", \"128\", \"128\", \"128\", \"128\", \"128\", \"128\", \"128\", \"128\", \"128\", \"128\", \"128\", \"128\", \"128\", \"128\", \"128\", \"128\", \"128\", \"128\", \"128\", \"128\", \"128\", \"128\", \"128\", \"128\", \"128\", \"128\", \"128\", \"128\", \"128\", \"128\", \"128\", \"128\", \"128\", \"128\", \"128\", \"128\"], \"x0\": \" \", \"xaxis\": \"x\", \"y\": [197.48836951735558, 204.210455056091, 207.76026750902588, 208.21091676412874, 208.35732303960418, 208.37103792038025, 209.6001224095616, 210.98345889246247, 213.985886191004, 215.07601527902455, 216.74491076578832, 219.56702440660416, 221.59217549772745, 221.67232551562284, 222.65412176623084, 223.1861185662467, 224.01600493477426, 224.0681037099331, 225.15811726760538, 227.00192165648374, 227.0528359176908, 229.23888143601704, 229.47484212230503, 230.08953980773583, 231.20664802416655, 233.41304007928065, 233.8970490372939, 234.46744635601712, 234.68567042791696, 235.9081709463661, 237.93936651843225, 240.67656896579, 241.46107459740816, 241.9179725418422, 243.36862982192454, 247.7086845823012, 249.67241369972132, 251.261163942925, 252.57997862364977, 254.90249202830168, 258.53403724743123, 261.49339937173005, 263.3760447088157, 268.5000174487192, 271.8785151329411], \"y0\": \" \", \"yaxis\": \"y\"}],\n",
       "                        {\"boxmode\": \"overlay\", \"legend\": {\"title\": {\"text\": \"latent_dim\"}, \"tracegroupgap\": 0}, \"margin\": {\"t\": 60}, \"template\": {\"data\": {\"bar\": [{\"error_x\": {\"color\": \"#2a3f5f\"}, \"error_y\": {\"color\": \"#2a3f5f\"}, \"marker\": {\"line\": {\"color\": \"#E5ECF6\", \"width\": 0.5}}, \"type\": \"bar\"}], \"barpolar\": [{\"marker\": {\"line\": {\"color\": \"#E5ECF6\", \"width\": 0.5}}, \"type\": \"barpolar\"}], \"carpet\": [{\"aaxis\": {\"endlinecolor\": \"#2a3f5f\", \"gridcolor\": \"white\", \"linecolor\": \"white\", \"minorgridcolor\": \"white\", \"startlinecolor\": \"#2a3f5f\"}, \"baxis\": {\"endlinecolor\": \"#2a3f5f\", \"gridcolor\": \"white\", \"linecolor\": \"white\", \"minorgridcolor\": \"white\", \"startlinecolor\": \"#2a3f5f\"}, \"type\": \"carpet\"}], \"choropleth\": [{\"colorbar\": {\"outlinewidth\": 0, \"ticks\": \"\"}, \"type\": \"choropleth\"}], \"contour\": [{\"colorbar\": {\"outlinewidth\": 0, \"ticks\": \"\"}, \"colorscale\": [[0.0, \"#0d0887\"], [0.1111111111111111, \"#46039f\"], [0.2222222222222222, \"#7201a8\"], [0.3333333333333333, \"#9c179e\"], [0.4444444444444444, \"#bd3786\"], [0.5555555555555556, \"#d8576b\"], [0.6666666666666666, \"#ed7953\"], [0.7777777777777778, \"#fb9f3a\"], [0.8888888888888888, \"#fdca26\"], [1.0, \"#f0f921\"]], \"type\": \"contour\"}], \"contourcarpet\": [{\"colorbar\": {\"outlinewidth\": 0, \"ticks\": \"\"}, \"type\": \"contourcarpet\"}], \"heatmap\": [{\"colorbar\": {\"outlinewidth\": 0, \"ticks\": \"\"}, \"colorscale\": [[0.0, \"#0d0887\"], [0.1111111111111111, \"#46039f\"], [0.2222222222222222, \"#7201a8\"], [0.3333333333333333, \"#9c179e\"], [0.4444444444444444, \"#bd3786\"], [0.5555555555555556, \"#d8576b\"], [0.6666666666666666, \"#ed7953\"], [0.7777777777777778, \"#fb9f3a\"], [0.8888888888888888, \"#fdca26\"], [1.0, \"#f0f921\"]], \"type\": \"heatmap\"}], \"heatmapgl\": [{\"colorbar\": {\"outlinewidth\": 0, \"ticks\": \"\"}, \"colorscale\": [[0.0, \"#0d0887\"], [0.1111111111111111, \"#46039f\"], [0.2222222222222222, \"#7201a8\"], [0.3333333333333333, \"#9c179e\"], [0.4444444444444444, \"#bd3786\"], [0.5555555555555556, \"#d8576b\"], [0.6666666666666666, \"#ed7953\"], [0.7777777777777778, \"#fb9f3a\"], [0.8888888888888888, \"#fdca26\"], [1.0, \"#f0f921\"]], \"type\": \"heatmapgl\"}], \"histogram\": [{\"marker\": {\"colorbar\": {\"outlinewidth\": 0, \"ticks\": \"\"}}, \"type\": \"histogram\"}], \"histogram2d\": [{\"colorbar\": {\"outlinewidth\": 0, \"ticks\": \"\"}, \"colorscale\": [[0.0, \"#0d0887\"], [0.1111111111111111, \"#46039f\"], [0.2222222222222222, \"#7201a8\"], [0.3333333333333333, \"#9c179e\"], [0.4444444444444444, \"#bd3786\"], [0.5555555555555556, \"#d8576b\"], [0.6666666666666666, \"#ed7953\"], [0.7777777777777778, \"#fb9f3a\"], [0.8888888888888888, \"#fdca26\"], [1.0, \"#f0f921\"]], \"type\": \"histogram2d\"}], \"histogram2dcontour\": [{\"colorbar\": {\"outlinewidth\": 0, \"ticks\": \"\"}, \"colorscale\": [[0.0, \"#0d0887\"], [0.1111111111111111, \"#46039f\"], [0.2222222222222222, \"#7201a8\"], [0.3333333333333333, \"#9c179e\"], [0.4444444444444444, \"#bd3786\"], [0.5555555555555556, \"#d8576b\"], [0.6666666666666666, \"#ed7953\"], [0.7777777777777778, \"#fb9f3a\"], [0.8888888888888888, \"#fdca26\"], [1.0, \"#f0f921\"]], \"type\": \"histogram2dcontour\"}], \"mesh3d\": [{\"colorbar\": {\"outlinewidth\": 0, \"ticks\": \"\"}, \"type\": \"mesh3d\"}], \"parcoords\": [{\"line\": {\"colorbar\": {\"outlinewidth\": 0, \"ticks\": \"\"}}, \"type\": \"parcoords\"}], \"pie\": [{\"automargin\": true, \"type\": \"pie\"}], \"scatter\": [{\"marker\": {\"colorbar\": {\"outlinewidth\": 0, \"ticks\": \"\"}}, \"type\": \"scatter\"}], \"scatter3d\": [{\"line\": {\"colorbar\": {\"outlinewidth\": 0, \"ticks\": \"\"}}, \"marker\": {\"colorbar\": {\"outlinewidth\": 0, \"ticks\": \"\"}}, \"type\": \"scatter3d\"}], \"scattercarpet\": [{\"marker\": {\"colorbar\": {\"outlinewidth\": 0, \"ticks\": \"\"}}, \"type\": \"scattercarpet\"}], \"scattergeo\": [{\"marker\": {\"colorbar\": {\"outlinewidth\": 0, \"ticks\": \"\"}}, \"type\": \"scattergeo\"}], \"scattergl\": [{\"marker\": {\"colorbar\": {\"outlinewidth\": 0, \"ticks\": \"\"}}, \"type\": \"scattergl\"}], \"scattermapbox\": [{\"marker\": {\"colorbar\": {\"outlinewidth\": 0, \"ticks\": \"\"}}, \"type\": \"scattermapbox\"}], \"scatterpolar\": [{\"marker\": {\"colorbar\": {\"outlinewidth\": 0, \"ticks\": \"\"}}, \"type\": \"scatterpolar\"}], \"scatterpolargl\": [{\"marker\": {\"colorbar\": {\"outlinewidth\": 0, \"ticks\": \"\"}}, \"type\": \"scatterpolargl\"}], \"scatterternary\": [{\"marker\": {\"colorbar\": {\"outlinewidth\": 0, \"ticks\": \"\"}}, \"type\": \"scatterternary\"}], \"surface\": [{\"colorbar\": {\"outlinewidth\": 0, \"ticks\": \"\"}, \"colorscale\": [[0.0, \"#0d0887\"], [0.1111111111111111, \"#46039f\"], [0.2222222222222222, \"#7201a8\"], [0.3333333333333333, \"#9c179e\"], [0.4444444444444444, \"#bd3786\"], [0.5555555555555556, \"#d8576b\"], [0.6666666666666666, \"#ed7953\"], [0.7777777777777778, \"#fb9f3a\"], [0.8888888888888888, \"#fdca26\"], [1.0, \"#f0f921\"]], \"type\": \"surface\"}], \"table\": [{\"cells\": {\"fill\": {\"color\": \"#EBF0F8\"}, \"line\": {\"color\": \"white\"}}, \"header\": {\"fill\": {\"color\": \"#C8D4E3\"}, \"line\": {\"color\": \"white\"}}, \"type\": \"table\"}]}, \"layout\": {\"annotationdefaults\": {\"arrowcolor\": \"#2a3f5f\", \"arrowhead\": 0, \"arrowwidth\": 1}, \"coloraxis\": {\"colorbar\": {\"outlinewidth\": 0, \"ticks\": \"\"}}, \"colorscale\": {\"diverging\": [[0, \"#8e0152\"], [0.1, \"#c51b7d\"], [0.2, \"#de77ae\"], [0.3, \"#f1b6da\"], [0.4, \"#fde0ef\"], [0.5, \"#f7f7f7\"], [0.6, \"#e6f5d0\"], [0.7, \"#b8e186\"], [0.8, \"#7fbc41\"], [0.9, \"#4d9221\"], [1, \"#276419\"]], \"sequential\": [[0.0, \"#0d0887\"], [0.1111111111111111, \"#46039f\"], [0.2222222222222222, \"#7201a8\"], [0.3333333333333333, \"#9c179e\"], [0.4444444444444444, \"#bd3786\"], [0.5555555555555556, \"#d8576b\"], [0.6666666666666666, \"#ed7953\"], [0.7777777777777778, \"#fb9f3a\"], [0.8888888888888888, \"#fdca26\"], [1.0, \"#f0f921\"]], \"sequentialminus\": [[0.0, \"#0d0887\"], [0.1111111111111111, \"#46039f\"], [0.2222222222222222, \"#7201a8\"], [0.3333333333333333, \"#9c179e\"], [0.4444444444444444, \"#bd3786\"], [0.5555555555555556, \"#d8576b\"], [0.6666666666666666, \"#ed7953\"], [0.7777777777777778, \"#fb9f3a\"], [0.8888888888888888, \"#fdca26\"], [1.0, \"#f0f921\"]]}, \"colorway\": [\"#636efa\", \"#EF553B\", \"#00cc96\", \"#ab63fa\", \"#FFA15A\", \"#19d3f3\", \"#FF6692\", \"#B6E880\", \"#FF97FF\", \"#FECB52\"], \"font\": {\"color\": \"#2a3f5f\"}, \"geo\": {\"bgcolor\": \"white\", \"lakecolor\": \"white\", \"landcolor\": \"#E5ECF6\", \"showlakes\": true, \"showland\": true, \"subunitcolor\": \"white\"}, \"hoverlabel\": {\"align\": \"left\"}, \"hovermode\": \"closest\", \"mapbox\": {\"style\": \"light\"}, \"paper_bgcolor\": \"white\", \"plot_bgcolor\": \"#E5ECF6\", \"polar\": {\"angularaxis\": {\"gridcolor\": \"white\", \"linecolor\": \"white\", \"ticks\": \"\"}, \"bgcolor\": \"#E5ECF6\", \"radialaxis\": {\"gridcolor\": \"white\", \"linecolor\": \"white\", \"ticks\": \"\"}}, \"scene\": {\"xaxis\": {\"backgroundcolor\": \"#E5ECF6\", \"gridcolor\": \"white\", \"gridwidth\": 2, \"linecolor\": \"white\", \"showbackground\": true, \"ticks\": \"\", \"zerolinecolor\": \"white\"}, \"yaxis\": {\"backgroundcolor\": \"#E5ECF6\", \"gridcolor\": \"white\", \"gridwidth\": 2, \"linecolor\": \"white\", \"showbackground\": true, \"ticks\": \"\", \"zerolinecolor\": \"white\"}, \"zaxis\": {\"backgroundcolor\": \"#E5ECF6\", \"gridcolor\": \"white\", \"gridwidth\": 2, \"linecolor\": \"white\", \"showbackground\": true, \"ticks\": \"\", \"zerolinecolor\": \"white\"}}, \"shapedefaults\": {\"line\": {\"color\": \"#2a3f5f\"}}, \"ternary\": {\"aaxis\": {\"gridcolor\": \"white\", \"linecolor\": \"white\", \"ticks\": \"\"}, \"baxis\": {\"gridcolor\": \"white\", \"linecolor\": \"white\", \"ticks\": \"\"}, \"bgcolor\": \"#E5ECF6\", \"caxis\": {\"gridcolor\": \"white\", \"linecolor\": \"white\", \"ticks\": \"\"}}, \"title\": {\"x\": 0.05}, \"xaxis\": {\"automargin\": true, \"gridcolor\": \"white\", \"linecolor\": \"white\", \"ticks\": \"\", \"title\": {\"standoff\": 15}, \"zerolinecolor\": \"white\", \"zerolinewidth\": 2}, \"yaxis\": {\"automargin\": true, \"gridcolor\": \"white\", \"linecolor\": \"white\", \"ticks\": \"\", \"title\": {\"standoff\": 15}, \"zerolinecolor\": \"white\", \"zerolinewidth\": 2}}}, \"xaxis\": {\"anchor\": \"y\", \"categoryarray\": [\"512\", \"256\", \"128\"], \"categoryorder\": \"array\", \"domain\": [0.0, 1.0], \"title\": {\"text\": \"latent_dim\"}, \"type\": \"log\"}, \"yaxis\": {\"anchor\": \"x\", \"domain\": [0.0, 1.0], \"title\": {\"text\": \"fid\"}}},\n",
       "                        {\"responsive\": true}\n",
       "                    ).then(function(){\n",
       "                            \n",
       "var gd = document.getElementById('c1ab6e78-a93a-4fff-b3bd-08ba40710eb6');\n",
       "var x = new MutationObserver(function (mutations, observer) {{\n",
       "        var display = window.getComputedStyle(gd).display;\n",
       "        if (!display || display === 'none') {{\n",
       "            console.log([gd, 'removed!']);\n",
       "            Plotly.purge(gd);\n",
       "            observer.disconnect();\n",
       "        }}\n",
       "}});\n",
       "\n",
       "// Listen for the removal of the full notebook cells\n",
       "var notebookContainer = gd.closest('#notebook-container');\n",
       "if (notebookContainer) {{\n",
       "    x.observe(notebookContainer, {childList: true});\n",
       "}}\n",
       "\n",
       "// Listen for the clearing of the current output cell\n",
       "var outputEl = gd.closest('.output');\n",
       "if (outputEl) {{\n",
       "    x.observe(outputEl, {childList: true});\n",
       "}}\n",
       "\n",
       "                        })\n",
       "                };\n",
       "                });\n",
       "            </script>\n",
       "        </div>"
      ]
     },
     "metadata": {},
     "output_type": "display_data"
    }
   ],
   "source": [
    "px.box(df_clean, x='latent_dim', y='fid', boxmode=\"overlay\", log_x=True, color='latent_dim')"
   ]
  },
  {
   "cell_type": "code",
   "execution_count": 124,
   "metadata": {},
   "outputs": [
    {
     "data": {
      "application/vnd.plotly.v1+json": {
       "config": {
        "plotlyServerURL": "https://plot.ly"
       },
       "data": [
        {
         "alignmentgroup": "True",
         "hoverlabel": {
          "namelength": 0
         },
         "hovertemplate": "lr=%{x}<br>fid=%{y}",
         "legendgroup": "0.0001",
         "marker": {
          "color": "#636efa"
         },
         "name": "0.0001",
         "notched": false,
         "offsetgroup": "0.0001",
         "orientation": "v",
         "showlegend": true,
         "type": "box",
         "x": [
          "0.0001",
          "0.0001",
          "0.0001",
          "0.0001",
          "0.0001",
          "0.0001",
          "0.0001",
          "0.0001",
          "0.0001",
          "0.0001",
          "0.0001",
          "0.0001",
          "0.0001",
          "0.0001",
          "0.0001",
          "0.0001",
          "0.0001",
          "0.0001",
          "0.0001",
          "0.0001",
          "0.0001",
          "0.0001",
          "0.0001",
          "0.0001",
          "0.0001",
          "0.0001",
          "0.0001"
         ],
         "x0": " ",
         "xaxis": "x",
         "y": [
          183.2230128425353,
          183.93652220030742,
          184.9019961315352,
          185.64373112962676,
          188.2775644328286,
          189.21281822927318,
          189.24188551852887,
          190.0419070476714,
          191.20767532955287,
          194.1826017594779,
          197.48836951735558,
          199.03785057274146,
          199.43336142711573,
          203.61825545604322,
          203.72905353722516,
          207.76026750902588,
          208.27931068067835,
          208.35732303960418,
          209.6001224095616,
          211.9310657908283,
          213.985886191004,
          215.06071208964352,
          215.07601527902455,
          216.74491076578832,
          221.59217549772745,
          227.00192165648374,
          238.38069453734124
         ],
         "y0": " ",
         "yaxis": "y"
        },
        {
         "alignmentgroup": "True",
         "hoverlabel": {
          "namelength": 0
         },
         "hovertemplate": "lr=%{x}<br>fid=%{y}",
         "legendgroup": "5e-05",
         "marker": {
          "color": "#EF553B"
         },
         "name": "5e-05",
         "notched": false,
         "offsetgroup": "5e-05",
         "orientation": "v",
         "showlegend": true,
         "type": "box",
         "x": [
          "5e-05",
          "5e-05",
          "5e-05",
          "5e-05",
          "5e-05",
          "5e-05",
          "5e-05",
          "5e-05",
          "5e-05",
          "5e-05",
          "5e-05",
          "5e-05",
          "5e-05",
          "5e-05",
          "5e-05",
          "5e-05",
          "5e-05",
          "5e-05",
          "5e-05",
          "5e-05",
          "5e-05",
          "5e-05",
          "5e-05",
          "5e-05",
          "5e-05",
          "5e-05",
          "5e-05"
         ],
         "x0": " ",
         "xaxis": "x",
         "y": [
          186.22899859532004,
          188.5419358059342,
          194.06942069983023,
          194.24331032081724,
          194.33816348588218,
          204.210455056091,
          205.62385972199502,
          208.21091676412874,
          208.37103792038025,
          210.98345889246247,
          213.9120653436951,
          217.73022496659328,
          218.7506912952386,
          219.56702440660416,
          220.81385307148233,
          221.94983749271523,
          222.58709887457923,
          227.0528359176908,
          230.08953980773583,
          231.20664802416655,
          234.46744635601712,
          235.1494828442612,
          235.20906710256463,
          236.71951851571202,
          250.8683164320369,
          255.8689302906269,
          258.84260705177775
         ],
         "y0": " ",
         "yaxis": "y"
        },
        {
         "alignmentgroup": "True",
         "hoverlabel": {
          "namelength": 0
         },
         "hovertemplate": "lr=%{x}<br>fid=%{y}",
         "legendgroup": "0.0005",
         "marker": {
          "color": "#00cc96"
         },
         "name": "0.0005",
         "notched": false,
         "offsetgroup": "0.0005",
         "orientation": "v",
         "showlegend": true,
         "type": "box",
         "x": [
          "0.0005",
          "0.0005",
          "0.0005",
          "0.0005",
          "0.0005",
          "0.0005",
          "0.0005",
          "0.0005",
          "0.0005",
          "0.0005",
          "0.0005",
          "0.0005",
          "0.0005",
          "0.0005",
          "0.0005",
          "0.0005",
          "0.0005",
          "0.0005",
          "0.0005",
          "0.0005",
          "0.0005",
          "0.0005",
          "0.0005",
          "0.0005",
          "0.0005",
          "0.0005",
          "0.0005"
         ],
         "x0": " ",
         "xaxis": "x",
         "y": [
          192.80166114196663,
          196.86424614107904,
          197.0333956072078,
          200.08993160750356,
          200.40106751947522,
          200.4375891388925,
          201.57004504996203,
          203.33207805680343,
          203.90833653595533,
          207.633269016573,
          209.87650026803507,
          210.39346842096725,
          211.23258499927852,
          218.57746071599107,
          219.41113201624506,
          219.51127867658158,
          221.67232551562284,
          222.121556262038,
          222.65412176623084,
          223.1861185662467,
          224.01600493477426,
          224.0681037099331,
          227.20913510837013,
          229.23888143601704,
          229.47484212230503,
          234.68567042791696,
          237.93936651843225
         ],
         "y0": " ",
         "yaxis": "y"
        },
        {
         "alignmentgroup": "True",
         "hoverlabel": {
          "namelength": 0
         },
         "hovertemplate": "lr=%{x}<br>fid=%{y}",
         "legendgroup": "0.001",
         "marker": {
          "color": "#ab63fa"
         },
         "name": "0.001",
         "notched": false,
         "offsetgroup": "0.001",
         "orientation": "v",
         "showlegend": true,
         "type": "box",
         "x": [
          "0.001",
          "0.001",
          "0.001",
          "0.001",
          "0.001",
          "0.001",
          "0.001",
          "0.001",
          "0.001",
          "0.001",
          "0.001",
          "0.001",
          "0.001",
          "0.001",
          "0.001",
          "0.001",
          "0.001",
          "0.001",
          "0.001",
          "0.001",
          "0.001",
          "0.001",
          "0.001",
          "0.001",
          "0.001",
          "0.001",
          "0.001"
         ],
         "x0": " ",
         "xaxis": "x",
         "y": [
          205.60350502289177,
          206.78261758876855,
          206.98111667505736,
          207.59346341459727,
          207.82324565938518,
          208.18268687903986,
          209.19835869002048,
          212.28851719930017,
          218.61603224886528,
          219.49623765622496,
          220.5816680575595,
          222.42823919931146,
          223.63631279452804,
          224.00531715992346,
          231.0895842734356,
          233.69017112151005,
          233.8970490372939,
          234.88219134114624,
          235.9081709463661,
          237.01066415631357,
          240.67656896579,
          241.46107459740816,
          241.9179725418422,
          243.36862982192454,
          247.7086845823012,
          249.67241369972132,
          261.49339937173005
         ],
         "y0": " ",
         "yaxis": "y"
        },
        {
         "alignmentgroup": "True",
         "hoverlabel": {
          "namelength": 0
         },
         "hovertemplate": "lr=%{x}<br>fid=%{y}",
         "legendgroup": "1e-05",
         "marker": {
          "color": "#FFA15A"
         },
         "name": "1e-05",
         "notched": false,
         "offsetgroup": "1e-05",
         "orientation": "v",
         "showlegend": true,
         "type": "box",
         "x": [
          "1e-05",
          "1e-05",
          "1e-05",
          "1e-05",
          "1e-05",
          "1e-05",
          "1e-05",
          "1e-05",
          "1e-05",
          "1e-05",
          "1e-05",
          "1e-05",
          "1e-05",
          "1e-05",
          "1e-05",
          "1e-05",
          "1e-05",
          "1e-05",
          "1e-05",
          "1e-05",
          "1e-05",
          "1e-05",
          "1e-05",
          "1e-05",
          "1e-05",
          "1e-05",
          "1e-05"
         ],
         "x0": " ",
         "xaxis": "x",
         "y": [
          225.15811726760538,
          233.17972646819038,
          233.41304007928065,
          234.2868136531993,
          241.20939213460247,
          241.31482904725226,
          244.16385967059543,
          244.848952815257,
          245.1643059771677,
          246.41590291612897,
          251.261163942925,
          251.36766178227262,
          252.57997862364977,
          254.90249202830168,
          258.53403724743123,
          263.3760447088157,
          265.25124063739304,
          265.3816839537708,
          266.5119453804072,
          268.5000174487192,
          268.5233585340053,
          269.76165897448845,
          271.8785151329411,
          273.86175370556236,
          278.50636057807515,
          278.60120326697734,
          279.6884556934238
         ],
         "y0": " ",
         "yaxis": "y"
        }
       ],
       "layout": {
        "boxmode": "overlay",
        "legend": {
         "title": {
          "text": "lr"
         },
         "tracegroupgap": 0
        },
        "margin": {
         "t": 60
        },
        "template": {
         "data": {
          "bar": [
           {
            "error_x": {
             "color": "#2a3f5f"
            },
            "error_y": {
             "color": "#2a3f5f"
            },
            "marker": {
             "line": {
              "color": "#E5ECF6",
              "width": 0.5
             }
            },
            "type": "bar"
           }
          ],
          "barpolar": [
           {
            "marker": {
             "line": {
              "color": "#E5ECF6",
              "width": 0.5
             }
            },
            "type": "barpolar"
           }
          ],
          "carpet": [
           {
            "aaxis": {
             "endlinecolor": "#2a3f5f",
             "gridcolor": "white",
             "linecolor": "white",
             "minorgridcolor": "white",
             "startlinecolor": "#2a3f5f"
            },
            "baxis": {
             "endlinecolor": "#2a3f5f",
             "gridcolor": "white",
             "linecolor": "white",
             "minorgridcolor": "white",
             "startlinecolor": "#2a3f5f"
            },
            "type": "carpet"
           }
          ],
          "choropleth": [
           {
            "colorbar": {
             "outlinewidth": 0,
             "ticks": ""
            },
            "type": "choropleth"
           }
          ],
          "contour": [
           {
            "colorbar": {
             "outlinewidth": 0,
             "ticks": ""
            },
            "colorscale": [
             [
              0,
              "#0d0887"
             ],
             [
              0.1111111111111111,
              "#46039f"
             ],
             [
              0.2222222222222222,
              "#7201a8"
             ],
             [
              0.3333333333333333,
              "#9c179e"
             ],
             [
              0.4444444444444444,
              "#bd3786"
             ],
             [
              0.5555555555555556,
              "#d8576b"
             ],
             [
              0.6666666666666666,
              "#ed7953"
             ],
             [
              0.7777777777777778,
              "#fb9f3a"
             ],
             [
              0.8888888888888888,
              "#fdca26"
             ],
             [
              1,
              "#f0f921"
             ]
            ],
            "type": "contour"
           }
          ],
          "contourcarpet": [
           {
            "colorbar": {
             "outlinewidth": 0,
             "ticks": ""
            },
            "type": "contourcarpet"
           }
          ],
          "heatmap": [
           {
            "colorbar": {
             "outlinewidth": 0,
             "ticks": ""
            },
            "colorscale": [
             [
              0,
              "#0d0887"
             ],
             [
              0.1111111111111111,
              "#46039f"
             ],
             [
              0.2222222222222222,
              "#7201a8"
             ],
             [
              0.3333333333333333,
              "#9c179e"
             ],
             [
              0.4444444444444444,
              "#bd3786"
             ],
             [
              0.5555555555555556,
              "#d8576b"
             ],
             [
              0.6666666666666666,
              "#ed7953"
             ],
             [
              0.7777777777777778,
              "#fb9f3a"
             ],
             [
              0.8888888888888888,
              "#fdca26"
             ],
             [
              1,
              "#f0f921"
             ]
            ],
            "type": "heatmap"
           }
          ],
          "heatmapgl": [
           {
            "colorbar": {
             "outlinewidth": 0,
             "ticks": ""
            },
            "colorscale": [
             [
              0,
              "#0d0887"
             ],
             [
              0.1111111111111111,
              "#46039f"
             ],
             [
              0.2222222222222222,
              "#7201a8"
             ],
             [
              0.3333333333333333,
              "#9c179e"
             ],
             [
              0.4444444444444444,
              "#bd3786"
             ],
             [
              0.5555555555555556,
              "#d8576b"
             ],
             [
              0.6666666666666666,
              "#ed7953"
             ],
             [
              0.7777777777777778,
              "#fb9f3a"
             ],
             [
              0.8888888888888888,
              "#fdca26"
             ],
             [
              1,
              "#f0f921"
             ]
            ],
            "type": "heatmapgl"
           }
          ],
          "histogram": [
           {
            "marker": {
             "colorbar": {
              "outlinewidth": 0,
              "ticks": ""
             }
            },
            "type": "histogram"
           }
          ],
          "histogram2d": [
           {
            "colorbar": {
             "outlinewidth": 0,
             "ticks": ""
            },
            "colorscale": [
             [
              0,
              "#0d0887"
             ],
             [
              0.1111111111111111,
              "#46039f"
             ],
             [
              0.2222222222222222,
              "#7201a8"
             ],
             [
              0.3333333333333333,
              "#9c179e"
             ],
             [
              0.4444444444444444,
              "#bd3786"
             ],
             [
              0.5555555555555556,
              "#d8576b"
             ],
             [
              0.6666666666666666,
              "#ed7953"
             ],
             [
              0.7777777777777778,
              "#fb9f3a"
             ],
             [
              0.8888888888888888,
              "#fdca26"
             ],
             [
              1,
              "#f0f921"
             ]
            ],
            "type": "histogram2d"
           }
          ],
          "histogram2dcontour": [
           {
            "colorbar": {
             "outlinewidth": 0,
             "ticks": ""
            },
            "colorscale": [
             [
              0,
              "#0d0887"
             ],
             [
              0.1111111111111111,
              "#46039f"
             ],
             [
              0.2222222222222222,
              "#7201a8"
             ],
             [
              0.3333333333333333,
              "#9c179e"
             ],
             [
              0.4444444444444444,
              "#bd3786"
             ],
             [
              0.5555555555555556,
              "#d8576b"
             ],
             [
              0.6666666666666666,
              "#ed7953"
             ],
             [
              0.7777777777777778,
              "#fb9f3a"
             ],
             [
              0.8888888888888888,
              "#fdca26"
             ],
             [
              1,
              "#f0f921"
             ]
            ],
            "type": "histogram2dcontour"
           }
          ],
          "mesh3d": [
           {
            "colorbar": {
             "outlinewidth": 0,
             "ticks": ""
            },
            "type": "mesh3d"
           }
          ],
          "parcoords": [
           {
            "line": {
             "colorbar": {
              "outlinewidth": 0,
              "ticks": ""
             }
            },
            "type": "parcoords"
           }
          ],
          "pie": [
           {
            "automargin": true,
            "type": "pie"
           }
          ],
          "scatter": [
           {
            "marker": {
             "colorbar": {
              "outlinewidth": 0,
              "ticks": ""
             }
            },
            "type": "scatter"
           }
          ],
          "scatter3d": [
           {
            "line": {
             "colorbar": {
              "outlinewidth": 0,
              "ticks": ""
             }
            },
            "marker": {
             "colorbar": {
              "outlinewidth": 0,
              "ticks": ""
             }
            },
            "type": "scatter3d"
           }
          ],
          "scattercarpet": [
           {
            "marker": {
             "colorbar": {
              "outlinewidth": 0,
              "ticks": ""
             }
            },
            "type": "scattercarpet"
           }
          ],
          "scattergeo": [
           {
            "marker": {
             "colorbar": {
              "outlinewidth": 0,
              "ticks": ""
             }
            },
            "type": "scattergeo"
           }
          ],
          "scattergl": [
           {
            "marker": {
             "colorbar": {
              "outlinewidth": 0,
              "ticks": ""
             }
            },
            "type": "scattergl"
           }
          ],
          "scattermapbox": [
           {
            "marker": {
             "colorbar": {
              "outlinewidth": 0,
              "ticks": ""
             }
            },
            "type": "scattermapbox"
           }
          ],
          "scatterpolar": [
           {
            "marker": {
             "colorbar": {
              "outlinewidth": 0,
              "ticks": ""
             }
            },
            "type": "scatterpolar"
           }
          ],
          "scatterpolargl": [
           {
            "marker": {
             "colorbar": {
              "outlinewidth": 0,
              "ticks": ""
             }
            },
            "type": "scatterpolargl"
           }
          ],
          "scatterternary": [
           {
            "marker": {
             "colorbar": {
              "outlinewidth": 0,
              "ticks": ""
             }
            },
            "type": "scatterternary"
           }
          ],
          "surface": [
           {
            "colorbar": {
             "outlinewidth": 0,
             "ticks": ""
            },
            "colorscale": [
             [
              0,
              "#0d0887"
             ],
             [
              0.1111111111111111,
              "#46039f"
             ],
             [
              0.2222222222222222,
              "#7201a8"
             ],
             [
              0.3333333333333333,
              "#9c179e"
             ],
             [
              0.4444444444444444,
              "#bd3786"
             ],
             [
              0.5555555555555556,
              "#d8576b"
             ],
             [
              0.6666666666666666,
              "#ed7953"
             ],
             [
              0.7777777777777778,
              "#fb9f3a"
             ],
             [
              0.8888888888888888,
              "#fdca26"
             ],
             [
              1,
              "#f0f921"
             ]
            ],
            "type": "surface"
           }
          ],
          "table": [
           {
            "cells": {
             "fill": {
              "color": "#EBF0F8"
             },
             "line": {
              "color": "white"
             }
            },
            "header": {
             "fill": {
              "color": "#C8D4E3"
             },
             "line": {
              "color": "white"
             }
            },
            "type": "table"
           }
          ]
         },
         "layout": {
          "annotationdefaults": {
           "arrowcolor": "#2a3f5f",
           "arrowhead": 0,
           "arrowwidth": 1
          },
          "coloraxis": {
           "colorbar": {
            "outlinewidth": 0,
            "ticks": ""
           }
          },
          "colorscale": {
           "diverging": [
            [
             0,
             "#8e0152"
            ],
            [
             0.1,
             "#c51b7d"
            ],
            [
             0.2,
             "#de77ae"
            ],
            [
             0.3,
             "#f1b6da"
            ],
            [
             0.4,
             "#fde0ef"
            ],
            [
             0.5,
             "#f7f7f7"
            ],
            [
             0.6,
             "#e6f5d0"
            ],
            [
             0.7,
             "#b8e186"
            ],
            [
             0.8,
             "#7fbc41"
            ],
            [
             0.9,
             "#4d9221"
            ],
            [
             1,
             "#276419"
            ]
           ],
           "sequential": [
            [
             0,
             "#0d0887"
            ],
            [
             0.1111111111111111,
             "#46039f"
            ],
            [
             0.2222222222222222,
             "#7201a8"
            ],
            [
             0.3333333333333333,
             "#9c179e"
            ],
            [
             0.4444444444444444,
             "#bd3786"
            ],
            [
             0.5555555555555556,
             "#d8576b"
            ],
            [
             0.6666666666666666,
             "#ed7953"
            ],
            [
             0.7777777777777778,
             "#fb9f3a"
            ],
            [
             0.8888888888888888,
             "#fdca26"
            ],
            [
             1,
             "#f0f921"
            ]
           ],
           "sequentialminus": [
            [
             0,
             "#0d0887"
            ],
            [
             0.1111111111111111,
             "#46039f"
            ],
            [
             0.2222222222222222,
             "#7201a8"
            ],
            [
             0.3333333333333333,
             "#9c179e"
            ],
            [
             0.4444444444444444,
             "#bd3786"
            ],
            [
             0.5555555555555556,
             "#d8576b"
            ],
            [
             0.6666666666666666,
             "#ed7953"
            ],
            [
             0.7777777777777778,
             "#fb9f3a"
            ],
            [
             0.8888888888888888,
             "#fdca26"
            ],
            [
             1,
             "#f0f921"
            ]
           ]
          },
          "colorway": [
           "#636efa",
           "#EF553B",
           "#00cc96",
           "#ab63fa",
           "#FFA15A",
           "#19d3f3",
           "#FF6692",
           "#B6E880",
           "#FF97FF",
           "#FECB52"
          ],
          "font": {
           "color": "#2a3f5f"
          },
          "geo": {
           "bgcolor": "white",
           "lakecolor": "white",
           "landcolor": "#E5ECF6",
           "showlakes": true,
           "showland": true,
           "subunitcolor": "white"
          },
          "hoverlabel": {
           "align": "left"
          },
          "hovermode": "closest",
          "mapbox": {
           "style": "light"
          },
          "paper_bgcolor": "white",
          "plot_bgcolor": "#E5ECF6",
          "polar": {
           "angularaxis": {
            "gridcolor": "white",
            "linecolor": "white",
            "ticks": ""
           },
           "bgcolor": "#E5ECF6",
           "radialaxis": {
            "gridcolor": "white",
            "linecolor": "white",
            "ticks": ""
           }
          },
          "scene": {
           "xaxis": {
            "backgroundcolor": "#E5ECF6",
            "gridcolor": "white",
            "gridwidth": 2,
            "linecolor": "white",
            "showbackground": true,
            "ticks": "",
            "zerolinecolor": "white"
           },
           "yaxis": {
            "backgroundcolor": "#E5ECF6",
            "gridcolor": "white",
            "gridwidth": 2,
            "linecolor": "white",
            "showbackground": true,
            "ticks": "",
            "zerolinecolor": "white"
           },
           "zaxis": {
            "backgroundcolor": "#E5ECF6",
            "gridcolor": "white",
            "gridwidth": 2,
            "linecolor": "white",
            "showbackground": true,
            "ticks": "",
            "zerolinecolor": "white"
           }
          },
          "shapedefaults": {
           "line": {
            "color": "#2a3f5f"
           }
          },
          "ternary": {
           "aaxis": {
            "gridcolor": "white",
            "linecolor": "white",
            "ticks": ""
           },
           "baxis": {
            "gridcolor": "white",
            "linecolor": "white",
            "ticks": ""
           },
           "bgcolor": "#E5ECF6",
           "caxis": {
            "gridcolor": "white",
            "linecolor": "white",
            "ticks": ""
           }
          },
          "title": {
           "x": 0.05
          },
          "xaxis": {
           "automargin": true,
           "gridcolor": "white",
           "linecolor": "white",
           "ticks": "",
           "title": {
            "standoff": 15
           },
           "zerolinecolor": "white",
           "zerolinewidth": 2
          },
          "yaxis": {
           "automargin": true,
           "gridcolor": "white",
           "linecolor": "white",
           "ticks": "",
           "title": {
            "standoff": 15
           },
           "zerolinecolor": "white",
           "zerolinewidth": 2
          }
         }
        },
        "xaxis": {
         "anchor": "y",
         "categoryarray": [
          "0.0001",
          "5e-05",
          "0.0005",
          "0.001",
          "1e-05"
         ],
         "categoryorder": "array",
         "domain": [
          0,
          1
         ],
         "title": {
          "text": "lr"
         },
         "type": "log"
        },
        "yaxis": {
         "anchor": "x",
         "domain": [
          0,
          1
         ],
         "title": {
          "text": "fid"
         }
        }
       }
      },
      "text/html": [
       "<div>\n",
       "        \n",
       "        \n",
       "            <div id=\"863052da-02cb-46f1-baf9-f9f7c51eca02\" class=\"plotly-graph-div\" style=\"height:525px; width:100%;\"></div>\n",
       "            <script type=\"text/javascript\">\n",
       "                require([\"plotly\"], function(Plotly) {\n",
       "                    window.PLOTLYENV=window.PLOTLYENV || {};\n",
       "                    \n",
       "                if (document.getElementById(\"863052da-02cb-46f1-baf9-f9f7c51eca02\")) {\n",
       "                    Plotly.newPlot(\n",
       "                        '863052da-02cb-46f1-baf9-f9f7c51eca02',\n",
       "                        [{\"alignmentgroup\": \"True\", \"hoverlabel\": {\"namelength\": 0}, \"hovertemplate\": \"lr=%{x}<br>fid=%{y}\", \"legendgroup\": \"0.0001\", \"marker\": {\"color\": \"#636efa\"}, \"name\": \"0.0001\", \"notched\": false, \"offsetgroup\": \"0.0001\", \"orientation\": \"v\", \"showlegend\": true, \"type\": \"box\", \"x\": [\"0.0001\", \"0.0001\", \"0.0001\", \"0.0001\", \"0.0001\", \"0.0001\", \"0.0001\", \"0.0001\", \"0.0001\", \"0.0001\", \"0.0001\", \"0.0001\", \"0.0001\", \"0.0001\", \"0.0001\", \"0.0001\", \"0.0001\", \"0.0001\", \"0.0001\", \"0.0001\", \"0.0001\", \"0.0001\", \"0.0001\", \"0.0001\", \"0.0001\", \"0.0001\", \"0.0001\"], \"x0\": \" \", \"xaxis\": \"x\", \"y\": [183.2230128425353, 183.93652220030742, 184.9019961315352, 185.64373112962676, 188.2775644328286, 189.21281822927318, 189.24188551852887, 190.0419070476714, 191.20767532955287, 194.1826017594779, 197.48836951735558, 199.03785057274146, 199.43336142711573, 203.61825545604322, 203.72905353722516, 207.76026750902588, 208.27931068067835, 208.35732303960418, 209.6001224095616, 211.9310657908283, 213.985886191004, 215.06071208964352, 215.07601527902455, 216.74491076578832, 221.59217549772745, 227.00192165648374, 238.38069453734124], \"y0\": \" \", \"yaxis\": \"y\"}, {\"alignmentgroup\": \"True\", \"hoverlabel\": {\"namelength\": 0}, \"hovertemplate\": \"lr=%{x}<br>fid=%{y}\", \"legendgroup\": \"5e-05\", \"marker\": {\"color\": \"#EF553B\"}, \"name\": \"5e-05\", \"notched\": false, \"offsetgroup\": \"5e-05\", \"orientation\": \"v\", \"showlegend\": true, \"type\": \"box\", \"x\": [\"5e-05\", \"5e-05\", \"5e-05\", \"5e-05\", \"5e-05\", \"5e-05\", \"5e-05\", \"5e-05\", \"5e-05\", \"5e-05\", \"5e-05\", \"5e-05\", \"5e-05\", \"5e-05\", \"5e-05\", \"5e-05\", \"5e-05\", \"5e-05\", \"5e-05\", \"5e-05\", \"5e-05\", \"5e-05\", \"5e-05\", \"5e-05\", \"5e-05\", \"5e-05\", \"5e-05\"], \"x0\": \" \", \"xaxis\": \"x\", \"y\": [186.22899859532004, 188.5419358059342, 194.06942069983023, 194.24331032081724, 194.33816348588218, 204.210455056091, 205.62385972199502, 208.21091676412874, 208.37103792038025, 210.98345889246247, 213.9120653436951, 217.73022496659328, 218.7506912952386, 219.56702440660416, 220.81385307148233, 221.94983749271523, 222.58709887457923, 227.0528359176908, 230.08953980773583, 231.20664802416655, 234.46744635601712, 235.1494828442612, 235.20906710256463, 236.71951851571202, 250.8683164320369, 255.8689302906269, 258.84260705177775], \"y0\": \" \", \"yaxis\": \"y\"}, {\"alignmentgroup\": \"True\", \"hoverlabel\": {\"namelength\": 0}, \"hovertemplate\": \"lr=%{x}<br>fid=%{y}\", \"legendgroup\": \"0.0005\", \"marker\": {\"color\": \"#00cc96\"}, \"name\": \"0.0005\", \"notched\": false, \"offsetgroup\": \"0.0005\", \"orientation\": \"v\", \"showlegend\": true, \"type\": \"box\", \"x\": [\"0.0005\", \"0.0005\", \"0.0005\", \"0.0005\", \"0.0005\", \"0.0005\", \"0.0005\", \"0.0005\", \"0.0005\", \"0.0005\", \"0.0005\", \"0.0005\", \"0.0005\", \"0.0005\", \"0.0005\", \"0.0005\", \"0.0005\", \"0.0005\", \"0.0005\", \"0.0005\", \"0.0005\", \"0.0005\", \"0.0005\", \"0.0005\", \"0.0005\", \"0.0005\", \"0.0005\"], \"x0\": \" \", \"xaxis\": \"x\", \"y\": [192.80166114196663, 196.86424614107904, 197.0333956072078, 200.08993160750356, 200.40106751947522, 200.4375891388925, 201.57004504996203, 203.33207805680343, 203.90833653595533, 207.633269016573, 209.87650026803507, 210.39346842096725, 211.23258499927852, 218.57746071599107, 219.41113201624506, 219.51127867658158, 221.67232551562284, 222.121556262038, 222.65412176623084, 223.1861185662467, 224.01600493477426, 224.0681037099331, 227.20913510837013, 229.23888143601704, 229.47484212230503, 234.68567042791696, 237.93936651843225], \"y0\": \" \", \"yaxis\": \"y\"}, {\"alignmentgroup\": \"True\", \"hoverlabel\": {\"namelength\": 0}, \"hovertemplate\": \"lr=%{x}<br>fid=%{y}\", \"legendgroup\": \"0.001\", \"marker\": {\"color\": \"#ab63fa\"}, \"name\": \"0.001\", \"notched\": false, \"offsetgroup\": \"0.001\", \"orientation\": \"v\", \"showlegend\": true, \"type\": \"box\", \"x\": [\"0.001\", \"0.001\", \"0.001\", \"0.001\", \"0.001\", \"0.001\", \"0.001\", \"0.001\", \"0.001\", \"0.001\", \"0.001\", \"0.001\", \"0.001\", \"0.001\", \"0.001\", \"0.001\", \"0.001\", \"0.001\", \"0.001\", \"0.001\", \"0.001\", \"0.001\", \"0.001\", \"0.001\", \"0.001\", \"0.001\", \"0.001\"], \"x0\": \" \", \"xaxis\": \"x\", \"y\": [205.60350502289177, 206.78261758876855, 206.98111667505736, 207.59346341459727, 207.82324565938518, 208.18268687903986, 209.19835869002048, 212.28851719930017, 218.61603224886528, 219.49623765622496, 220.5816680575595, 222.42823919931146, 223.63631279452804, 224.00531715992346, 231.0895842734356, 233.69017112151005, 233.8970490372939, 234.88219134114624, 235.9081709463661, 237.01066415631357, 240.67656896579, 241.46107459740816, 241.9179725418422, 243.36862982192454, 247.7086845823012, 249.67241369972132, 261.49339937173005], \"y0\": \" \", \"yaxis\": \"y\"}, {\"alignmentgroup\": \"True\", \"hoverlabel\": {\"namelength\": 0}, \"hovertemplate\": \"lr=%{x}<br>fid=%{y}\", \"legendgroup\": \"1e-05\", \"marker\": {\"color\": \"#FFA15A\"}, \"name\": \"1e-05\", \"notched\": false, \"offsetgroup\": \"1e-05\", \"orientation\": \"v\", \"showlegend\": true, \"type\": \"box\", \"x\": [\"1e-05\", \"1e-05\", \"1e-05\", \"1e-05\", \"1e-05\", \"1e-05\", \"1e-05\", \"1e-05\", \"1e-05\", \"1e-05\", \"1e-05\", \"1e-05\", \"1e-05\", \"1e-05\", \"1e-05\", \"1e-05\", \"1e-05\", \"1e-05\", \"1e-05\", \"1e-05\", \"1e-05\", \"1e-05\", \"1e-05\", \"1e-05\", \"1e-05\", \"1e-05\", \"1e-05\"], \"x0\": \" \", \"xaxis\": \"x\", \"y\": [225.15811726760538, 233.17972646819038, 233.41304007928065, 234.2868136531993, 241.20939213460247, 241.31482904725226, 244.16385967059543, 244.848952815257, 245.1643059771677, 246.41590291612897, 251.261163942925, 251.36766178227262, 252.57997862364977, 254.90249202830168, 258.53403724743123, 263.3760447088157, 265.25124063739304, 265.3816839537708, 266.5119453804072, 268.5000174487192, 268.5233585340053, 269.76165897448845, 271.8785151329411, 273.86175370556236, 278.50636057807515, 278.60120326697734, 279.6884556934238], \"y0\": \" \", \"yaxis\": \"y\"}],\n",
       "                        {\"boxmode\": \"overlay\", \"legend\": {\"title\": {\"text\": \"lr\"}, \"tracegroupgap\": 0}, \"margin\": {\"t\": 60}, \"template\": {\"data\": {\"bar\": [{\"error_x\": {\"color\": \"#2a3f5f\"}, \"error_y\": {\"color\": \"#2a3f5f\"}, \"marker\": {\"line\": {\"color\": \"#E5ECF6\", \"width\": 0.5}}, \"type\": \"bar\"}], \"barpolar\": [{\"marker\": {\"line\": {\"color\": \"#E5ECF6\", \"width\": 0.5}}, \"type\": \"barpolar\"}], \"carpet\": [{\"aaxis\": {\"endlinecolor\": \"#2a3f5f\", \"gridcolor\": \"white\", \"linecolor\": \"white\", \"minorgridcolor\": \"white\", \"startlinecolor\": \"#2a3f5f\"}, \"baxis\": {\"endlinecolor\": \"#2a3f5f\", \"gridcolor\": \"white\", \"linecolor\": \"white\", \"minorgridcolor\": \"white\", \"startlinecolor\": \"#2a3f5f\"}, \"type\": \"carpet\"}], \"choropleth\": [{\"colorbar\": {\"outlinewidth\": 0, \"ticks\": \"\"}, \"type\": \"choropleth\"}], \"contour\": [{\"colorbar\": {\"outlinewidth\": 0, \"ticks\": \"\"}, \"colorscale\": [[0.0, \"#0d0887\"], [0.1111111111111111, \"#46039f\"], [0.2222222222222222, \"#7201a8\"], [0.3333333333333333, \"#9c179e\"], [0.4444444444444444, \"#bd3786\"], [0.5555555555555556, \"#d8576b\"], [0.6666666666666666, \"#ed7953\"], [0.7777777777777778, \"#fb9f3a\"], [0.8888888888888888, \"#fdca26\"], [1.0, \"#f0f921\"]], \"type\": \"contour\"}], \"contourcarpet\": [{\"colorbar\": {\"outlinewidth\": 0, \"ticks\": \"\"}, \"type\": \"contourcarpet\"}], \"heatmap\": [{\"colorbar\": {\"outlinewidth\": 0, \"ticks\": \"\"}, \"colorscale\": [[0.0, \"#0d0887\"], [0.1111111111111111, \"#46039f\"], [0.2222222222222222, \"#7201a8\"], [0.3333333333333333, \"#9c179e\"], [0.4444444444444444, \"#bd3786\"], [0.5555555555555556, \"#d8576b\"], [0.6666666666666666, \"#ed7953\"], [0.7777777777777778, \"#fb9f3a\"], [0.8888888888888888, \"#fdca26\"], [1.0, \"#f0f921\"]], \"type\": \"heatmap\"}], \"heatmapgl\": [{\"colorbar\": {\"outlinewidth\": 0, \"ticks\": \"\"}, \"colorscale\": [[0.0, \"#0d0887\"], [0.1111111111111111, \"#46039f\"], [0.2222222222222222, \"#7201a8\"], [0.3333333333333333, \"#9c179e\"], [0.4444444444444444, \"#bd3786\"], [0.5555555555555556, \"#d8576b\"], [0.6666666666666666, \"#ed7953\"], [0.7777777777777778, \"#fb9f3a\"], [0.8888888888888888, \"#fdca26\"], [1.0, \"#f0f921\"]], \"type\": \"heatmapgl\"}], \"histogram\": [{\"marker\": {\"colorbar\": {\"outlinewidth\": 0, \"ticks\": \"\"}}, \"type\": \"histogram\"}], \"histogram2d\": [{\"colorbar\": {\"outlinewidth\": 0, \"ticks\": \"\"}, \"colorscale\": [[0.0, \"#0d0887\"], [0.1111111111111111, \"#46039f\"], [0.2222222222222222, \"#7201a8\"], [0.3333333333333333, \"#9c179e\"], [0.4444444444444444, \"#bd3786\"], [0.5555555555555556, \"#d8576b\"], [0.6666666666666666, \"#ed7953\"], [0.7777777777777778, \"#fb9f3a\"], [0.8888888888888888, \"#fdca26\"], [1.0, \"#f0f921\"]], \"type\": \"histogram2d\"}], \"histogram2dcontour\": [{\"colorbar\": {\"outlinewidth\": 0, \"ticks\": \"\"}, \"colorscale\": [[0.0, \"#0d0887\"], [0.1111111111111111, \"#46039f\"], [0.2222222222222222, \"#7201a8\"], [0.3333333333333333, \"#9c179e\"], [0.4444444444444444, \"#bd3786\"], [0.5555555555555556, \"#d8576b\"], [0.6666666666666666, \"#ed7953\"], [0.7777777777777778, \"#fb9f3a\"], [0.8888888888888888, \"#fdca26\"], [1.0, \"#f0f921\"]], \"type\": \"histogram2dcontour\"}], \"mesh3d\": [{\"colorbar\": {\"outlinewidth\": 0, \"ticks\": \"\"}, \"type\": \"mesh3d\"}], \"parcoords\": [{\"line\": {\"colorbar\": {\"outlinewidth\": 0, \"ticks\": \"\"}}, \"type\": \"parcoords\"}], \"pie\": [{\"automargin\": true, \"type\": \"pie\"}], \"scatter\": [{\"marker\": {\"colorbar\": {\"outlinewidth\": 0, \"ticks\": \"\"}}, \"type\": \"scatter\"}], \"scatter3d\": [{\"line\": {\"colorbar\": {\"outlinewidth\": 0, \"ticks\": \"\"}}, \"marker\": {\"colorbar\": {\"outlinewidth\": 0, \"ticks\": \"\"}}, \"type\": \"scatter3d\"}], \"scattercarpet\": [{\"marker\": {\"colorbar\": {\"outlinewidth\": 0, \"ticks\": \"\"}}, \"type\": \"scattercarpet\"}], \"scattergeo\": [{\"marker\": {\"colorbar\": {\"outlinewidth\": 0, \"ticks\": \"\"}}, \"type\": \"scattergeo\"}], \"scattergl\": [{\"marker\": {\"colorbar\": {\"outlinewidth\": 0, \"ticks\": \"\"}}, \"type\": \"scattergl\"}], \"scattermapbox\": [{\"marker\": {\"colorbar\": {\"outlinewidth\": 0, \"ticks\": \"\"}}, \"type\": \"scattermapbox\"}], \"scatterpolar\": [{\"marker\": {\"colorbar\": {\"outlinewidth\": 0, \"ticks\": \"\"}}, \"type\": \"scatterpolar\"}], \"scatterpolargl\": [{\"marker\": {\"colorbar\": {\"outlinewidth\": 0, \"ticks\": \"\"}}, \"type\": \"scatterpolargl\"}], \"scatterternary\": [{\"marker\": {\"colorbar\": {\"outlinewidth\": 0, \"ticks\": \"\"}}, \"type\": \"scatterternary\"}], \"surface\": [{\"colorbar\": {\"outlinewidth\": 0, \"ticks\": \"\"}, \"colorscale\": [[0.0, \"#0d0887\"], [0.1111111111111111, \"#46039f\"], [0.2222222222222222, \"#7201a8\"], [0.3333333333333333, \"#9c179e\"], [0.4444444444444444, \"#bd3786\"], [0.5555555555555556, \"#d8576b\"], [0.6666666666666666, \"#ed7953\"], [0.7777777777777778, \"#fb9f3a\"], [0.8888888888888888, \"#fdca26\"], [1.0, \"#f0f921\"]], \"type\": \"surface\"}], \"table\": [{\"cells\": {\"fill\": {\"color\": \"#EBF0F8\"}, \"line\": {\"color\": \"white\"}}, \"header\": {\"fill\": {\"color\": \"#C8D4E3\"}, \"line\": {\"color\": \"white\"}}, \"type\": \"table\"}]}, \"layout\": {\"annotationdefaults\": {\"arrowcolor\": \"#2a3f5f\", \"arrowhead\": 0, \"arrowwidth\": 1}, \"coloraxis\": {\"colorbar\": {\"outlinewidth\": 0, \"ticks\": \"\"}}, \"colorscale\": {\"diverging\": [[0, \"#8e0152\"], [0.1, \"#c51b7d\"], [0.2, \"#de77ae\"], [0.3, \"#f1b6da\"], [0.4, \"#fde0ef\"], [0.5, \"#f7f7f7\"], [0.6, \"#e6f5d0\"], [0.7, \"#b8e186\"], [0.8, \"#7fbc41\"], [0.9, \"#4d9221\"], [1, \"#276419\"]], \"sequential\": [[0.0, \"#0d0887\"], [0.1111111111111111, \"#46039f\"], [0.2222222222222222, \"#7201a8\"], [0.3333333333333333, \"#9c179e\"], [0.4444444444444444, \"#bd3786\"], [0.5555555555555556, \"#d8576b\"], [0.6666666666666666, \"#ed7953\"], [0.7777777777777778, \"#fb9f3a\"], [0.8888888888888888, \"#fdca26\"], [1.0, \"#f0f921\"]], \"sequentialminus\": [[0.0, \"#0d0887\"], [0.1111111111111111, \"#46039f\"], [0.2222222222222222, \"#7201a8\"], [0.3333333333333333, \"#9c179e\"], [0.4444444444444444, \"#bd3786\"], [0.5555555555555556, \"#d8576b\"], [0.6666666666666666, \"#ed7953\"], [0.7777777777777778, \"#fb9f3a\"], [0.8888888888888888, \"#fdca26\"], [1.0, \"#f0f921\"]]}, \"colorway\": [\"#636efa\", \"#EF553B\", \"#00cc96\", \"#ab63fa\", \"#FFA15A\", \"#19d3f3\", \"#FF6692\", \"#B6E880\", \"#FF97FF\", \"#FECB52\"], \"font\": {\"color\": \"#2a3f5f\"}, \"geo\": {\"bgcolor\": \"white\", \"lakecolor\": \"white\", \"landcolor\": \"#E5ECF6\", \"showlakes\": true, \"showland\": true, \"subunitcolor\": \"white\"}, \"hoverlabel\": {\"align\": \"left\"}, \"hovermode\": \"closest\", \"mapbox\": {\"style\": \"light\"}, \"paper_bgcolor\": \"white\", \"plot_bgcolor\": \"#E5ECF6\", \"polar\": {\"angularaxis\": {\"gridcolor\": \"white\", \"linecolor\": \"white\", \"ticks\": \"\"}, \"bgcolor\": \"#E5ECF6\", \"radialaxis\": {\"gridcolor\": \"white\", \"linecolor\": \"white\", \"ticks\": \"\"}}, \"scene\": {\"xaxis\": {\"backgroundcolor\": \"#E5ECF6\", \"gridcolor\": \"white\", \"gridwidth\": 2, \"linecolor\": \"white\", \"showbackground\": true, \"ticks\": \"\", \"zerolinecolor\": \"white\"}, \"yaxis\": {\"backgroundcolor\": \"#E5ECF6\", \"gridcolor\": \"white\", \"gridwidth\": 2, \"linecolor\": \"white\", \"showbackground\": true, \"ticks\": \"\", \"zerolinecolor\": \"white\"}, \"zaxis\": {\"backgroundcolor\": \"#E5ECF6\", \"gridcolor\": \"white\", \"gridwidth\": 2, \"linecolor\": \"white\", \"showbackground\": true, \"ticks\": \"\", \"zerolinecolor\": \"white\"}}, \"shapedefaults\": {\"line\": {\"color\": \"#2a3f5f\"}}, \"ternary\": {\"aaxis\": {\"gridcolor\": \"white\", \"linecolor\": \"white\", \"ticks\": \"\"}, \"baxis\": {\"gridcolor\": \"white\", \"linecolor\": \"white\", \"ticks\": \"\"}, \"bgcolor\": \"#E5ECF6\", \"caxis\": {\"gridcolor\": \"white\", \"linecolor\": \"white\", \"ticks\": \"\"}}, \"title\": {\"x\": 0.05}, \"xaxis\": {\"automargin\": true, \"gridcolor\": \"white\", \"linecolor\": \"white\", \"ticks\": \"\", \"title\": {\"standoff\": 15}, \"zerolinecolor\": \"white\", \"zerolinewidth\": 2}, \"yaxis\": {\"automargin\": true, \"gridcolor\": \"white\", \"linecolor\": \"white\", \"ticks\": \"\", \"title\": {\"standoff\": 15}, \"zerolinecolor\": \"white\", \"zerolinewidth\": 2}}}, \"xaxis\": {\"anchor\": \"y\", \"categoryarray\": [\"0.0001\", \"5e-05\", \"0.0005\", \"0.001\", \"1e-05\"], \"categoryorder\": \"array\", \"domain\": [0.0, 1.0], \"title\": {\"text\": \"lr\"}, \"type\": \"log\"}, \"yaxis\": {\"anchor\": \"x\", \"domain\": [0.0, 1.0], \"title\": {\"text\": \"fid\"}}},\n",
       "                        {\"responsive\": true}\n",
       "                    ).then(function(){\n",
       "                            \n",
       "var gd = document.getElementById('863052da-02cb-46f1-baf9-f9f7c51eca02');\n",
       "var x = new MutationObserver(function (mutations, observer) {{\n",
       "        var display = window.getComputedStyle(gd).display;\n",
       "        if (!display || display === 'none') {{\n",
       "            console.log([gd, 'removed!']);\n",
       "            Plotly.purge(gd);\n",
       "            observer.disconnect();\n",
       "        }}\n",
       "}});\n",
       "\n",
       "// Listen for the removal of the full notebook cells\n",
       "var notebookContainer = gd.closest('#notebook-container');\n",
       "if (notebookContainer) {{\n",
       "    x.observe(notebookContainer, {childList: true});\n",
       "}}\n",
       "\n",
       "// Listen for the clearing of the current output cell\n",
       "var outputEl = gd.closest('.output');\n",
       "if (outputEl) {{\n",
       "    x.observe(outputEl, {childList: true});\n",
       "}}\n",
       "\n",
       "                        })\n",
       "                };\n",
       "                });\n",
       "            </script>\n",
       "        </div>"
      ]
     },
     "metadata": {},
     "output_type": "display_data"
    }
   ],
   "source": [
    "px.box(df_clean, x='lr', y='fid', boxmode=\"overlay\", log_x=True, color='lr')"
   ]
  },
  {
   "cell_type": "code",
   "execution_count": 127,
   "metadata": {},
   "outputs": [
    {
     "data": {
      "application/vnd.plotly.v1+json": {
       "config": {
        "plotlyServerURL": "https://plot.ly"
       },
       "data": [
        {
         "alignmentgroup": "True",
         "hoverlabel": {
          "namelength": 0
         },
         "hovertemplate": "sub_layers=%{x}<br>fid=%{y}",
         "legendgroup": "1",
         "marker": {
          "color": "#636efa"
         },
         "name": "1",
         "notched": false,
         "offsetgroup": "1",
         "orientation": "v",
         "showlegend": true,
         "type": "box",
         "x": [
          1,
          1,
          1,
          1,
          1,
          1,
          1,
          1,
          1,
          1,
          1,
          1,
          1,
          1,
          1,
          1,
          1,
          1,
          1,
          1,
          1,
          1,
          1,
          1,
          1,
          1,
          1,
          1,
          1,
          1,
          1,
          1,
          1,
          1,
          1,
          1,
          1,
          1,
          1,
          1,
          1,
          1,
          1,
          1,
          1
         ],
         "x0": " ",
         "xaxis": "x",
         "y": [
          183.2230128425353,
          184.9019961315352,
          185.64373112962676,
          188.5419358059342,
          189.21281822927318,
          190.0419070476714,
          196.86424614107904,
          197.0333956072078,
          197.48836951735558,
          200.08993160750356,
          200.40106751947522,
          203.61825545604322,
          203.90833653595533,
          206.98111667505736,
          207.76026750902588,
          208.37103792038025,
          209.19835869002048,
          210.39346842096725,
          210.98345889246247,
          217.73022496659328,
          218.61603224886528,
          221.59217549772745,
          221.67232551562284,
          222.42823919931146,
          222.58709887457923,
          223.1861185662467,
          224.00531715992346,
          229.47484212230503,
          231.0895842734356,
          231.20664802416655,
          233.41304007928065,
          233.8970490372939,
          235.20906710256463,
          235.9081709463661,
          240.67656896579,
          244.848952815257,
          250.8683164320369,
          255.8689302906269,
          258.53403724743123,
          263.3760447088157,
          265.25124063739304,
          265.3816839537708,
          266.5119453804072,
          269.76165897448845,
          279.6884556934238
         ],
         "y0": " ",
         "yaxis": "y"
        },
        {
         "alignmentgroup": "True",
         "hoverlabel": {
          "namelength": 0
         },
         "hovertemplate": "sub_layers=%{x}<br>fid=%{y}",
         "legendgroup": "0",
         "marker": {
          "color": "#EF553B"
         },
         "name": "0",
         "notched": false,
         "offsetgroup": "0",
         "orientation": "v",
         "showlegend": true,
         "type": "box",
         "x": [
          0,
          0,
          0,
          0,
          0,
          0,
          0,
          0,
          0,
          0,
          0,
          0,
          0,
          0,
          0,
          0,
          0,
          0,
          0,
          0,
          0,
          0,
          0,
          0,
          0,
          0,
          0,
          0,
          0,
          0,
          0,
          0,
          0,
          0,
          0,
          0,
          0,
          0,
          0,
          0,
          0,
          0,
          0,
          0,
          0
         ],
         "x0": " ",
         "xaxis": "x",
         "y": [
          183.93652220030742,
          192.80166114196663,
          194.1826017594779,
          194.24331032081724,
          199.03785057274146,
          199.43336142711573,
          200.4375891388925,
          201.57004504996203,
          203.33207805680343,
          205.60350502289177,
          205.62385972199502,
          207.59346341459727,
          208.18268687903986,
          208.21091676412874,
          209.6001224095616,
          211.23258499927852,
          212.28851719930017,
          213.985886191004,
          215.06071208964352,
          218.57746071599107,
          218.7506912952386,
          219.49623765622496,
          220.5816680575595,
          222.65412176623084,
          224.01600493477426,
          224.0681037099331,
          227.00192165648374,
          230.08953980773583,
          234.46744635601712,
          235.1494828442612,
          236.71951851571202,
          238.38069453734124,
          241.20939213460247,
          241.9179725418422,
          244.16385967059543,
          247.7086845823012,
          249.67241369972132,
          251.36766178227262,
          254.90249202830168,
          258.84260705177775,
          268.5000174487192,
          271.8785151329411,
          273.86175370556236,
          278.50636057807515,
          278.60120326697734
         ],
         "y0": " ",
         "yaxis": "y"
        },
        {
         "alignmentgroup": "True",
         "hoverlabel": {
          "namelength": 0
         },
         "hovertemplate": "sub_layers=%{x}<br>fid=%{y}",
         "legendgroup": "3",
         "marker": {
          "color": "#00cc96"
         },
         "name": "3",
         "notched": false,
         "offsetgroup": "3",
         "orientation": "v",
         "showlegend": true,
         "type": "box",
         "x": [
          3,
          3,
          3,
          3,
          3,
          3,
          3,
          3,
          3,
          3,
          3,
          3,
          3,
          3,
          3,
          3,
          3,
          3,
          3,
          3,
          3,
          3,
          3,
          3,
          3,
          3,
          3,
          3,
          3,
          3,
          3,
          3,
          3,
          3,
          3,
          3,
          3,
          3,
          3,
          3,
          3,
          3,
          3,
          3,
          3
         ],
         "x0": " ",
         "xaxis": "x",
         "y": [
          186.22899859532004,
          188.2775644328286,
          189.24188551852887,
          191.20767532955287,
          194.06942069983023,
          194.33816348588218,
          203.72905353722516,
          204.210455056091,
          206.78261758876855,
          207.633269016573,
          207.82324565938518,
          208.27931068067835,
          208.35732303960418,
          209.87650026803507,
          211.9310657908283,
          213.9120653436951,
          215.07601527902455,
          216.74491076578832,
          219.41113201624506,
          219.51127867658158,
          219.56702440660416,
          220.81385307148233,
          221.94983749271523,
          222.121556262038,
          223.63631279452804,
          225.15811726760538,
          227.0528359176908,
          227.20913510837013,
          229.23888143601704,
          233.17972646819038,
          233.69017112151005,
          234.2868136531993,
          234.68567042791696,
          234.88219134114624,
          237.01066415631357,
          237.93936651843225,
          241.31482904725226,
          241.46107459740816,
          243.36862982192454,
          245.1643059771677,
          246.41590291612897,
          251.261163942925,
          252.57997862364977,
          261.49339937173005,
          268.5233585340053
         ],
         "y0": " ",
         "yaxis": "y"
        }
       ],
       "layout": {
        "boxmode": "overlay",
        "legend": {
         "title": {
          "text": "sub_layers"
         },
         "tracegroupgap": 0
        },
        "margin": {
         "t": 60
        },
        "template": {
         "data": {
          "bar": [
           {
            "error_x": {
             "color": "#2a3f5f"
            },
            "error_y": {
             "color": "#2a3f5f"
            },
            "marker": {
             "line": {
              "color": "#E5ECF6",
              "width": 0.5
             }
            },
            "type": "bar"
           }
          ],
          "barpolar": [
           {
            "marker": {
             "line": {
              "color": "#E5ECF6",
              "width": 0.5
             }
            },
            "type": "barpolar"
           }
          ],
          "carpet": [
           {
            "aaxis": {
             "endlinecolor": "#2a3f5f",
             "gridcolor": "white",
             "linecolor": "white",
             "minorgridcolor": "white",
             "startlinecolor": "#2a3f5f"
            },
            "baxis": {
             "endlinecolor": "#2a3f5f",
             "gridcolor": "white",
             "linecolor": "white",
             "minorgridcolor": "white",
             "startlinecolor": "#2a3f5f"
            },
            "type": "carpet"
           }
          ],
          "choropleth": [
           {
            "colorbar": {
             "outlinewidth": 0,
             "ticks": ""
            },
            "type": "choropleth"
           }
          ],
          "contour": [
           {
            "colorbar": {
             "outlinewidth": 0,
             "ticks": ""
            },
            "colorscale": [
             [
              0,
              "#0d0887"
             ],
             [
              0.1111111111111111,
              "#46039f"
             ],
             [
              0.2222222222222222,
              "#7201a8"
             ],
             [
              0.3333333333333333,
              "#9c179e"
             ],
             [
              0.4444444444444444,
              "#bd3786"
             ],
             [
              0.5555555555555556,
              "#d8576b"
             ],
             [
              0.6666666666666666,
              "#ed7953"
             ],
             [
              0.7777777777777778,
              "#fb9f3a"
             ],
             [
              0.8888888888888888,
              "#fdca26"
             ],
             [
              1,
              "#f0f921"
             ]
            ],
            "type": "contour"
           }
          ],
          "contourcarpet": [
           {
            "colorbar": {
             "outlinewidth": 0,
             "ticks": ""
            },
            "type": "contourcarpet"
           }
          ],
          "heatmap": [
           {
            "colorbar": {
             "outlinewidth": 0,
             "ticks": ""
            },
            "colorscale": [
             [
              0,
              "#0d0887"
             ],
             [
              0.1111111111111111,
              "#46039f"
             ],
             [
              0.2222222222222222,
              "#7201a8"
             ],
             [
              0.3333333333333333,
              "#9c179e"
             ],
             [
              0.4444444444444444,
              "#bd3786"
             ],
             [
              0.5555555555555556,
              "#d8576b"
             ],
             [
              0.6666666666666666,
              "#ed7953"
             ],
             [
              0.7777777777777778,
              "#fb9f3a"
             ],
             [
              0.8888888888888888,
              "#fdca26"
             ],
             [
              1,
              "#f0f921"
             ]
            ],
            "type": "heatmap"
           }
          ],
          "heatmapgl": [
           {
            "colorbar": {
             "outlinewidth": 0,
             "ticks": ""
            },
            "colorscale": [
             [
              0,
              "#0d0887"
             ],
             [
              0.1111111111111111,
              "#46039f"
             ],
             [
              0.2222222222222222,
              "#7201a8"
             ],
             [
              0.3333333333333333,
              "#9c179e"
             ],
             [
              0.4444444444444444,
              "#bd3786"
             ],
             [
              0.5555555555555556,
              "#d8576b"
             ],
             [
              0.6666666666666666,
              "#ed7953"
             ],
             [
              0.7777777777777778,
              "#fb9f3a"
             ],
             [
              0.8888888888888888,
              "#fdca26"
             ],
             [
              1,
              "#f0f921"
             ]
            ],
            "type": "heatmapgl"
           }
          ],
          "histogram": [
           {
            "marker": {
             "colorbar": {
              "outlinewidth": 0,
              "ticks": ""
             }
            },
            "type": "histogram"
           }
          ],
          "histogram2d": [
           {
            "colorbar": {
             "outlinewidth": 0,
             "ticks": ""
            },
            "colorscale": [
             [
              0,
              "#0d0887"
             ],
             [
              0.1111111111111111,
              "#46039f"
             ],
             [
              0.2222222222222222,
              "#7201a8"
             ],
             [
              0.3333333333333333,
              "#9c179e"
             ],
             [
              0.4444444444444444,
              "#bd3786"
             ],
             [
              0.5555555555555556,
              "#d8576b"
             ],
             [
              0.6666666666666666,
              "#ed7953"
             ],
             [
              0.7777777777777778,
              "#fb9f3a"
             ],
             [
              0.8888888888888888,
              "#fdca26"
             ],
             [
              1,
              "#f0f921"
             ]
            ],
            "type": "histogram2d"
           }
          ],
          "histogram2dcontour": [
           {
            "colorbar": {
             "outlinewidth": 0,
             "ticks": ""
            },
            "colorscale": [
             [
              0,
              "#0d0887"
             ],
             [
              0.1111111111111111,
              "#46039f"
             ],
             [
              0.2222222222222222,
              "#7201a8"
             ],
             [
              0.3333333333333333,
              "#9c179e"
             ],
             [
              0.4444444444444444,
              "#bd3786"
             ],
             [
              0.5555555555555556,
              "#d8576b"
             ],
             [
              0.6666666666666666,
              "#ed7953"
             ],
             [
              0.7777777777777778,
              "#fb9f3a"
             ],
             [
              0.8888888888888888,
              "#fdca26"
             ],
             [
              1,
              "#f0f921"
             ]
            ],
            "type": "histogram2dcontour"
           }
          ],
          "mesh3d": [
           {
            "colorbar": {
             "outlinewidth": 0,
             "ticks": ""
            },
            "type": "mesh3d"
           }
          ],
          "parcoords": [
           {
            "line": {
             "colorbar": {
              "outlinewidth": 0,
              "ticks": ""
             }
            },
            "type": "parcoords"
           }
          ],
          "pie": [
           {
            "automargin": true,
            "type": "pie"
           }
          ],
          "scatter": [
           {
            "marker": {
             "colorbar": {
              "outlinewidth": 0,
              "ticks": ""
             }
            },
            "type": "scatter"
           }
          ],
          "scatter3d": [
           {
            "line": {
             "colorbar": {
              "outlinewidth": 0,
              "ticks": ""
             }
            },
            "marker": {
             "colorbar": {
              "outlinewidth": 0,
              "ticks": ""
             }
            },
            "type": "scatter3d"
           }
          ],
          "scattercarpet": [
           {
            "marker": {
             "colorbar": {
              "outlinewidth": 0,
              "ticks": ""
             }
            },
            "type": "scattercarpet"
           }
          ],
          "scattergeo": [
           {
            "marker": {
             "colorbar": {
              "outlinewidth": 0,
              "ticks": ""
             }
            },
            "type": "scattergeo"
           }
          ],
          "scattergl": [
           {
            "marker": {
             "colorbar": {
              "outlinewidth": 0,
              "ticks": ""
             }
            },
            "type": "scattergl"
           }
          ],
          "scattermapbox": [
           {
            "marker": {
             "colorbar": {
              "outlinewidth": 0,
              "ticks": ""
             }
            },
            "type": "scattermapbox"
           }
          ],
          "scatterpolar": [
           {
            "marker": {
             "colorbar": {
              "outlinewidth": 0,
              "ticks": ""
             }
            },
            "type": "scatterpolar"
           }
          ],
          "scatterpolargl": [
           {
            "marker": {
             "colorbar": {
              "outlinewidth": 0,
              "ticks": ""
             }
            },
            "type": "scatterpolargl"
           }
          ],
          "scatterternary": [
           {
            "marker": {
             "colorbar": {
              "outlinewidth": 0,
              "ticks": ""
             }
            },
            "type": "scatterternary"
           }
          ],
          "surface": [
           {
            "colorbar": {
             "outlinewidth": 0,
             "ticks": ""
            },
            "colorscale": [
             [
              0,
              "#0d0887"
             ],
             [
              0.1111111111111111,
              "#46039f"
             ],
             [
              0.2222222222222222,
              "#7201a8"
             ],
             [
              0.3333333333333333,
              "#9c179e"
             ],
             [
              0.4444444444444444,
              "#bd3786"
             ],
             [
              0.5555555555555556,
              "#d8576b"
             ],
             [
              0.6666666666666666,
              "#ed7953"
             ],
             [
              0.7777777777777778,
              "#fb9f3a"
             ],
             [
              0.8888888888888888,
              "#fdca26"
             ],
             [
              1,
              "#f0f921"
             ]
            ],
            "type": "surface"
           }
          ],
          "table": [
           {
            "cells": {
             "fill": {
              "color": "#EBF0F8"
             },
             "line": {
              "color": "white"
             }
            },
            "header": {
             "fill": {
              "color": "#C8D4E3"
             },
             "line": {
              "color": "white"
             }
            },
            "type": "table"
           }
          ]
         },
         "layout": {
          "annotationdefaults": {
           "arrowcolor": "#2a3f5f",
           "arrowhead": 0,
           "arrowwidth": 1
          },
          "coloraxis": {
           "colorbar": {
            "outlinewidth": 0,
            "ticks": ""
           }
          },
          "colorscale": {
           "diverging": [
            [
             0,
             "#8e0152"
            ],
            [
             0.1,
             "#c51b7d"
            ],
            [
             0.2,
             "#de77ae"
            ],
            [
             0.3,
             "#f1b6da"
            ],
            [
             0.4,
             "#fde0ef"
            ],
            [
             0.5,
             "#f7f7f7"
            ],
            [
             0.6,
             "#e6f5d0"
            ],
            [
             0.7,
             "#b8e186"
            ],
            [
             0.8,
             "#7fbc41"
            ],
            [
             0.9,
             "#4d9221"
            ],
            [
             1,
             "#276419"
            ]
           ],
           "sequential": [
            [
             0,
             "#0d0887"
            ],
            [
             0.1111111111111111,
             "#46039f"
            ],
            [
             0.2222222222222222,
             "#7201a8"
            ],
            [
             0.3333333333333333,
             "#9c179e"
            ],
            [
             0.4444444444444444,
             "#bd3786"
            ],
            [
             0.5555555555555556,
             "#d8576b"
            ],
            [
             0.6666666666666666,
             "#ed7953"
            ],
            [
             0.7777777777777778,
             "#fb9f3a"
            ],
            [
             0.8888888888888888,
             "#fdca26"
            ],
            [
             1,
             "#f0f921"
            ]
           ],
           "sequentialminus": [
            [
             0,
             "#0d0887"
            ],
            [
             0.1111111111111111,
             "#46039f"
            ],
            [
             0.2222222222222222,
             "#7201a8"
            ],
            [
             0.3333333333333333,
             "#9c179e"
            ],
            [
             0.4444444444444444,
             "#bd3786"
            ],
            [
             0.5555555555555556,
             "#d8576b"
            ],
            [
             0.6666666666666666,
             "#ed7953"
            ],
            [
             0.7777777777777778,
             "#fb9f3a"
            ],
            [
             0.8888888888888888,
             "#fdca26"
            ],
            [
             1,
             "#f0f921"
            ]
           ]
          },
          "colorway": [
           "#636efa",
           "#EF553B",
           "#00cc96",
           "#ab63fa",
           "#FFA15A",
           "#19d3f3",
           "#FF6692",
           "#B6E880",
           "#FF97FF",
           "#FECB52"
          ],
          "font": {
           "color": "#2a3f5f"
          },
          "geo": {
           "bgcolor": "white",
           "lakecolor": "white",
           "landcolor": "#E5ECF6",
           "showlakes": true,
           "showland": true,
           "subunitcolor": "white"
          },
          "hoverlabel": {
           "align": "left"
          },
          "hovermode": "closest",
          "mapbox": {
           "style": "light"
          },
          "paper_bgcolor": "white",
          "plot_bgcolor": "#E5ECF6",
          "polar": {
           "angularaxis": {
            "gridcolor": "white",
            "linecolor": "white",
            "ticks": ""
           },
           "bgcolor": "#E5ECF6",
           "radialaxis": {
            "gridcolor": "white",
            "linecolor": "white",
            "ticks": ""
           }
          },
          "scene": {
           "xaxis": {
            "backgroundcolor": "#E5ECF6",
            "gridcolor": "white",
            "gridwidth": 2,
            "linecolor": "white",
            "showbackground": true,
            "ticks": "",
            "zerolinecolor": "white"
           },
           "yaxis": {
            "backgroundcolor": "#E5ECF6",
            "gridcolor": "white",
            "gridwidth": 2,
            "linecolor": "white",
            "showbackground": true,
            "ticks": "",
            "zerolinecolor": "white"
           },
           "zaxis": {
            "backgroundcolor": "#E5ECF6",
            "gridcolor": "white",
            "gridwidth": 2,
            "linecolor": "white",
            "showbackground": true,
            "ticks": "",
            "zerolinecolor": "white"
           }
          },
          "shapedefaults": {
           "line": {
            "color": "#2a3f5f"
           }
          },
          "ternary": {
           "aaxis": {
            "gridcolor": "white",
            "linecolor": "white",
            "ticks": ""
           },
           "baxis": {
            "gridcolor": "white",
            "linecolor": "white",
            "ticks": ""
           },
           "bgcolor": "#E5ECF6",
           "caxis": {
            "gridcolor": "white",
            "linecolor": "white",
            "ticks": ""
           }
          },
          "title": {
           "x": 0.05
          },
          "xaxis": {
           "automargin": true,
           "gridcolor": "white",
           "linecolor": "white",
           "ticks": "",
           "title": {
            "standoff": 15
           },
           "zerolinecolor": "white",
           "zerolinewidth": 2
          },
          "yaxis": {
           "automargin": true,
           "gridcolor": "white",
           "linecolor": "white",
           "ticks": "",
           "title": {
            "standoff": 15
           },
           "zerolinecolor": "white",
           "zerolinewidth": 2
          }
         }
        },
        "xaxis": {
         "anchor": "y",
         "categoryarray": [
          1,
          0,
          3
         ],
         "categoryorder": "array",
         "domain": [
          0,
          1
         ],
         "title": {
          "text": "sub_layers"
         }
        },
        "yaxis": {
         "anchor": "x",
         "domain": [
          0,
          1
         ],
         "title": {
          "text": "fid"
         }
        }
       }
      },
      "text/html": [
       "<div>\n",
       "        \n",
       "        \n",
       "            <div id=\"b1f143e6-fa80-4234-bbee-603d5683f4e5\" class=\"plotly-graph-div\" style=\"height:525px; width:100%;\"></div>\n",
       "            <script type=\"text/javascript\">\n",
       "                require([\"plotly\"], function(Plotly) {\n",
       "                    window.PLOTLYENV=window.PLOTLYENV || {};\n",
       "                    \n",
       "                if (document.getElementById(\"b1f143e6-fa80-4234-bbee-603d5683f4e5\")) {\n",
       "                    Plotly.newPlot(\n",
       "                        'b1f143e6-fa80-4234-bbee-603d5683f4e5',\n",
       "                        [{\"alignmentgroup\": \"True\", \"hoverlabel\": {\"namelength\": 0}, \"hovertemplate\": \"sub_layers=%{x}<br>fid=%{y}\", \"legendgroup\": \"1\", \"marker\": {\"color\": \"#636efa\"}, \"name\": \"1\", \"notched\": false, \"offsetgroup\": \"1\", \"orientation\": \"v\", \"showlegend\": true, \"type\": \"box\", \"x\": [1, 1, 1, 1, 1, 1, 1, 1, 1, 1, 1, 1, 1, 1, 1, 1, 1, 1, 1, 1, 1, 1, 1, 1, 1, 1, 1, 1, 1, 1, 1, 1, 1, 1, 1, 1, 1, 1, 1, 1, 1, 1, 1, 1, 1], \"x0\": \" \", \"xaxis\": \"x\", \"y\": [183.2230128425353, 184.9019961315352, 185.64373112962676, 188.5419358059342, 189.21281822927318, 190.0419070476714, 196.86424614107904, 197.0333956072078, 197.48836951735558, 200.08993160750356, 200.40106751947522, 203.61825545604322, 203.90833653595533, 206.98111667505736, 207.76026750902588, 208.37103792038025, 209.19835869002048, 210.39346842096725, 210.98345889246247, 217.73022496659328, 218.61603224886528, 221.59217549772745, 221.67232551562284, 222.42823919931146, 222.58709887457923, 223.1861185662467, 224.00531715992346, 229.47484212230503, 231.0895842734356, 231.20664802416655, 233.41304007928065, 233.8970490372939, 235.20906710256463, 235.9081709463661, 240.67656896579, 244.848952815257, 250.8683164320369, 255.8689302906269, 258.53403724743123, 263.3760447088157, 265.25124063739304, 265.3816839537708, 266.5119453804072, 269.76165897448845, 279.6884556934238], \"y0\": \" \", \"yaxis\": \"y\"}, {\"alignmentgroup\": \"True\", \"hoverlabel\": {\"namelength\": 0}, \"hovertemplate\": \"sub_layers=%{x}<br>fid=%{y}\", \"legendgroup\": \"0\", \"marker\": {\"color\": \"#EF553B\"}, \"name\": \"0\", \"notched\": false, \"offsetgroup\": \"0\", \"orientation\": \"v\", \"showlegend\": true, \"type\": \"box\", \"x\": [0, 0, 0, 0, 0, 0, 0, 0, 0, 0, 0, 0, 0, 0, 0, 0, 0, 0, 0, 0, 0, 0, 0, 0, 0, 0, 0, 0, 0, 0, 0, 0, 0, 0, 0, 0, 0, 0, 0, 0, 0, 0, 0, 0, 0], \"x0\": \" \", \"xaxis\": \"x\", \"y\": [183.93652220030742, 192.80166114196663, 194.1826017594779, 194.24331032081724, 199.03785057274146, 199.43336142711573, 200.4375891388925, 201.57004504996203, 203.33207805680343, 205.60350502289177, 205.62385972199502, 207.59346341459727, 208.18268687903986, 208.21091676412874, 209.6001224095616, 211.23258499927852, 212.28851719930017, 213.985886191004, 215.06071208964352, 218.57746071599107, 218.7506912952386, 219.49623765622496, 220.5816680575595, 222.65412176623084, 224.01600493477426, 224.0681037099331, 227.00192165648374, 230.08953980773583, 234.46744635601712, 235.1494828442612, 236.71951851571202, 238.38069453734124, 241.20939213460247, 241.9179725418422, 244.16385967059543, 247.7086845823012, 249.67241369972132, 251.36766178227262, 254.90249202830168, 258.84260705177775, 268.5000174487192, 271.8785151329411, 273.86175370556236, 278.50636057807515, 278.60120326697734], \"y0\": \" \", \"yaxis\": \"y\"}, {\"alignmentgroup\": \"True\", \"hoverlabel\": {\"namelength\": 0}, \"hovertemplate\": \"sub_layers=%{x}<br>fid=%{y}\", \"legendgroup\": \"3\", \"marker\": {\"color\": \"#00cc96\"}, \"name\": \"3\", \"notched\": false, \"offsetgroup\": \"3\", \"orientation\": \"v\", \"showlegend\": true, \"type\": \"box\", \"x\": [3, 3, 3, 3, 3, 3, 3, 3, 3, 3, 3, 3, 3, 3, 3, 3, 3, 3, 3, 3, 3, 3, 3, 3, 3, 3, 3, 3, 3, 3, 3, 3, 3, 3, 3, 3, 3, 3, 3, 3, 3, 3, 3, 3, 3], \"x0\": \" \", \"xaxis\": \"x\", \"y\": [186.22899859532004, 188.2775644328286, 189.24188551852887, 191.20767532955287, 194.06942069983023, 194.33816348588218, 203.72905353722516, 204.210455056091, 206.78261758876855, 207.633269016573, 207.82324565938518, 208.27931068067835, 208.35732303960418, 209.87650026803507, 211.9310657908283, 213.9120653436951, 215.07601527902455, 216.74491076578832, 219.41113201624506, 219.51127867658158, 219.56702440660416, 220.81385307148233, 221.94983749271523, 222.121556262038, 223.63631279452804, 225.15811726760538, 227.0528359176908, 227.20913510837013, 229.23888143601704, 233.17972646819038, 233.69017112151005, 234.2868136531993, 234.68567042791696, 234.88219134114624, 237.01066415631357, 237.93936651843225, 241.31482904725226, 241.46107459740816, 243.36862982192454, 245.1643059771677, 246.41590291612897, 251.261163942925, 252.57997862364977, 261.49339937173005, 268.5233585340053], \"y0\": \" \", \"yaxis\": \"y\"}],\n",
       "                        {\"boxmode\": \"overlay\", \"legend\": {\"title\": {\"text\": \"sub_layers\"}, \"tracegroupgap\": 0}, \"margin\": {\"t\": 60}, \"template\": {\"data\": {\"bar\": [{\"error_x\": {\"color\": \"#2a3f5f\"}, \"error_y\": {\"color\": \"#2a3f5f\"}, \"marker\": {\"line\": {\"color\": \"#E5ECF6\", \"width\": 0.5}}, \"type\": \"bar\"}], \"barpolar\": [{\"marker\": {\"line\": {\"color\": \"#E5ECF6\", \"width\": 0.5}}, \"type\": \"barpolar\"}], \"carpet\": [{\"aaxis\": {\"endlinecolor\": \"#2a3f5f\", \"gridcolor\": \"white\", \"linecolor\": \"white\", \"minorgridcolor\": \"white\", \"startlinecolor\": \"#2a3f5f\"}, \"baxis\": {\"endlinecolor\": \"#2a3f5f\", \"gridcolor\": \"white\", \"linecolor\": \"white\", \"minorgridcolor\": \"white\", \"startlinecolor\": \"#2a3f5f\"}, \"type\": \"carpet\"}], \"choropleth\": [{\"colorbar\": {\"outlinewidth\": 0, \"ticks\": \"\"}, \"type\": \"choropleth\"}], \"contour\": [{\"colorbar\": {\"outlinewidth\": 0, \"ticks\": \"\"}, \"colorscale\": [[0.0, \"#0d0887\"], [0.1111111111111111, \"#46039f\"], [0.2222222222222222, \"#7201a8\"], [0.3333333333333333, \"#9c179e\"], [0.4444444444444444, \"#bd3786\"], [0.5555555555555556, \"#d8576b\"], [0.6666666666666666, \"#ed7953\"], [0.7777777777777778, \"#fb9f3a\"], [0.8888888888888888, \"#fdca26\"], [1.0, \"#f0f921\"]], \"type\": \"contour\"}], \"contourcarpet\": [{\"colorbar\": {\"outlinewidth\": 0, \"ticks\": \"\"}, \"type\": \"contourcarpet\"}], \"heatmap\": [{\"colorbar\": {\"outlinewidth\": 0, \"ticks\": \"\"}, \"colorscale\": [[0.0, \"#0d0887\"], [0.1111111111111111, \"#46039f\"], [0.2222222222222222, \"#7201a8\"], [0.3333333333333333, \"#9c179e\"], [0.4444444444444444, \"#bd3786\"], [0.5555555555555556, \"#d8576b\"], [0.6666666666666666, \"#ed7953\"], [0.7777777777777778, \"#fb9f3a\"], [0.8888888888888888, \"#fdca26\"], [1.0, \"#f0f921\"]], \"type\": \"heatmap\"}], \"heatmapgl\": [{\"colorbar\": {\"outlinewidth\": 0, \"ticks\": \"\"}, \"colorscale\": [[0.0, \"#0d0887\"], [0.1111111111111111, \"#46039f\"], [0.2222222222222222, \"#7201a8\"], [0.3333333333333333, \"#9c179e\"], [0.4444444444444444, \"#bd3786\"], [0.5555555555555556, \"#d8576b\"], [0.6666666666666666, \"#ed7953\"], [0.7777777777777778, \"#fb9f3a\"], [0.8888888888888888, \"#fdca26\"], [1.0, \"#f0f921\"]], \"type\": \"heatmapgl\"}], \"histogram\": [{\"marker\": {\"colorbar\": {\"outlinewidth\": 0, \"ticks\": \"\"}}, \"type\": \"histogram\"}], \"histogram2d\": [{\"colorbar\": {\"outlinewidth\": 0, \"ticks\": \"\"}, \"colorscale\": [[0.0, \"#0d0887\"], [0.1111111111111111, \"#46039f\"], [0.2222222222222222, \"#7201a8\"], [0.3333333333333333, \"#9c179e\"], [0.4444444444444444, \"#bd3786\"], [0.5555555555555556, \"#d8576b\"], [0.6666666666666666, \"#ed7953\"], [0.7777777777777778, \"#fb9f3a\"], [0.8888888888888888, \"#fdca26\"], [1.0, \"#f0f921\"]], \"type\": \"histogram2d\"}], \"histogram2dcontour\": [{\"colorbar\": {\"outlinewidth\": 0, \"ticks\": \"\"}, \"colorscale\": [[0.0, \"#0d0887\"], [0.1111111111111111, \"#46039f\"], [0.2222222222222222, \"#7201a8\"], [0.3333333333333333, \"#9c179e\"], [0.4444444444444444, \"#bd3786\"], [0.5555555555555556, \"#d8576b\"], [0.6666666666666666, \"#ed7953\"], [0.7777777777777778, \"#fb9f3a\"], [0.8888888888888888, \"#fdca26\"], [1.0, \"#f0f921\"]], \"type\": \"histogram2dcontour\"}], \"mesh3d\": [{\"colorbar\": {\"outlinewidth\": 0, \"ticks\": \"\"}, \"type\": \"mesh3d\"}], \"parcoords\": [{\"line\": {\"colorbar\": {\"outlinewidth\": 0, \"ticks\": \"\"}}, \"type\": \"parcoords\"}], \"pie\": [{\"automargin\": true, \"type\": \"pie\"}], \"scatter\": [{\"marker\": {\"colorbar\": {\"outlinewidth\": 0, \"ticks\": \"\"}}, \"type\": \"scatter\"}], \"scatter3d\": [{\"line\": {\"colorbar\": {\"outlinewidth\": 0, \"ticks\": \"\"}}, \"marker\": {\"colorbar\": {\"outlinewidth\": 0, \"ticks\": \"\"}}, \"type\": \"scatter3d\"}], \"scattercarpet\": [{\"marker\": {\"colorbar\": {\"outlinewidth\": 0, \"ticks\": \"\"}}, \"type\": \"scattercarpet\"}], \"scattergeo\": [{\"marker\": {\"colorbar\": {\"outlinewidth\": 0, \"ticks\": \"\"}}, \"type\": \"scattergeo\"}], \"scattergl\": [{\"marker\": {\"colorbar\": {\"outlinewidth\": 0, \"ticks\": \"\"}}, \"type\": \"scattergl\"}], \"scattermapbox\": [{\"marker\": {\"colorbar\": {\"outlinewidth\": 0, \"ticks\": \"\"}}, \"type\": \"scattermapbox\"}], \"scatterpolar\": [{\"marker\": {\"colorbar\": {\"outlinewidth\": 0, \"ticks\": \"\"}}, \"type\": \"scatterpolar\"}], \"scatterpolargl\": [{\"marker\": {\"colorbar\": {\"outlinewidth\": 0, \"ticks\": \"\"}}, \"type\": \"scatterpolargl\"}], \"scatterternary\": [{\"marker\": {\"colorbar\": {\"outlinewidth\": 0, \"ticks\": \"\"}}, \"type\": \"scatterternary\"}], \"surface\": [{\"colorbar\": {\"outlinewidth\": 0, \"ticks\": \"\"}, \"colorscale\": [[0.0, \"#0d0887\"], [0.1111111111111111, \"#46039f\"], [0.2222222222222222, \"#7201a8\"], [0.3333333333333333, \"#9c179e\"], [0.4444444444444444, \"#bd3786\"], [0.5555555555555556, \"#d8576b\"], [0.6666666666666666, \"#ed7953\"], [0.7777777777777778, \"#fb9f3a\"], [0.8888888888888888, \"#fdca26\"], [1.0, \"#f0f921\"]], \"type\": \"surface\"}], \"table\": [{\"cells\": {\"fill\": {\"color\": \"#EBF0F8\"}, \"line\": {\"color\": \"white\"}}, \"header\": {\"fill\": {\"color\": \"#C8D4E3\"}, \"line\": {\"color\": \"white\"}}, \"type\": \"table\"}]}, \"layout\": {\"annotationdefaults\": {\"arrowcolor\": \"#2a3f5f\", \"arrowhead\": 0, \"arrowwidth\": 1}, \"coloraxis\": {\"colorbar\": {\"outlinewidth\": 0, \"ticks\": \"\"}}, \"colorscale\": {\"diverging\": [[0, \"#8e0152\"], [0.1, \"#c51b7d\"], [0.2, \"#de77ae\"], [0.3, \"#f1b6da\"], [0.4, \"#fde0ef\"], [0.5, \"#f7f7f7\"], [0.6, \"#e6f5d0\"], [0.7, \"#b8e186\"], [0.8, \"#7fbc41\"], [0.9, \"#4d9221\"], [1, \"#276419\"]], \"sequential\": [[0.0, \"#0d0887\"], [0.1111111111111111, \"#46039f\"], [0.2222222222222222, \"#7201a8\"], [0.3333333333333333, \"#9c179e\"], [0.4444444444444444, \"#bd3786\"], [0.5555555555555556, \"#d8576b\"], [0.6666666666666666, \"#ed7953\"], [0.7777777777777778, \"#fb9f3a\"], [0.8888888888888888, \"#fdca26\"], [1.0, \"#f0f921\"]], \"sequentialminus\": [[0.0, \"#0d0887\"], [0.1111111111111111, \"#46039f\"], [0.2222222222222222, \"#7201a8\"], [0.3333333333333333, \"#9c179e\"], [0.4444444444444444, \"#bd3786\"], [0.5555555555555556, \"#d8576b\"], [0.6666666666666666, \"#ed7953\"], [0.7777777777777778, \"#fb9f3a\"], [0.8888888888888888, \"#fdca26\"], [1.0, \"#f0f921\"]]}, \"colorway\": [\"#636efa\", \"#EF553B\", \"#00cc96\", \"#ab63fa\", \"#FFA15A\", \"#19d3f3\", \"#FF6692\", \"#B6E880\", \"#FF97FF\", \"#FECB52\"], \"font\": {\"color\": \"#2a3f5f\"}, \"geo\": {\"bgcolor\": \"white\", \"lakecolor\": \"white\", \"landcolor\": \"#E5ECF6\", \"showlakes\": true, \"showland\": true, \"subunitcolor\": \"white\"}, \"hoverlabel\": {\"align\": \"left\"}, \"hovermode\": \"closest\", \"mapbox\": {\"style\": \"light\"}, \"paper_bgcolor\": \"white\", \"plot_bgcolor\": \"#E5ECF6\", \"polar\": {\"angularaxis\": {\"gridcolor\": \"white\", \"linecolor\": \"white\", \"ticks\": \"\"}, \"bgcolor\": \"#E5ECF6\", \"radialaxis\": {\"gridcolor\": \"white\", \"linecolor\": \"white\", \"ticks\": \"\"}}, \"scene\": {\"xaxis\": {\"backgroundcolor\": \"#E5ECF6\", \"gridcolor\": \"white\", \"gridwidth\": 2, \"linecolor\": \"white\", \"showbackground\": true, \"ticks\": \"\", \"zerolinecolor\": \"white\"}, \"yaxis\": {\"backgroundcolor\": \"#E5ECF6\", \"gridcolor\": \"white\", \"gridwidth\": 2, \"linecolor\": \"white\", \"showbackground\": true, \"ticks\": \"\", \"zerolinecolor\": \"white\"}, \"zaxis\": {\"backgroundcolor\": \"#E5ECF6\", \"gridcolor\": \"white\", \"gridwidth\": 2, \"linecolor\": \"white\", \"showbackground\": true, \"ticks\": \"\", \"zerolinecolor\": \"white\"}}, \"shapedefaults\": {\"line\": {\"color\": \"#2a3f5f\"}}, \"ternary\": {\"aaxis\": {\"gridcolor\": \"white\", \"linecolor\": \"white\", \"ticks\": \"\"}, \"baxis\": {\"gridcolor\": \"white\", \"linecolor\": \"white\", \"ticks\": \"\"}, \"bgcolor\": \"#E5ECF6\", \"caxis\": {\"gridcolor\": \"white\", \"linecolor\": \"white\", \"ticks\": \"\"}}, \"title\": {\"x\": 0.05}, \"xaxis\": {\"automargin\": true, \"gridcolor\": \"white\", \"linecolor\": \"white\", \"ticks\": \"\", \"title\": {\"standoff\": 15}, \"zerolinecolor\": \"white\", \"zerolinewidth\": 2}, \"yaxis\": {\"automargin\": true, \"gridcolor\": \"white\", \"linecolor\": \"white\", \"ticks\": \"\", \"title\": {\"standoff\": 15}, \"zerolinecolor\": \"white\", \"zerolinewidth\": 2}}}, \"xaxis\": {\"anchor\": \"y\", \"categoryarray\": [1, 0, 3], \"categoryorder\": \"array\", \"domain\": [0.0, 1.0], \"title\": {\"text\": \"sub_layers\"}}, \"yaxis\": {\"anchor\": \"x\", \"domain\": [0.0, 1.0], \"title\": {\"text\": \"fid\"}}},\n",
       "                        {\"responsive\": true}\n",
       "                    ).then(function(){\n",
       "                            \n",
       "var gd = document.getElementById('b1f143e6-fa80-4234-bbee-603d5683f4e5');\n",
       "var x = new MutationObserver(function (mutations, observer) {{\n",
       "        var display = window.getComputedStyle(gd).display;\n",
       "        if (!display || display === 'none') {{\n",
       "            console.log([gd, 'removed!']);\n",
       "            Plotly.purge(gd);\n",
       "            observer.disconnect();\n",
       "        }}\n",
       "}});\n",
       "\n",
       "// Listen for the removal of the full notebook cells\n",
       "var notebookContainer = gd.closest('#notebook-container');\n",
       "if (notebookContainer) {{\n",
       "    x.observe(notebookContainer, {childList: true});\n",
       "}}\n",
       "\n",
       "// Listen for the clearing of the current output cell\n",
       "var outputEl = gd.closest('.output');\n",
       "if (outputEl) {{\n",
       "    x.observe(outputEl, {childList: true});\n",
       "}}\n",
       "\n",
       "                        })\n",
       "                };\n",
       "                });\n",
       "            </script>\n",
       "        </div>"
      ]
     },
     "metadata": {},
     "output_type": "display_data"
    }
   ],
   "source": [
    "px.box(df_clean, x='sub_layers', y='fid', boxmode=\"overlay\", color='sub_layers')"
   ]
  }
 ],
 "metadata": {
  "accelerator": "GPU",
  "colab": {
   "collapsed_sections": [],
   "name": "Untitled2.ipynb",
   "provenance": []
  },
  "kernelspec": {
   "display_name": "Python 3",
   "language": "python",
   "name": "python3"
  },
  "language_info": {
   "codemirror_mode": {
    "name": "ipython",
    "version": 3
   },
   "file_extension": ".py",
   "mimetype": "text/x-python",
   "name": "python",
   "nbconvert_exporter": "python",
   "pygments_lexer": "ipython3",
   "version": "3.7.3"
  },
  "widgets": {
   "application/vnd.jupyter.widget-state+json": {
    "0523fab85cb64b71b21f17c38fb66514": {
     "model_module": "@jupyter-widgets/controls",
     "model_name": "HBoxModel",
     "state": {
      "_dom_classes": [],
      "_model_module": "@jupyter-widgets/controls",
      "_model_module_version": "1.5.0",
      "_model_name": "HBoxModel",
      "_view_count": null,
      "_view_module": "@jupyter-widgets/controls",
      "_view_module_version": "1.5.0",
      "_view_name": "HBoxView",
      "box_style": "",
      "children": [
       "IPY_MODEL_2db6e93aa9074574831dad5a0a753389",
       "IPY_MODEL_411461ac034345728dfe0809db92f990"
      ],
      "layout": "IPY_MODEL_caa6dfe2bb0e40ef9c7c16e1395a3a4b"
     }
    },
    "060bf8af440445e089aca51d7f547503": {
     "model_module": "@jupyter-widgets/controls",
     "model_name": "HTMLModel",
     "state": {
      "_dom_classes": [],
      "_model_module": "@jupyter-widgets/controls",
      "_model_module_version": "1.5.0",
      "_model_name": "HTMLModel",
      "_view_count": null,
      "_view_module": "@jupyter-widgets/controls",
      "_view_module_version": "1.5.0",
      "_view_name": "HTMLView",
      "description": "",
      "description_tooltip": null,
      "layout": "IPY_MODEL_f5f08eaf7e56497d969ec3f86530d23b",
      "placeholder": "​",
      "style": "IPY_MODEL_5dbceaca62ea43858d35bb2d0f1844a4",
      "value": " 0/0 [00:00&lt;?, ?it/s]"
     }
    },
    "13b13887008d41c3af5a77c93443e853": {
     "model_module": "@jupyter-widgets/controls",
     "model_name": "DescriptionStyleModel",
     "state": {
      "_model_module": "@jupyter-widgets/controls",
      "_model_module_version": "1.5.0",
      "_model_name": "DescriptionStyleModel",
      "_view_count": null,
      "_view_module": "@jupyter-widgets/base",
      "_view_module_version": "1.2.0",
      "_view_name": "StyleView",
      "description_width": ""
     }
    },
    "15ebd4ad499143deb4ebaf3b90412aa5": {
     "model_module": "@jupyter-widgets/controls",
     "model_name": "FloatProgressModel",
     "state": {
      "_dom_classes": [],
      "_model_module": "@jupyter-widgets/controls",
      "_model_module_version": "1.5.0",
      "_model_name": "FloatProgressModel",
      "_view_count": null,
      "_view_module": "@jupyter-widgets/controls",
      "_view_module_version": "1.5.0",
      "_view_name": "ProgressView",
      "bar_style": "info",
      "description": "Validation sanity check: ",
      "description_tooltip": null,
      "layout": "IPY_MODEL_4305d40a221f48bda624597d4f4e8413",
      "max": 0,
      "min": 0,
      "orientation": "horizontal",
      "style": "IPY_MODEL_6a1d1154cfee4739a52f479d4f7f7058",
      "value": 0
     }
    },
    "2db6e93aa9074574831dad5a0a753389": {
     "model_module": "@jupyter-widgets/controls",
     "model_name": "FloatProgressModel",
     "state": {
      "_dom_classes": [],
      "_model_module": "@jupyter-widgets/controls",
      "_model_module_version": "1.5.0",
      "_model_name": "FloatProgressModel",
      "_view_count": null,
      "_view_module": "@jupyter-widgets/controls",
      "_view_module_version": "1.5.0",
      "_view_name": "ProgressView",
      "bar_style": "danger",
      "description": "Epoch 0:  47%",
      "description_tooltip": null,
      "layout": "IPY_MODEL_4d7c7e3214d24fad8adafa812b2780bc",
      "max": 6332,
      "min": 0,
      "orientation": "horizontal",
      "style": "IPY_MODEL_5d558eee42cb4f1ea57398a81d81e6c4",
      "value": 3000
     }
    },
    "3a33cef110044afcbccfe52a0df456a7": {
     "model_module": "@jupyter-widgets/base",
     "model_name": "LayoutModel",
     "state": {
      "_model_module": "@jupyter-widgets/base",
      "_model_module_version": "1.2.0",
      "_model_name": "LayoutModel",
      "_view_count": null,
      "_view_module": "@jupyter-widgets/base",
      "_view_module_version": "1.2.0",
      "_view_name": "LayoutView",
      "align_content": null,
      "align_items": null,
      "align_self": null,
      "border": null,
      "bottom": null,
      "display": "inline-flex",
      "flex": null,
      "flex_flow": "row wrap",
      "grid_area": null,
      "grid_auto_columns": null,
      "grid_auto_flow": null,
      "grid_auto_rows": null,
      "grid_column": null,
      "grid_gap": null,
      "grid_row": null,
      "grid_template_areas": null,
      "grid_template_columns": null,
      "grid_template_rows": null,
      "height": null,
      "justify_content": null,
      "justify_items": null,
      "left": null,
      "margin": null,
      "max_height": null,
      "max_width": null,
      "min_height": null,
      "min_width": null,
      "object_fit": null,
      "object_position": null,
      "order": null,
      "overflow": null,
      "overflow_x": null,
      "overflow_y": null,
      "padding": null,
      "right": null,
      "top": null,
      "visibility": null,
      "width": "100%"
     }
    },
    "411461ac034345728dfe0809db92f990": {
     "model_module": "@jupyter-widgets/controls",
     "model_name": "HTMLModel",
     "state": {
      "_dom_classes": [],
      "_model_module": "@jupyter-widgets/controls",
      "_model_module_version": "1.5.0",
      "_model_name": "HTMLModel",
      "_view_count": null,
      "_view_module": "@jupyter-widgets/controls",
      "_view_module_version": "1.5.0",
      "_view_name": "HTMLView",
      "description": "",
      "description_tooltip": null,
      "layout": "IPY_MODEL_fe9b16820e0d497a9a6234b0cfed03e4",
      "placeholder": "​",
      "style": "IPY_MODEL_13b13887008d41c3af5a77c93443e853",
      "value": " 3000/6332 [03:44&lt;04:08, 13.38it/s, loss=0.0909, v_num=15]"
     }
    },
    "4305d40a221f48bda624597d4f4e8413": {
     "model_module": "@jupyter-widgets/base",
     "model_name": "LayoutModel",
     "state": {
      "_model_module": "@jupyter-widgets/base",
      "_model_module_version": "1.2.0",
      "_model_name": "LayoutModel",
      "_view_count": null,
      "_view_module": "@jupyter-widgets/base",
      "_view_module_version": "1.2.0",
      "_view_name": "LayoutView",
      "align_content": null,
      "align_items": null,
      "align_self": null,
      "border": null,
      "bottom": null,
      "display": null,
      "flex": "2",
      "flex_flow": null,
      "grid_area": null,
      "grid_auto_columns": null,
      "grid_auto_flow": null,
      "grid_auto_rows": null,
      "grid_column": null,
      "grid_gap": null,
      "grid_row": null,
      "grid_template_areas": null,
      "grid_template_columns": null,
      "grid_template_rows": null,
      "height": null,
      "justify_content": null,
      "justify_items": null,
      "left": null,
      "margin": null,
      "max_height": null,
      "max_width": null,
      "min_height": null,
      "min_width": null,
      "object_fit": null,
      "object_position": null,
      "order": null,
      "overflow": null,
      "overflow_x": null,
      "overflow_y": null,
      "padding": null,
      "right": null,
      "top": null,
      "visibility": null,
      "width": null
     }
    },
    "4d7c7e3214d24fad8adafa812b2780bc": {
     "model_module": "@jupyter-widgets/base",
     "model_name": "LayoutModel",
     "state": {
      "_model_module": "@jupyter-widgets/base",
      "_model_module_version": "1.2.0",
      "_model_name": "LayoutModel",
      "_view_count": null,
      "_view_module": "@jupyter-widgets/base",
      "_view_module_version": "1.2.0",
      "_view_name": "LayoutView",
      "align_content": null,
      "align_items": null,
      "align_self": null,
      "border": null,
      "bottom": null,
      "display": null,
      "flex": "2",
      "flex_flow": null,
      "grid_area": null,
      "grid_auto_columns": null,
      "grid_auto_flow": null,
      "grid_auto_rows": null,
      "grid_column": null,
      "grid_gap": null,
      "grid_row": null,
      "grid_template_areas": null,
      "grid_template_columns": null,
      "grid_template_rows": null,
      "height": null,
      "justify_content": null,
      "justify_items": null,
      "left": null,
      "margin": null,
      "max_height": null,
      "max_width": null,
      "min_height": null,
      "min_width": null,
      "object_fit": null,
      "object_position": null,
      "order": null,
      "overflow": null,
      "overflow_x": null,
      "overflow_y": null,
      "padding": null,
      "right": null,
      "top": null,
      "visibility": null,
      "width": null
     }
    },
    "5d558eee42cb4f1ea57398a81d81e6c4": {
     "model_module": "@jupyter-widgets/controls",
     "model_name": "ProgressStyleModel",
     "state": {
      "_model_module": "@jupyter-widgets/controls",
      "_model_module_version": "1.5.0",
      "_model_name": "ProgressStyleModel",
      "_view_count": null,
      "_view_module": "@jupyter-widgets/base",
      "_view_module_version": "1.2.0",
      "_view_name": "StyleView",
      "bar_color": null,
      "description_width": "initial"
     }
    },
    "5dbceaca62ea43858d35bb2d0f1844a4": {
     "model_module": "@jupyter-widgets/controls",
     "model_name": "DescriptionStyleModel",
     "state": {
      "_model_module": "@jupyter-widgets/controls",
      "_model_module_version": "1.5.0",
      "_model_name": "DescriptionStyleModel",
      "_view_count": null,
      "_view_module": "@jupyter-widgets/base",
      "_view_module_version": "1.2.0",
      "_view_name": "StyleView",
      "description_width": ""
     }
    },
    "6a1d1154cfee4739a52f479d4f7f7058": {
     "model_module": "@jupyter-widgets/controls",
     "model_name": "ProgressStyleModel",
     "state": {
      "_model_module": "@jupyter-widgets/controls",
      "_model_module_version": "1.5.0",
      "_model_name": "ProgressStyleModel",
      "_view_count": null,
      "_view_module": "@jupyter-widgets/base",
      "_view_module_version": "1.2.0",
      "_view_name": "StyleView",
      "bar_color": null,
      "description_width": "initial"
     }
    },
    "904e9ed49a9c4da289887ee902b12fb7": {
     "model_module": "@jupyter-widgets/controls",
     "model_name": "HBoxModel",
     "state": {
      "_dom_classes": [],
      "_model_module": "@jupyter-widgets/controls",
      "_model_module_version": "1.5.0",
      "_model_name": "HBoxModel",
      "_view_count": null,
      "_view_module": "@jupyter-widgets/controls",
      "_view_module_version": "1.5.0",
      "_view_name": "HBoxView",
      "box_style": "",
      "children": [
       "IPY_MODEL_15ebd4ad499143deb4ebaf3b90412aa5",
       "IPY_MODEL_060bf8af440445e089aca51d7f547503"
      ],
      "layout": "IPY_MODEL_3a33cef110044afcbccfe52a0df456a7"
     }
    },
    "caa6dfe2bb0e40ef9c7c16e1395a3a4b": {
     "model_module": "@jupyter-widgets/base",
     "model_name": "LayoutModel",
     "state": {
      "_model_module": "@jupyter-widgets/base",
      "_model_module_version": "1.2.0",
      "_model_name": "LayoutModel",
      "_view_count": null,
      "_view_module": "@jupyter-widgets/base",
      "_view_module_version": "1.2.0",
      "_view_name": "LayoutView",
      "align_content": null,
      "align_items": null,
      "align_self": null,
      "border": null,
      "bottom": null,
      "display": "inline-flex",
      "flex": null,
      "flex_flow": "row wrap",
      "grid_area": null,
      "grid_auto_columns": null,
      "grid_auto_flow": null,
      "grid_auto_rows": null,
      "grid_column": null,
      "grid_gap": null,
      "grid_row": null,
      "grid_template_areas": null,
      "grid_template_columns": null,
      "grid_template_rows": null,
      "height": null,
      "justify_content": null,
      "justify_items": null,
      "left": null,
      "margin": null,
      "max_height": null,
      "max_width": null,
      "min_height": null,
      "min_width": null,
      "object_fit": null,
      "object_position": null,
      "order": null,
      "overflow": null,
      "overflow_x": null,
      "overflow_y": null,
      "padding": null,
      "right": null,
      "top": null,
      "visibility": null,
      "width": "100%"
     }
    },
    "f5f08eaf7e56497d969ec3f86530d23b": {
     "model_module": "@jupyter-widgets/base",
     "model_name": "LayoutModel",
     "state": {
      "_model_module": "@jupyter-widgets/base",
      "_model_module_version": "1.2.0",
      "_model_name": "LayoutModel",
      "_view_count": null,
      "_view_module": "@jupyter-widgets/base",
      "_view_module_version": "1.2.0",
      "_view_name": "LayoutView",
      "align_content": null,
      "align_items": null,
      "align_self": null,
      "border": null,
      "bottom": null,
      "display": null,
      "flex": null,
      "flex_flow": null,
      "grid_area": null,
      "grid_auto_columns": null,
      "grid_auto_flow": null,
      "grid_auto_rows": null,
      "grid_column": null,
      "grid_gap": null,
      "grid_row": null,
      "grid_template_areas": null,
      "grid_template_columns": null,
      "grid_template_rows": null,
      "height": null,
      "justify_content": null,
      "justify_items": null,
      "left": null,
      "margin": null,
      "max_height": null,
      "max_width": null,
      "min_height": null,
      "min_width": null,
      "object_fit": null,
      "object_position": null,
      "order": null,
      "overflow": null,
      "overflow_x": null,
      "overflow_y": null,
      "padding": null,
      "right": null,
      "top": null,
      "visibility": null,
      "width": null
     }
    },
    "fe9b16820e0d497a9a6234b0cfed03e4": {
     "model_module": "@jupyter-widgets/base",
     "model_name": "LayoutModel",
     "state": {
      "_model_module": "@jupyter-widgets/base",
      "_model_module_version": "1.2.0",
      "_model_name": "LayoutModel",
      "_view_count": null,
      "_view_module": "@jupyter-widgets/base",
      "_view_module_version": "1.2.0",
      "_view_name": "LayoutView",
      "align_content": null,
      "align_items": null,
      "align_self": null,
      "border": null,
      "bottom": null,
      "display": null,
      "flex": null,
      "flex_flow": null,
      "grid_area": null,
      "grid_auto_columns": null,
      "grid_auto_flow": null,
      "grid_auto_rows": null,
      "grid_column": null,
      "grid_gap": null,
      "grid_row": null,
      "grid_template_areas": null,
      "grid_template_columns": null,
      "grid_template_rows": null,
      "height": null,
      "justify_content": null,
      "justify_items": null,
      "left": null,
      "margin": null,
      "max_height": null,
      "max_width": null,
      "min_height": null,
      "min_width": null,
      "object_fit": null,
      "object_position": null,
      "order": null,
      "overflow": null,
      "overflow_x": null,
      "overflow_y": null,
      "padding": null,
      "right": null,
      "top": null,
      "visibility": null,
      "width": null
     }
    }
   }
  }
 },
 "nbformat": 4,
 "nbformat_minor": 1
}
