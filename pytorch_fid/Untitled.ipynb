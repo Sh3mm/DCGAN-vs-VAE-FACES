{
 "cells": [
  {
   "cell_type": "code",
   "execution_count": null,
   "metadata": {},
   "outputs": [],
   "source": [
    "import pytorch_fid.fid_score as pfid\n",
    "import sys\n",
    "import pandas as pd"
   ]
  },
  {
   "cell_type": "code",
   "execution_count": null,
   "metadata": {},
   "outputs": [],
   "source": [
    "import torch\n",
    "def fid_calc(val):\n",
    "    args = pfid.parser.parse_args()\n",
    "\n",
    "    if args.device is None:\n",
    "        device = torch.device('cuda' if (torch.cuda.is_available()) else 'cpu')\n",
    "    else:\n",
    "        device = torch.device(args.device)\n",
    "\n",
    "    return pfid.calculate_fid_given_paths(args.path,\n",
    "                                          args.batch_size,\n",
    "                                          device,\n",
    "                                          args.dims,\n",
    "                                          args.num_workers,\n",
    "                                          val)\n"
   ]
  },
  {
   "cell_type": "code",
   "execution_count": null,
   "metadata": {},
   "outputs": [],
   "source": [
    "import os\n",
    "\n",
    "names = os.listdir('./imgs')\n",
    "fids = {}\n",
    "val = None\n",
    "for name in names:\n",
    "    sys.argv = ['path',r'./img_align_celeba/img_align_celeba', f'./imgs/{name}']\n",
    "    fid, val = fid_calc(val)\n",
    "    fids[name] = fid"
   ]
  },
  {
   "cell_type": "code",
   "execution_count": 1,
   "metadata": {},
   "outputs": [
    {
     "ename": "NameError",
     "evalue": "name 'pd' is not defined",
     "output_type": "error",
     "traceback": [
      "\u001b[1;31m---------------------------------------------------------------------------\u001b[0m",
      "\u001b[1;31mNameError\u001b[0m                                 Traceback (most recent call last)",
      "\u001b[1;32m<ipython-input-1-6006e405f520>\u001b[0m in \u001b[0;36m<module>\u001b[1;34m\u001b[0m\n\u001b[1;32m----> 1\u001b[1;33m \u001b[0mpd\u001b[0m\u001b[1;33m.\u001b[0m\u001b[0mDataFrame\u001b[0m\u001b[1;33m(\u001b[0m\u001b[1;33m)\u001b[0m\u001b[1;33m\u001b[0m\u001b[1;33m\u001b[0m\u001b[0m\n\u001b[0m",
      "\u001b[1;31mNameError\u001b[0m: name 'pd' is not defined"
     ]
    }
   ],
   "source": [
    "pd.DataFrame()"
   ]
  }
 ],
 "metadata": {
  "kernelspec": {
   "display_name": "Python 3.7.3 64-bit",
   "language": "python",
   "name": "python37364bitea2e097dcb304357a4b8dfbcff8e12ad"
  },
  "language_info": {
   "codemirror_mode": {
    "name": "ipython",
    "version": 3
   },
   "file_extension": ".py",
   "mimetype": "text/x-python",
   "name": "python",
   "nbconvert_exporter": "python",
   "pygments_lexer": "ipython3",
   "version": "3.7.3"
  }
 },
 "nbformat": 4,
 "nbformat_minor": 2
}
